{
 "cells": [
  {
   "cell_type": "markdown",
   "metadata": {},
   "source": [
    "# Final Project: Trends in Immigration amid Demographic Decline in Japan (Report and Code)\n",
    "\n",
    "**Author:** Kevin Jin\n",
    "\n",
    "**Course:** CB&B 634 Computational Methods for Informatics\n",
    "\n",
    "**Instructor:** Robert McDougal\n",
    "\n",
    "**Term:** Fall 2023"
   ]
  },
  {
   "cell_type": "markdown",
   "metadata": {},
   "source": [
    "# Introduction\n",
    "In July 2023, the Japanese government released data indicating that in 2022, the number of people in all 47 prefectures of the country fell for the first time since the government began tracking the data in 1968.[^1] Last year marked the 14th consecutive year that Japan's population has been falling and for the first time included Okinawa prefecture, which has historically had a high birthrate.[^2]\n",
    "\n",
    "Being a relatively new and unprecedented phenomenon, the consequences of population decline are chiefly theoretical; however, their beginnings are already being felt by Japanese society. The main detriment of a middle- or top-heavy population pyramid is a rise in the dependency ratio, or heavier reliance by the older generations on the younger generations and greater economic pressure on the workforce as a result.[^3] Greater risk of recession and decreased prosperity follow, accompanied by less innovation, worsened culture, declining military strength, strained mental health resources, and so on.[^4] As such, with a population already skewing older, Japan faces grim economic prospects. The Japanese government has invested a tremendous amount of resources into addressing the issue, yet heated debate continues over the causes of Japan's population decline and the potential solution of immigration and its implications.[^5]\n",
    "\n",
    "This report will present Japan's ongoing demographic crash in graphic detail and attempt to identify causes. It will also spotlight immigration and provide spatial insights into the state of immigration in Japan.\n",
    "\n",
    "[^1]: https://english.kyodonews.net/news/2023/07/c6b8e75dc7a9-japanese-population-falls-in-all-47-prefectures-for-1st-time.html\n",
    "[^2]: https://www.bloomberg.com/news/articles/2023-07-26/japanese-population-falls-in-all-47-prefectures-for-first-time\n",
    "[^3]: https://www.youtube.com/watch?v=LBudghsdByQ\n",
    "[^4]: https://en.wikipedia.org/w/index.php?title=Population_decline#Possible_consequences\n",
    "[^5]: https://www.economist.com/asia/2023/12/16/how-to-entice-japanese-couples-to-have-babies"
   ]
  },
  {
   "cell_type": "markdown",
   "metadata": {},
   "source": [
    "# Part 1: Demographic crash "
   ]
  },
  {
   "cell_type": "markdown",
   "metadata": {},
   "source": [
    "## 1a: How does Japan's fertility rate compare to peer nations?\n",
    "\n",
    "The first question to ask is whether Japan's situation is unique. "
   ]
  },
  {
   "cell_type": "markdown",
   "metadata": {},
   "source": [
    "### Background: Fertility rates\n",
    "To sustain a population, each woman within it needs to have somewhere around two children during her lifetime; interpreted in a vacuum, this value is known as the **total fertility rate** for that population and assumes that the woman's individual fertility rate remains constant throughout her lifetime and that she lives from birth until the end of her reproductive life. Total fertility rates can vary significantly from country to country depending on mortality rates.[^1] Averaged globally, the total fertility rate needed to sustain the world population (known as **replacement-level fertility**) is around 2.1.[^2] If the total fertility rate falls below replacement-level, each new generation will be less populous than the older, previous one, a phenomenon known as **sub-replacement fertility**.[^3] Japan's total fertility rate was around 1.26 in 2022, a record low that is well below replacement-level and especially striking considering that it has now declined for seven consecutive years, firmly placing it among countries with the lowest fertility rates.[^4]\n",
    "\n",
    "[^1]: https://en.wikipedia.org/w/index.php?title=Total_fertility_rate\n",
    "[^2]: https://doi.org/10.1023/B:POPU.0000020882.29684.8e\n",
    "[^3]: https://en.wikipedia.org/w/index.php?title=Sub-replacement_fertility\n",
    "[^4]: https://www.reuters.com/world/asia-pacific/japan-demographic-woes-deepen-birth-rate-hits-record-low-2023-06-02/"
   ]
  },
  {
   "cell_type": "markdown",
   "metadata": {},
   "source": [
    "### Dataset 1: Total fertility rates by country from 1960 - 2022\n",
    "Data was downloaded and sourced from [The World Bank](https://data.worldbank.org/indicator/SP.DYN.TFRT.IN) and includes data up through 2022 for countries of interest. The World Bank provides its data under the [Creative Commons Attribution 4.0 International license](https://creativecommons.org/licenses/by/4.0), but the specific license of this particular dataset is somewhat unclear. This data required manual data cleaning and should not be considered readily FAIR.\n",
    "\n",
    "#### Manual data cleaning\n",
    "Manually removed CSV headers (rows 1-4) and imputed total fertility rate data from 2022 for countries of interest, because 2022 data was missing. 2022 data was sourced from below:\n",
    "* Japan: [Reuters](https://www.reuters.com/world/asia-pacific/japan-demographic-woes-deepen-birth-rate-hits-record-low-2023-06-02/)\n",
    "* South Korea: [CNN](https://www.cnn.com/2023/12/15/asia/south-korea-to-see-population-plummet-intl-hnk/index.html)\n",
    "* China: [The Guardian](https://www.theguardian.com/world/2023/aug/16/china-fertility-rate-dropped-to-record-low-in-2022-estimates-show)\n",
    "* United States: [Centers for Disease Control and Prevention](https://www.cdc.gov/nchs/data/vsrr/vsrr028.pdf)\n",
    "* Europe: [OECD](https://data.oecd.org/pop/fertility-rates.htm)"
   ]
  },
  {
   "cell_type": "code",
   "execution_count": null,
   "metadata": {},
   "outputs": [],
   "source": [
    "# Load data for total fertility rates by year and country\n",
    "import pandas as pd\n",
    "\n",
    "fertility_rates = pd.read_csv(\"datasets/1_demographics/total_fertility_rates_by_year.csv\")\n",
    "fertility_rates.drop(columns=[\"Country Code\", \"Indicator Name\", \"Indicator Code\"], inplace=True) # Drop unnecessary columns\n",
    "fertility_rates = fertility_rates.transpose() # Transpose the dataframe for easier manipulation\n",
    "fertility_rates.rename(columns=fertility_rates.iloc[0], inplace=True) # Rename columns to country names\n",
    "fertility_rates.drop(fertility_rates.index[0], inplace = True) # Drop the first row\n",
    "fertility_rates.insert(0, 'Year', fertility_rates.index) # Add a column for the year\n",
    "fertility_rates = fertility_rates.reset_index() # Reset the index\n",
    "fertility_rates.head()\n",
    "fertility_rates.drop(columns=[\"index\"], inplace=True) # Drop the old index\n",
    "fertility_rates.drop(fertility_rates.tail(1).index, inplace=True) # Drop the last row of 2022, which is a row of NaNs"
   ]
  },
  {
   "cell_type": "code",
   "execution_count": null,
   "metadata": {},
   "outputs": [],
   "source": [
    "# Plot fertility rate for Japan only over 1960-2021\n",
    "import plotly.express as px\n",
    "\n",
    "fig = px.line(fertility_rates, x=\"Year\", y=\"Japan\", title=\"Total Fertility Rate in Japan\")\n",
    "fig.update_traces(line_color='crimson') # Change color of line\n",
    "fig.update_xaxes(tickmode='linear', tick0=1960, dtick=5, tickangle=45) # Only show x-axis labels every 5 years and rotate them 45 degrees\n",
    "fig.update_yaxes(range=[0, 8]) # Set y-axis range to 0-8\n",
    "fig.update_layout(title_text='Total Fertility Rate of Japan (1960 - 2021)', xaxis_title='Year', yaxis_title='Total Fertility Rate') # Plot and axis titles\n",
    "fig.add_hline(y=2.1, line_dash=\"dash\", line_color=\"black\", annotation_text=\"Global Replacement Fertility Rate\", annotation_position=\"top right\") # Indicate global average fertility rate of 2.1 with horizontal line\n",
    "fig.show()"
   ]
  },
  {
   "cell_type": "code",
   "execution_count": null,
   "metadata": {},
   "outputs": [],
   "source": [
    "# Plot fertility rates for Japan and peer nations over 1960-2021\n",
    "fig = px.line(fertility_rates, x=\"Year\", y=[\"Japan\", \"China\", \"Korea, Rep.\", \"India\", \"United States\", \"Germany\", \"France\", \"United Kingdom\", \"Italy\", \"Canada\", \"Australia\", \"Spain\", \"Russian Federation\"], title=\"Total Fertility Rates of Japan and Selected Nations\")\n",
    "fig.update_xaxes(tickmode='linear', tick0=1960, dtick=5, tickangle=45) # Only show x-axis labels every 5 years and rotate them 45 degrees\n",
    "fig.update_traces(line=dict(color='crimson'), selector=dict(name='Japan')) # Change the color of the Japan line\n",
    "fig.update_yaxes(range=[0, 8]) # Set y-axis range to 0-8\n",
    "fig.update_layout(title_text='Total Fertility Rates of Japan and Selected Nations (1960 - 2021)', xaxis_title='Year', yaxis_title='Total Fertility Rate') # Plot and axis titles\n",
    "fig.update_layout(legend_title_text='Country') # Move the legend to the top right corner\n",
    "fig.add_hline(y=2.1, line_dash=\"dash\", line_color=\"black\", annotation_text=\"Global Replacement Fertility Rate\", annotation_position=\"top right\") # Indicate global average fertility rate of 2.1 with horizontal line\n",
    "fig.show()"
   ]
  },
  {
   "cell_type": "markdown",
   "metadata": {},
   "source": [
    "**Commentary:** It is evident that Japan is not entirely unique in terms of having a declining fertility rate; in fact, it is in line with most other developed nations with regards to falling below replacement rates and continues to trend downwards."
   ]
  },
  {
   "cell_type": "markdown",
   "metadata": {},
   "source": [
    "## 1b: What is causing falling fertility rates?\n",
    "\n",
    "An often cited factor influencing decisions not to have children is increasing cost of living, which makes raising children especially difficult in countries that place high emphasis on long-term, costly investments such as education. Below, I will attempt to demonstrate an association between higher wages in developing countries and low fertility rates, and also show that this is not unique to Japan."
   ]
  },
  {
   "cell_type": "markdown",
   "metadata": {},
   "source": [
    "### Dataset 2: Average wage by country from 1991 - 2022\n",
    "\n",
    "Data was downloaded and sourced from [OECD](https://data.oecd.org/earnwage/average-wages.htm) and provided under a Creative Commons license. The specific licensing of this particular dataset is somewhat unclear. Because it did not require manual cleaning and came in CSV format, the data can be considered readily interoperable and FAIR."
   ]
  },
  {
   "cell_type": "code",
   "execution_count": null,
   "metadata": {},
   "outputs": [],
   "source": [
    "# Load wage data for Japan\n",
    "import pandas as pd\n",
    "\n",
    "wages = pd.read_csv(\"datasets/1_demographics/average_wages.csv\")\n",
    "wages_japan = wages[wages['LOCATION'] == \"JPN\"] # Take only Japan rows\n",
    "wages_japan = wages_japan[['TIME', 'Value']] # Grab year and value columns\n",
    "wages_japan.rename(columns={\"TIME\": \"Year\", \"Value\": \"Average Wage (USD)\"}, inplace=True) # Rename columns\n",
    "wages_japan.reset_index(drop=True, inplace=True) # Reset the index\n",
    "\n",
    "# Grab fertility rates for Japan from 1991 - 2022\n",
    "fertility_rates_japan = fertility_rates[[\"Year\", \"Japan\"]].apply(pd.to_numeric) # Convert columns to numeric\n",
    "fertility_rates_japan.rename(columns={\"Japan\": \"Total Fertility Rate\"}, inplace=True) # Rename column\n",
    "fertility_rates_japan = fertility_rates_japan[fertility_rates_japan['Year'] >= 1991] # Take only rows from 1991 onwards\n",
    "\n",
    "# Combine the two dataframes\n",
    "wages_japan = wages_japan.join(fertility_rates_japan.set_index('Year'), on='Year') # Join the two dataframes on the year column\n",
    "wages_japan.head()"
   ]
  },
  {
   "cell_type": "code",
   "execution_count": null,
   "metadata": {},
   "outputs": [],
   "source": [
    "# Plot average wages against fertility rates for Japan over 1991 - 2022\n",
    "import plotly.express as px\n",
    "\n",
    "fig = px.scatter(wages_japan, x=\"Average Wage (USD)\", y=\"Total Fertility Rate\", trendline=\"ols\", trendline_color_override=\"red\") # Plot scatter plot with linear trendline\n",
    "fig.update_layout(title_text='Average Wage vs. Total Fertility Rate in Japan (1991 - 2022)', xaxis_title='Average Wage (USD)', yaxis_title='Total Fertility Rate') # Plot and axis titles\n",
    "fig.show()"
   ]
  },
  {
   "cell_type": "code",
   "execution_count": null,
   "metadata": {},
   "outputs": [],
   "source": [
    "# Repeat for peer nations (United States, Canada, South Korea, United Kingdom, Germany, France) using multiple subplots\n",
    "from plotly.subplots import make_subplots\n",
    "\n",
    "# Grab fertility rates for peer nations from 1991 - 2022\n",
    "fertility_rates_peers = fertility_rates[[\"Year\", \"United States\", \"Canada\", \"Korea, Rep.\", \"United Kingdom\", \"Germany\", \"France\"]].apply(pd.to_numeric) # Convert columns to numeric\n",
    "fertility_rates_peers.rename(columns={\"United States\": \"United States\", \"Canada\": \"Canada\", \"Korea, Rep.\": \"South Korea\", \"United Kingdom\": \"United Kingdom\", \"Germany\": \"Germany\", \"France\": \"France\"}, inplace=True) # Rename columns\n",
    "fertility_rates_peers = fertility_rates_peers[fertility_rates_peers['Year'] >= 1991] # Take only rows from 1991 onwards\n",
    "\n",
    "# Combine fertility rates with average wages for peer nations\n",
    "wages_peers = wages[wages['LOCATION'].isin([\"USA\", \"CAN\", \"KOR\", \"GBR\", \"DEU\", \"FRA\"])] # Take only peer nations\n",
    "wages_peers = wages_peers[['LOCATION', 'TIME', 'Value']] # Grab country, year, and value columns\n",
    "wages_peers.rename(columns={\"TIME\": \"Year\", \"Value\": \"Average Wage (USD)\"}, inplace=True) # Rename columns\n",
    "wages_peers.reset_index(drop=True, inplace=True) # Reset the index\n",
    "wages_peers = wages_peers[wages_peers['Year'] >= 1991] # Take only rows from 1991 onwards\n",
    "wages_peers = wages_peers.pivot(index='Year', columns='LOCATION', values='Average Wage (USD)') # Pivot the dataframe to make country codes into columns\n",
    "wages_peers.reset_index(inplace=True) # Reset the index\n",
    "wages_peers = wages_peers.apply(pd.to_numeric) # Convert columns to numeric\n",
    "wages_peers = wages_peers.join(fertility_rates_peers.set_index('Year'), on='Year') # Join the two dataframes on the year column\n",
    "wages_peers.head()"
   ]
  },
  {
   "cell_type": "code",
   "execution_count": null,
   "metadata": {},
   "outputs": [],
   "source": [
    "# Plot average wages against fertility rates for peer nations over 1991 - 2022\n",
    "fig = make_subplots(rows=2, cols=3, subplot_titles=(\"United States\", \"Canada\", \"South Korea\", \"United Kingdom\", \"Germany\", \"France\"), x_title=\"Average Wage (USD)\", y_title=\"Total Fertility Rate\", ) # Create subplots\n",
    "fig.add_trace(px.scatter(wages_peers, x=\"USA\", y=\"United States\", trendline=\"ols\", trendline_color_override=\"red\").data[0], row=1, col=1) \n",
    "fig.add_trace(px.scatter(wages_peers, x=\"CAN\", y=\"Canada\", trendline=\"ols\", trendline_color_override=\"red\").data[0], row=1, col=2)\n",
    "fig.add_trace(px.scatter(wages_peers, x=\"KOR\", y=\"South Korea\", trendline=\"ols\", trendline_color_override=\"red\").data[0], row=1, col=3)\n",
    "fig.add_trace(px.scatter(wages_peers, x=\"GBR\", y=\"United Kingdom\", trendline=\"ols\", trendline_color_override=\"red\").data[0], row=2, col=1)\n",
    "fig.add_trace(px.scatter(wages_peers, x=\"DEU\", y=\"Germany\", trendline=\"ols\", trendline_color_override=\"red\").data[0], row=2, col=2)\n",
    "fig.add_trace(px.scatter(wages_peers, x=\"FRA\", y=\"France\", trendline=\"ols\", trendline_color_override=\"red\").data[0], row=2, col=3)\n",
    "fig.update_layout(title_text='Average Wage vs. Total Fertility Rate in Peer Nations (1991 - 2022)') # Plot title\n",
    "fig.show()"
   ]
  },
  {
   "cell_type": "markdown",
   "metadata": {},
   "source": [
    "**Commentary:** Can't get the trendlines to display on the subplots for some reason. In any case, Japan is far from alone in displaying an inversely proportional association between average wage and fertility rate."
   ]
  },
  {
   "cell_type": "markdown",
   "metadata": {},
   "source": [
    "## 2a: What kinds of people are coming to Japan?"
   ]
  },
  {
   "cell_type": "markdown",
   "metadata": {},
   "source": [
    "### Dataset 3: Visa application by nationality in Japan\n",
    "[Visa Application by Nationality in Japan](https://www.kaggle.com/datasets/yutodennou/visa-issuance-by-nationality-and-region-in-japan/data) is a multivariate dataset compiled by Waticson on Kaggle. It primarily contains information on numbers of visas issued as well as purpose of visit per country from 2006 to 2017. This dataset is explicitly licensed using the [Database Contents License (DbCL) v1.0, from Open Data Commons.](https://opendatacommons.org/licenses/dbcl/1-0/), which permits reuse. It is considered FAIR."
   ]
  },
  {
   "cell_type": "code",
   "execution_count": null,
   "metadata": {},
   "outputs": [],
   "source": [
    "# Load visa data for Japan\n",
    "import pandas as pd\n",
    "visas = pd.read_csv(\"datasets/2_immigration/visa_number_in_japan.csv\")\n",
    "visas.head()"
   ]
  },
  {
   "cell_type": "code",
   "execution_count": null,
   "metadata": {},
   "outputs": [],
   "source": [
    "# Plot total visas issued by Japan from 2006-2017\n",
    "import plotly.express as px\n",
    "total = visas[visas[\"Country\"] == \"total\"] # Pull country totals\n",
    "visas = visas[visas[\"Country\"] != \"total\"].reset_index(drop=True) # Delete non-total rows\n",
    "\n",
    "fig = px.bar(total, x=\"Year\", y=\"Number of issued\")\n",
    "fig.update_layout(title=\"Total visas issued by Japan from 2006-2017\")\n",
    "fig.show()"
   ]
  },
  {
   "cell_type": "code",
   "execution_count": null,
   "metadata": {},
   "outputs": [],
   "source": [
    "# Plot visas issued for top ten countries of issuance except China from 2006-2017\n",
    "top_countries = visas[visas['Country'] != 'total'].groupby('Country')['Number of issued'].sum().nlargest(10).index\n",
    "top_countries_data = visas[(visas['Country'].isin(top_countries)) & (visas['Country'] != 'total')]\n",
    "top_countries_data = top_countries_data[top_countries_data['Country'] != 'China']\n",
    "\n",
    "fig = px.line(top_countries_data, x='Year', y='Number of issued', color='Country')\n",
    "fig.update_layout(title='Number of Visas Issued for Top Ten Countries of Issuance, excluding China (2006-2017)',\n",
    "                  xaxis_title='Year',\n",
    "                  yaxis_title='Number of Visas Issued')\n",
    "fig.show()"
   ]
  },
  {
   "cell_type": "code",
   "execution_count": null,
   "metadata": {},
   "outputs": [],
   "source": [
    "# Plot visas issued for top ten countries of issuance (with China) from 2006-2017\n",
    "top_countries = visas[visas['Country'] != 'total'].groupby('Country')['Number of issued'].sum().nlargest(10).index\n",
    "top_countries_data = visas[(visas['Country'].isin(top_countries)) & (visas['Country'] != 'total')]\n",
    "\n",
    "fig = px.line(top_countries_data, x='Year', y='Number of issued', color='Country')\n",
    "fig.update_layout(title='Number of Visas Issued Over Time for Top Ten Countries of Issuance (2006-2017)',\n",
    "                  xaxis_title='Year',\n",
    "                  yaxis_title='Number of Visas Issued')\n",
    "fig.show()"
   ]
  },
  {
   "cell_type": "markdown",
   "metadata": {},
   "source": [
    "**Commentary:** The number of visas issued by Japan steadily increased from 2006-2017, suggesting a steady increase in the number of immigrants that has not offset the falling fertility rate. China has remained the country sending the most visa applicants throughout, by far. However, Southeast Asian countries (notably Vietnam, the Philippines, and Indonesia) are rising in recent years."
   ]
  },
  {
   "cell_type": "code",
   "execution_count": null,
   "metadata": {},
   "outputs": [],
   "source": [
    "# Attempt to predict the number of visas issued for each country in 2018 using Random Forests\n",
    "import pandas as pd\n",
    "from sklearn.model_selection import train_test_split\n",
    "from sklearn.ensemble import RandomForestClassifier\n",
    "from sklearn.metrics import accuracy_score\n",
    "from sklearn.preprocessing import StandardScaler\n",
    "\n",
    "# Load the dataset\n",
    "visas = pd.read_csv(\"datasets/2_immigration/visa_number_in_japan.csv\")\n",
    "\n",
    "# Preprocess the data\n",
    "X = visas.drop(columns=[\"Country\"])\n",
    "X.fillna(0, inplace=True) # Replace NaN with 0\n",
    "y = visas[\"Country\"]\n",
    "\n",
    "# Normalize the data\n",
    "scaler = StandardScaler()\n",
    "X_normalized = scaler.fit_transform(X)\n",
    "\n",
    "# Split the data into training and testing sets\n",
    "X_train, X_test, y_train, y_test = train_test_split(X_normalized, y, test_size=0.2, random_state=42)\n",
    "\n",
    "# Create and train the Random Forest classifier\n",
    "n_estimators = 100  # Number of trees in the forest\n",
    "model = RandomForestClassifier(n_estimators=n_estimators)\n",
    "model.fit(X_train, y_train)\n",
    "\n",
    "# Make predictions on the test set\n",
    "y_pred = model.predict(X_test)\n",
    "\n",
    "# Evaluate the model\n",
    "accuracy = accuracy_score(y_test, y_pred)\n",
    "print(\"Accuracy:\", accuracy)\n",
    "\n",
    "# Make a prediction\n",
    "prediction = model.predict(X_test[0].reshape(1, -1))\n",
    "print(\"Prediction:\", prediction)"
   ]
  },
  {
   "cell_type": "code",
   "execution_count": null,
   "metadata": {},
   "outputs": [],
   "source": [
    "# Plot feature importances of the Random Forest classifier\n",
    "import matplotlib.pyplot as plt\n",
    "\n",
    "# Get feature importances\n",
    "importances = model.feature_importances_\n",
    "\n",
    "# Get feature names\n",
    "feature_names = X.columns\n",
    "\n",
    "# Sort feature importances in descending order\n",
    "indices = importances.argsort()[::-1]\n",
    "\n",
    "plt.figure(figsize=(10, 6))\n",
    "plt.bar(range(X.shape[1]), importances[indices])\n",
    "plt.xticks(range(X.shape[1]), feature_names[indices], rotation=90)\n",
    "plt.xlabel(\"Features\")\n",
    "plt.ylabel(\"Importance\")\n",
    "plt.title(\"Feature Importance\")\n",
    "plt.show()"
   ]
  },
  {
   "cell_type": "markdown",
   "metadata": {},
   "source": [
    "## 2b: Where are they going?"
   ]
  },
  {
   "cell_type": "markdown",
   "metadata": {},
   "source": [
    "### Dataset 4: Spatial distribution of foreign residents within Japan\n",
    "\n",
    "Number of foreign residents in Japan was sourced from [e-Stat](http://www.e-stat.go.jp/SG1/estat/List.do?lid=000001424763), which is an online portal run by the National Statistics Bureau of Japan. Data is provided and allowed to be shared contingent on credit being given to this source. As the original dataset is in Japanese and provided all cities and smaller administrative divisions rather than just prefectures, substantial manual cleaning, filtering, and language translation was performed. This dataset should not be considered FAIR.\n",
    "\n",
    "Geospatial administrative division data for Japan's prefectures was sourced from a GitHub user who obtained it from the [National Land Information Division](https://github.com/piuccio/open-data-jp-prefectures-geojson) of the Ministry of Land, Infrastructure, Transport, and Tourism. The minimalist nature of this dataset means that it should be considered FAIR, but it comes with the substantial caveat that it is a very large-sized dataset that can slow down machines."
   ]
  },
  {
   "cell_type": "code",
   "execution_count": null,
   "metadata": {},
   "outputs": [],
   "source": [
    "# Load administrative boundary data for Japan's prefectures\n",
    "import geopandas as gpd\n",
    "\n",
    "japan = gpd.read_file(\"datasets/2_immigration/prefectures.geojson\")\n",
    "prefectures_english = [\n",
    "    \"Hokkaido\", \"Aomori\", \"Iwate\", \"Miyagi\", \"Akita\", \"Yamagata\", \"Fukushima\", \"Ibaraki\", \"Tochigi\", \n",
    "    \"Gunma\", \"Saitama\", \"Chiba\", \"Tokyo\", \"Kanagawa\", \"Niigata\", \"Toyama\", \"Ishikawa\", \"Fukui\", \n",
    "    \"Yamanashi\", \"Nagano\", \"Gifu\", \"Shizuoka\", \"Aichi\", \"Mie\", \"Shiga\", \"Kyoto\", \"Osaka\", \"Hyogo\", \n",
    "    \"Nara\", \"Wakayama\", \"Tottori\", \"Shimane\", \"Okayama\", \"Hiroshima\", \"Yamaguchi\", \"Tokushima\", \n",
    "    \"Kagawa\", \"Ehime\", \"Kochi\", \"Fukuoka\", \"Saga\", \"Nagasaki\", \"Kumamoto\", \"Oita\", \"Miyazaki\", \n",
    "    \"Kagoshima\", \"Okinawa\"\n",
    "]\n",
    "japan['P'] = prefectures_english\n",
    "japan.rename(columns={'P': 'Prefecture'}, inplace=True)\n",
    "japan.head()"
   ]
  },
  {
   "cell_type": "code",
   "execution_count": null,
   "metadata": {},
   "outputs": [],
   "source": [
    "# Load foreign resident data\n",
    "import pandas as pd\n",
    "\n",
    "foreigners = pd.read_csv(\"datasets/2_immigration/foreign_residents.csv\")\n",
    "foreigners = foreigners.drop(0) # Drop first row\n",
    "foreigners.head()"
   ]
  },
  {
   "cell_type": "code",
   "execution_count": null,
   "metadata": {},
   "outputs": [],
   "source": [
    "# Merge two dataframes\n",
    "japan_foreigners = japan.merge(foreigners, on='Prefecture') # Add foreign resident data to prefecture geodataframe\n",
    "japan_foreigners[japan_foreigners.columns[2:]] = japan_foreigners[japan_foreigners.columns[2:]].replace(',','', regex=True) # Strip commas from numbers \n",
    "japan_foreigners[japan_foreigners.columns[2:]] = japan_foreigners[japan_foreigners.columns[2:]].apply(pd.to_numeric)\n",
    "japan_foreigners.head()"
   ]
  },
  {
   "cell_type": "code",
   "execution_count": null,
   "metadata": {},
   "outputs": [],
   "source": [
    "# Plot map of Japan prefectures colored by number of foreign residents\n",
    "import plotly.express as px\n",
    "\n",
    "fig = px.choropleth_mapbox(japan_foreigners, \n",
    "                           geojson=japan_foreigners.geometry, \n",
    "                           locations=japan_foreigners.index, \n",
    "                           color=\"Total\", \n",
    "                           hover_name=\"Prefecture\", \n",
    "                           hover_data=\"Total\", \n",
    "                           mapbox_style=\"carto-positron\", \n",
    "                           zoom=3, \n",
    "                           center = {\"lat\": 37.0902, \"lon\": 138.7129}, \n",
    "                           opacity=0.5, \n",
    "                           labels={'Total':'Number of Foreign Residents'})\n",
    "fig.update_layout(title_text='Number of Foreign Residents in Japan by Prefecture (2023)')\n",
    "fig.show()"
   ]
  },
  {
   "cell_type": "markdown",
   "metadata": {},
   "source": [
    "**Commentary:** It is evident that most of Japan's foreign residents are concentrated heavily in larger cities (specifically Tokyo). "
   ]
  },
  {
   "cell_type": "markdown",
   "metadata": {},
   "source": [
    "# Conclusion\n"
   ]
  }
 ],
 "metadata": {
  "kernelspec": {
   "display_name": "Python 3 (ipykernel)",
   "language": "python",
   "name": "python3"
  },
  "language_info": {
   "codemirror_mode": {
    "name": "ipython",
    "version": 3
   },
   "file_extension": ".py",
   "mimetype": "text/x-python",
   "name": "python",
   "nbconvert_exporter": "python",
   "pygments_lexer": "ipython3",
   "version": "3.12.1"
  }
 },
 "nbformat": 4,
 "nbformat_minor": 4
}
