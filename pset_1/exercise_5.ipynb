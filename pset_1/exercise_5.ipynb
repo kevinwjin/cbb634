{
 "cells": [
  {
   "cell_type": "markdown",
   "metadata": {},
   "source": [
    "# Exercise 5: Analysis of MeSH data\n",
    "Data from [The National Library of Medicine](https://nlmpubs.nlm.nih.gov/projects/mesh/MESH_FILES/xmlmesh/)."
   ]
  },
  {
   "cell_type": "code",
   "execution_count": 6,
   "metadata": {},
   "outputs": [],
   "source": [
    "# Download and parse XML\n",
    "import requests\n",
    "import xml.etree.ElementTree as ET\n",
    "response = requests.get(\"https://nlmpubs.nlm.nih.gov/projects/mesh/MESH_FILES/xmlmesh/desc2023.xml\")\n",
    "mesh = ET.parse(response.text)"
   ]
  },
  {
   "cell_type": "code",
   "execution_count": 6,
   "metadata": {},
   "outputs": [],
   "source": [
    "# Iterative parsing\n",
    "context = ET.iterparse(response.text, events = (\"start\", \"end\"))\n",
    "for index, (event, elem) in enumerate(context):\n",
    "    if index == 0:\n",
    "        root = elem\n",
    "    if event == \"end\" and elem.tag == \"record\":\n",
    "        # Do something\n",
    "        root.clear()"
   ]
  },
  {
   "cell_type": "code",
   "execution_count": null,
   "metadata": {},
   "outputs": [],
   "source": [
    "# Extract values of interest\n"
   ]
  },
  {
   "cell_type": "markdown",
   "metadata": {},
   "source": [
    "**Biomedical explanation:**"
   ]
  },
  {
   "cell_type": "code",
   "execution_count": null,
   "metadata": {},
   "outputs": [],
   "source": [
    "# Generic function versions\n",
    "def get_name(ui):\n",
    "    pass\n",
    "\n",
    "def get_ui(name):\n",
    "    pass\n",
    "\n",
    "def get_descendent_names(ui, name):\n",
    "    pass"
   ]
  }
 ],
 "metadata": {
  "kernelspec": {
   "display_name": "Python 3",
   "language": "python",
   "name": "python3"
  },
  "language_info": {
   "codemirror_mode": {
    "name": "ipython",
    "version": 3
   },
   "file_extension": ".py",
   "mimetype": "text/x-python",
   "name": "python",
   "nbconvert_exporter": "python",
   "pygments_lexer": "ipython3",
   "version": "3.11.5"
  },
  "orig_nbformat": 4
 },
 "nbformat": 4,
 "nbformat_minor": 2
}
