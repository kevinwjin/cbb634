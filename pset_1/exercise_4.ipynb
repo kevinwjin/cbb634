{
 "cells": [
  {
   "cell_type": "markdown",
   "metadata": {},
   "source": [
    "# Exercise 4: Analysis of historical COVID-19 data\n",
    "Data from [The New York Times](https://github.com/nytimes/covid-19-data), based on reports from state and local health agencies."
   ]
  },
  {
   "cell_type": "code",
   "execution_count": null,
   "metadata": {},
   "outputs": [],
   "source": [
    "# Load historical data for COVID-19 cases by state\n",
    "import pandas as pd\n",
    "\n",
    "covid = pd.read_csv(\"https://raw.githubusercontent.com/nytimes/covid-19-data/master/us-states.csv\")\n",
    "covid['date'] = pd.to_datetime(covid['date']) # Convert date column to date format (necessary for seaborn x-axis to work)\n",
    "covid = covid.assign(new_cases = covid.groupby(['state']).cases.diff()).fillna(0) # Calculate daily new cases"
   ]
  },
  {
   "cell_type": "code",
   "execution_count": null,
   "metadata": {},
   "outputs": [],
   "source": [
    "# Plot new cases by state\n",
    "import seaborn as sb\n",
    "\n",
    "def cases_vs_date(data, states):\n",
    "    data = data[data['state'].isin(states)] # Select only rows matching indicated states\n",
    "    data_wide = data.pivot(index = \"date\", columns = \"state\", values = \"new_cases\") # Convert to wide-form data\n",
    "    plot = sb.lineplot(data = data_wide) # Create line plot\n",
    "    plot.set(title = \"New COVID-19 Cases by Date (Data from The New York Times)\", # Set title\n",
    "             xlabel = \"Date\", # Set axis labels \n",
    "             ylabel = \"Cases\")\n",
    "    plot.set_xticklabels(plot.get_xticklabels(), \n",
    "                         rotation = 45, # Rotate x-axis labels\n",
    "                         horizontalalignment = \"right\") # Shift x-axis labels to the left"
   ]
  },
  {
   "cell_type": "code",
   "execution_count": null,
   "metadata": {},
   "outputs": [],
   "source": [
    "# Tests\n",
    "import warnings\n",
    "warnings.filterwarnings('ignore') # Suppress seaborn's warnings\n",
    "\n",
    "states = [\"Texas\", \"California\", \"Connecticut\", \"Massachusetts\"]\n",
    "cases_vs_date(covid, states)"
   ]
  },
  {
   "cell_type": "markdown",
   "metadata": {},
   "source": [
    "**Limitations:** This method appears to be occasionally process daily new cases incorrectly, causing the number to sometimes dip below zero as seen on the graph."
   ]
  },
  {
   "cell_type": "code",
   "execution_count": null,
   "metadata": {},
   "outputs": [],
   "source": [
    "# Code\n",
    "def date_highest_new_cases(data, state):\n",
    "    data = data[data['state'].str.contains(state)] # Select only rows matching indicated states\n",
    "    return str(data.loc[data['new_cases'].idxmax(), ]['date'].date()) # Find date with highest number of daily cases"
   ]
  },
  {
   "cell_type": "code",
   "execution_count": null,
   "metadata": {},
   "outputs": [],
   "source": [
    "# Tests\n",
    "states = [\"California\", \"Texas\", \"Connecticut\", \"Massachusetts\"]\n",
    "for state in states:\n",
    "    print(f\"{state} had the highest number of COVID-19 cases on {date_highest_new_cases(covid, state)}.\")"
   ]
  },
  {
   "cell_type": "code",
   "execution_count": null,
   "metadata": {},
   "outputs": [],
   "source": [
    "# Code\n",
    "from dateutil.parser import parse\n",
    "\n",
    "def case_peaks(state_1, state_2):\n",
    "     date_1 = parse(date_highest_new_cases(covid, state_1))\n",
    "     date_2 = parse(date_highest_new_cases(covid, state_2))\n",
    "     if date_1 < date_2:\n",
    "          print(state_1, \"peaked\", (date_2 - date_1).days, \"days ahead of\", state_2) \n",
    "     elif date_1 > date_2:\n",
    "          print(state_2, \"peaked\", (date_1 - date_2).days, \"days ahead of\", state_1) \n",
    "     else:\n",
    "          print(state_1, \"and\", state_2, \"peaked on the same day\")          "
   ]
  },
  {
   "cell_type": "code",
   "execution_count": null,
   "metadata": {},
   "outputs": [],
   "source": [
    "# Tests\n",
    "case_peaks(\"California\", \"New York\")\n",
    "case_peaks(\"Texas\", \"Texas\")\n",
    "case_peaks(\"Hawaii\", \"Montana\")\n",
    "case_peaks(\"Florida\", \"South Carolina\")\n",
    "case_peaks(\"District of Columbia\", \"Maryland\")"
   ]
  }
 ],
 "metadata": {
  "language_info": {
   "name": "python"
  },
  "orig_nbformat": 4
 },
 "nbformat": 4,
 "nbformat_minor": 2
}
