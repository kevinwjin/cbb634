{
 "cells": [
  {
   "cell_type": "markdown",
   "metadata": {},
   "source": [
    "# Exercise 3: Intravenous fluid administration"
   ]
  },
  {
   "cell_type": "code",
   "execution_count": null,
   "metadata": {},
   "outputs": [],
   "source": [
    "# Medical device company's first draft of code\n",
    "def administer_meds(delta_t, tstop): # Arguments: time increment, time limit to stop administration\n",
    "    t = 0 # Start time\n",
    "    while t < tstop: # Stop administration once time limit is elapsed\n",
    "        print(f\"Administering meds at t={t}\") # Release fluids\n",
    "        t += delta_t # Advance time"
   ]
  },
  {
   "cell_type": "markdown",
   "metadata": {},
   "source": [
    "**Explanation:** The function administers medication until a defined time limit (`tstop`), incrementing by a defined time interval (`delta_t`). It administers one dose per loop, for a total of `t / delta_t` doses."
   ]
  },
  {
   "cell_type": "code",
   "execution_count": null,
   "metadata": {},
   "outputs": [],
   "source": [
    "print(\"Dose Test 1\")\n",
    "administer_meds(0.25, 1)\n",
    "print(\"Dose Test 2\")\n",
    "administer_meds(0.1, 1)"
   ]
  },
  {
   "cell_type": "markdown",
   "metadata": {},
   "source": [
    "**Explanation, discussion of findings, and clinical significance:** Calling `administer_meds(0.25, 1)` causes the loop to run four times, administering four doses. Because the function administers the dose first before incrementing the time, the doses are administered starting at $time = 0$, incrementing by $0.25$ for a total of four doses until $1.0$ is reached. This is expected behavior, as $1/0.25 = 4$ doses were expected, and all of the exact times were reached. The clinical significance of this result is that the doses are administered correctly, but administered a bit in advance before the time limit is reached.\n",
    "\n",
    "On the other hand, calling `administer_meds(0.1, 1)` causes the loop to run 11 times, administering 11 doses at odd time intervals. This is unexpected behavior, because $1/0.1=10$ doses were expected, the time intervals were not consistent, and there were strange floating point numbers (`t=0.30000000000000004`, `t=0.7999999999999999`, `t=0.8999999999999999`, `t=0.9999999999999999`). This is due to [how Python represents floating point numbers](https://docs.python.org/3/tutorial/floatingpoint.html): floating point numbers in Python are only an approximation with a limited number of significant digits. Consequently, arithmetic with these numbers can produce unexpected results. The clinical significance of this result is that the function administers more doses than intended, may be administering them at unintended times, and administers them a bit in advance before the time limit is reached."
   ]
  },
  {
   "cell_type": "code",
   "execution_count": null,
   "metadata": {},
   "outputs": [],
   "source": [
    "# Version without surprises:\n",
    "from decimal import * # Python's decimal library has higher precision decimal arithmetic\n",
    "\n",
    "def administer_meds(delta_t, tstop):\n",
    "    t = 0\n",
    "    while t < tstop:\n",
    "        print(f\"Administering meds at t={t}\")\n",
    "        t += Decimal(delta_t)"
   ]
  },
  {
   "cell_type": "code",
   "execution_count": null,
   "metadata": {},
   "outputs": [],
   "source": [
    "# Tests\n",
    "print(\"Dose Test 1\")\n",
    "administer_meds(0.25, 1)\n",
    "print(\"Dose Test 2\")\n",
    "administer_meds(0.1, 1)"
   ]
  }
 ],
 "metadata": {
  "language_info": {
   "name": "python"
  },
  "orig_nbformat": 4
 },
 "nbformat": 4,
 "nbformat_minor": 2
}
