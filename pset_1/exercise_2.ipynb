{
 "cells": [
  {
   "cell_type": "markdown",
   "metadata": {},
   "source": [
    "# Exercise 2: FASTQ and Unicode"
   ]
  },
  {
   "cell_type": "code",
   "execution_count": null,
   "metadata": {},
   "outputs": [],
   "source": [
    "# Code\n",
    "def better_quality(char_a, char_b):\n",
    "    codepoint_a = ord(char_a) # Convert characters to Unicode code points (numbers)\n",
    "    codepoint_b = ord(char_b)\n",
    "    if codepoint_a > codepoint_b:\n",
    "        return char_a\n",
    "    return char_b"
   ]
  },
  {
   "cell_type": "code",
   "execution_count": null,
   "metadata": {},
   "outputs": [],
   "source": [
    "# Tests\n",
    "test_a = \"!\"\n",
    "test_b = \"(\"\n",
    "print(\"The quality of\", test_a, \"is\", ord(test_a))\n",
    "print(\"The quality of\", test_b, \"is\", ord(test_b))\n",
    "print(\"The character with better quality is\", better_quality(\"!\", \"(\"))"
   ]
  },
  {
   "cell_type": "markdown",
   "metadata": {},
   "source": [
    "**Explanation:** As demonstrated above, I first select two characters, `test_a` and `test_b`, and provide their Unicode code points. It is clear that `test_a` has a lower code point (or quality score) than `test_b`. I then test my function, which accurately determines that `test_b` is of higher quality. "
   ]
  },
  {
   "cell_type": "code",
   "execution_count": null,
   "metadata": {},
   "outputs": [],
   "source": [
    "# Code\n",
    "def best_quality(seq):\n",
    "    # Calculate quality scores for the given sequence\n",
    "    quality_scores = []\n",
    "    for i in range(len(seq)):\n",
    "        quality_scores.append(ord(seq[i]))\n",
    "\n",
    "    # Calculate average quality score of the sequence\n",
    "    avg = sum(quality_scores) / len(quality_scores)     \n",
    "\n",
    "    # Create dictionary of responses\n",
    "    answers = {\n",
    "        \"best\":  max(quality_scores),\n",
    "        \"average_num\": avg, # Average quality score of the sequence\n",
    "        \"average_char\": chr(int(avg)) # Average quality score as a Unicode character (average is a float, which is truncated)\n",
    "    }\n",
    "    return answers"
   ]
  },
  {
   "cell_type": "code",
   "execution_count": null,
   "metadata": {},
   "outputs": [],
   "source": [
    "# Tests\n",
    "seq = \"!''*((((***+))%%%++)(%%%%).1***-+*''))**55CCF>>>>>>CCCCCCC65\"\n",
    "best_quality(seq)"
   ]
  },
  {
   "cell_type": "markdown",
   "metadata": {},
   "source": [
    "**Explanation:** To determine the best quality score in the given string, I first create a list to hold the quality scores and calculate the quality scores for each character in the string, appending each to the list. Then, when reporting the answer, I find the maximum score in the list, extract the index of that score, and report the character corresponding to that index in the original string. To calculate the average quality score, I sum all the quality scores in the list and divide by the length of the list; this returned a float. To report this as a character, I chose to truncate the float by casting it as an integer, and then converting it to a character. Consequently, the average character may be inflated or deflated compared to the actual average depending on the decimal. To simultaneously report the best quality measurement, the average quality measurement, and the single-character quality score, I chose to return a dictionary. I am convinced that the function works because it correctly reports the best quality character, `F`, which has the highest code point in Unicode; it provides a reasonable average quality score; and the average character is the correct conversion from the average score."
   ]
  }
 ],
 "metadata": {
  "language_info": {
   "name": "python"
  },
  "orig_nbformat": 4
 },
 "nbformat": 4,
 "nbformat_minor": 2
}
