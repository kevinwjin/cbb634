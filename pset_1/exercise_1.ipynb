{
 "cells": [
  {
   "cell_type": "markdown",
   "metadata": {},
   "source": [
    "# Dependencies\n",
    "Execute the following in the terminal before running any notebooks:\n",
    "`pip install -r requirements.txt`"
   ]
  },
  {
   "cell_type": "markdown",
   "metadata": {},
   "source": [
    "# Exercise 1: Body temperature clinical decision support"
   ]
  },
  {
   "cell_type": "code",
   "execution_count": 1,
   "metadata": {},
   "outputs": [],
   "source": [
    "# Code\n",
    "def temp_tester(normalTemp): # Defines normal body temperature\n",
    "    def tester(givenTemp): # Tests given temperature against normal body temperature\n",
    "        if abs(normalTemp - givenTemp) <= 1:\n",
    "            return True\n",
    "        return False\n",
    "    return tester"
   ]
  },
  {
   "cell_type": "code",
   "execution_count": 2,
   "metadata": {},
   "outputs": [
    {
     "name": "stdout",
     "output_type": "stream",
     "text": [
      "True\n",
      "False\n",
      "False\n",
      "False\n",
      "False\n"
     ]
    }
   ],
   "source": [
    "# Tests\n",
    "human_tester = temp_tester(37)\n",
    "chicken_tester = temp_tester(41.1)\n",
    "\n",
    "print(chicken_tester(42)) # True\n",
    "print(human_tester(42)) # False\n",
    "print(chicken_tester(43)) # False\n",
    "print(human_tester(35)) # False\n",
    "print(human_tester(98.6)) # False"
   ]
  }
 ],
 "metadata": {
  "kernelspec": {
   "display_name": "Python 3",
   "language": "python",
   "name": "python3"
  },
  "language_info": {
   "codemirror_mode": {
    "name": "ipython",
    "version": 3
   },
   "file_extension": ".py",
   "mimetype": "text/x-python",
   "name": "python",
   "nbconvert_exporter": "python",
   "pygments_lexer": "ipython3",
   "version": "3.11.5"
  },
  "orig_nbformat": 4
 },
 "nbformat": 4,
 "nbformat_minor": 2
}
