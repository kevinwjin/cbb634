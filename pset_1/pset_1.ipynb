{
 "cells": [
  {
   "cell_type": "markdown",
   "metadata": {},
   "source": [
    "# Dependencies\n",
    "Execute the following in the terminal before running this notebook:\n",
    "`pip install -r requirements.txt`"
   ]
  },
  {
   "cell_type": "markdown",
   "metadata": {},
   "source": [
    "# Exercise 1: Body temperature clinical decision support"
   ]
  },
  {
   "cell_type": "code",
   "execution_count": 13,
   "metadata": {},
   "outputs": [],
   "source": [
    "# Code\n",
    "def temp_tester(normalTemp): # Defines normal body temperature\n",
    "    def tester(givenTemp): # Tests given temperature against normal body temperature\n",
    "        if abs(normalTemp - givenTemp) <= 1:\n",
    "            return True\n",
    "        return False\n",
    "    return tester"
   ]
  },
  {
   "cell_type": "code",
   "execution_count": 14,
   "metadata": {},
   "outputs": [
    {
     "name": "stdout",
     "output_type": "stream",
     "text": [
      "True\n",
      "False\n",
      "False\n",
      "False\n",
      "False\n"
     ]
    }
   ],
   "source": [
    "# Tests\n",
    "human_tester = temp_tester(37)\n",
    "chicken_tester = temp_tester(41.1)\n",
    "\n",
    "print(chicken_tester(42)) # True\n",
    "print(human_tester(42)) # False\n",
    "print(chicken_tester(43)) # False\n",
    "print(human_tester(35)) # False\n",
    "print(human_tester(98.6)) # False"
   ]
  },
  {
   "cell_type": "markdown",
   "metadata": {},
   "source": [
    "# Exercise 2: FASTQ and Unicode"
   ]
  },
  {
   "cell_type": "code",
   "execution_count": 1,
   "metadata": {},
   "outputs": [],
   "source": [
    "# Code\n",
    "def better_quality(char_a, char_b):\n",
    "    codepoint_a = ord(char_a) # Convert characters to Unicode code points (numbers)\n",
    "    codepoint_b = ord(char_b)\n",
    "    if codepoint_a > codepoint_b:\n",
    "        return char_a\n",
    "    return char_b"
   ]
  },
  {
   "cell_type": "code",
   "execution_count": 4,
   "metadata": {},
   "outputs": [
    {
     "name": "stdout",
     "output_type": "stream",
     "text": [
      "The quality of ! is 33\n",
      "The quality of ( is 40\n",
      "The character with better quality is (\n"
     ]
    }
   ],
   "source": [
    "# Tests\n",
    "test_a = \"!\"\n",
    "test_b = \"(\"\n",
    "print(\"The quality of\", test_a, \"is\", ord(test_a))\n",
    "print(\"The quality of\", test_b, \"is\", ord(test_b))\n",
    "print(\"The character with better quality is\", better_quality(\"!\", \"(\"))"
   ]
  },
  {
   "cell_type": "markdown",
   "metadata": {},
   "source": [
    "**Explanation:** As demonstrated above, I first select two characters, `test_a` and `test_b`, and provide their Unicode code points. It is clear that `test_a` has a lower code point (or quality score) than `test_b`. I then test my function, which accurately determines that `test_b` is of higher quality. "
   ]
  },
  {
   "cell_type": "code",
   "execution_count": 5,
   "metadata": {},
   "outputs": [],
   "source": [
    "# Code\n",
    "def best_quality(seq):\n",
    "    # Calculate quality scores for the given sequence\n",
    "    quality_scores = []\n",
    "    for i in range(len(seq)):\n",
    "        quality_scores.append(ord(seq[i]))\n",
    "\n",
    "    # Calculate average quality score of the sequence\n",
    "    avg = sum(quality_scores) / len(quality_scores)     \n",
    "\n",
    "    # Create dictionary of responses\n",
    "    answers = {\n",
    "        \"best\":  max(quality_scores),\n",
    "        \"average_num\": avg, # Average quality score of the sequence\n",
    "        \"average_char\": chr(int(avg)) # Average quality score as a Unicode character (average is a float, which is truncated)\n",
    "    }\n",
    "    return answers"
   ]
  },
  {
   "cell_type": "code",
   "execution_count": 6,
   "metadata": {},
   "outputs": [
    {
     "data": {
      "text/plain": [
       "{'best': 70, 'average_num': 48.06666666666667, 'average_char': '0'}"
      ]
     },
     "execution_count": 6,
     "metadata": {},
     "output_type": "execute_result"
    }
   ],
   "source": [
    "# Tests\n",
    "seq = \"!''*((((***+))%%%++)(%%%%).1***-+*''))**55CCF>>>>>>CCCCCCC65\"\n",
    "best_quality(seq)"
   ]
  },
  {
   "cell_type": "markdown",
   "metadata": {},
   "source": [
    "**Explanation:** To determine the best quality score in the given string, I first create a list to hold the quality scores and calculate the quality scores for each character in the string, appending each to the list. Then, when reporting the answer, I find the maximum score in the list, extract the index of that score, and report the character corresponding to that index in the original string. To calculate the average quality score, I sum all the quality scores in the list and divide by the length of the list; this returned a float. To report this as a character, I chose to truncate the float by casting it as an integer, and then converting it to a character. Consequently, the average character may be inflated or deflated compared to the actual average depending on the decimal. To simultaneously report the best quality measurement, the average quality measurement, and the single-character quality score, I chose to return a dictionary. I am convinced that the function works because it correctly reports the best quality character, `F`, which has the highest code point in Unicode; it provides a reasonable average quality score; and the average character is the correct conversion from the average score."
   ]
  },
  {
   "cell_type": "markdown",
   "metadata": {},
   "source": [
    "# Exercise 3: Intravenous fluid administration"
   ]
  },
  {
   "cell_type": "code",
   "execution_count": 7,
   "metadata": {},
   "outputs": [],
   "source": [
    "# Medical device company's first draft of code\n",
    "def administer_meds(delta_t, tstop): # Arguments: time increment, time limit to stop administration\n",
    "    t = 0 # Start time\n",
    "    while t < tstop: # Stop administration once time limit is elapsed\n",
    "        print(f\"Administering meds at t={t}\") # Release fluids\n",
    "        t += delta_t # Advance time"
   ]
  },
  {
   "cell_type": "markdown",
   "metadata": {},
   "source": [
    "**Explanation:** The function administers medication until a defined time limit (`tstop`), incrementing by a defined time interval (`delta_t`). It administers one dose per loop, for a total of `t / delta_t` doses."
   ]
  },
  {
   "cell_type": "code",
   "execution_count": 10,
   "metadata": {},
   "outputs": [
    {
     "name": "stdout",
     "output_type": "stream",
     "text": [
      "Dose Test 1\n",
      "Administering meds at t=0\n",
      "Administering meds at t=0.25\n",
      "Administering meds at t=0.5\n",
      "Administering meds at t=0.75\n",
      "Dose Test 2\n",
      "Administering meds at t=0\n",
      "Administering meds at t=0.1\n",
      "Administering meds at t=0.2\n",
      "Administering meds at t=0.30000000000000004\n",
      "Administering meds at t=0.4\n",
      "Administering meds at t=0.5\n",
      "Administering meds at t=0.6\n",
      "Administering meds at t=0.7\n",
      "Administering meds at t=0.7999999999999999\n",
      "Administering meds at t=0.8999999999999999\n",
      "Administering meds at t=0.9999999999999999\n"
     ]
    }
   ],
   "source": [
    "print(\"Dose Test 1\")\n",
    "administer_meds(0.25, 1)\n",
    "print(\"Dose Test 2\")\n",
    "administer_meds(0.1, 1)"
   ]
  },
  {
   "cell_type": "markdown",
   "metadata": {},
   "source": [
    "**Explanation, discussion of findings, and clinical significance:** Calling `administer_meds(0.25, 1)` causes the loop to run four times, administering four doses. Because the function administers the dose first before incrementing the time, the doses are administered starting at $time = 0$, incrementing by $0.25$ for a total of four doses until $1.0$ is reached. This is expected behavior, as $1/0.25 = 4$ doses were expected, and all of the exact times were reached. The clinical significance of this result is that the doses are administered correctly, but administered a bit in advance before the time limit is reached.\n",
    "\n",
    "On the other hand, calling `administer_meds(0.1, 1)` causes the loop to run 11 times, administering 11 doses at odd time intervals. This is unexpected behavior, because $1/0.1=10$ doses were expected, the time intervals were not consistent, and there were strange floating point numbers (`t=0.30000000000000004`, `t=0.7999999999999999`, `t=0.8999999999999999`, `t=0.9999999999999999`). This is due to [how Python represents floating point numbers](https://docs.python.org/3/tutorial/floatingpoint.html): floating point numbers in Python are only an approximation with a limited number of significant digits. Consequently, arithmetic with these numbers can produce unexpected results. The clinical significance of this result is that the function administers more doses than intended, may be administering them at unintended times, and administers them a bit in advance before the time limit is reached."
   ]
  },
  {
   "cell_type": "code",
   "execution_count": 23,
   "metadata": {},
   "outputs": [],
   "source": [
    "# Version without surprises:\n",
    "from decimal import * # Python's decimal library has higher precision decimal arithmetic\n",
    "\n",
    "def administer_meds(delta_t, tstop):\n",
    "    t = 0\n",
    "    while t < tstop:\n",
    "        print(f\"Administering meds at t={t}\")\n",
    "        t += Decimal(delta_t)"
   ]
  },
  {
   "cell_type": "code",
   "execution_count": 24,
   "metadata": {},
   "outputs": [
    {
     "name": "stdout",
     "output_type": "stream",
     "text": [
      "Dose Test 1\n",
      "Administering meds at t=0\n",
      "Administering meds at t=0.2\n",
      "Administering meds at t=0.4\n",
      "Administering meds at t=0.6\n",
      "Administering meds at t=0.8\n",
      "Dose Test 2\n",
      "Administering meds at t=0\n",
      "Administering meds at t=0.1\n",
      "Administering meds at t=0.2\n",
      "Administering meds at t=0.3\n",
      "Administering meds at t=0.4\n",
      "Administering meds at t=0.5\n",
      "Administering meds at t=0.6\n",
      "Administering meds at t=0.7\n",
      "Administering meds at t=0.8\n",
      "Administering meds at t=0.9\n"
     ]
    }
   ],
   "source": [
    "# Tests\n",
    "print(\"Dose Test 1\")\n",
    "administer_meds(0.25, 1)\n",
    "print(\"Dose Test 2\")\n",
    "administer_meds(0.1, 1)"
   ]
  },
  {
   "cell_type": "markdown",
   "metadata": {},
   "source": [
    "# Exercise 4: Analysis of historical COVID-19 data\n",
    "Data from [The New York Times](https://github.com/nytimes/covid-19-data), based on reports from state and local health agencies."
   ]
  },
  {
   "cell_type": "code",
   "execution_count": 35,
   "metadata": {},
   "outputs": [],
   "source": [
    "# Load historical data for COVID-19 cases by state\n",
    "import pandas as pd\n",
    "\n",
    "covid = pd.read_csv(\"https://raw.githubusercontent.com/nytimes/covid-19-data/master/us-states.csv\")\n",
    "covid['date'] = pd.to_datetime(covid['date']) # Convert date column to date format (necessary for seaborn x-axis to work)\n",
    "covid = covid.assign(new_cases = covid.groupby(['state']).cases.diff()).fillna(0) # Calculate daily new cases"
   ]
  },
  {
   "cell_type": "code",
   "execution_count": 36,
   "metadata": {},
   "outputs": [],
   "source": [
    "# Plot new cases by state\n",
    "import seaborn as sb\n",
    "\n",
    "def cases_vs_date(data, states):\n",
    "    data = data[data['state'].isin(states)] # Select only rows matching indicated states\n",
    "    data_wide = data.pivot(index = \"date\", columns = \"state\", values = \"new_cases\") # Convert to wide-form data\n",
    "    plot = sb.lineplot(data = data_wide) # Create line plot\n",
    "    plot.set(title = \"New COVID-19 Cases by Date (Data from The New York Times)\", # Set title\n",
    "             xlabel = \"Date\", # Set axis labels \n",
    "             ylabel = \"Cases\")\n",
    "    plot.set_xticklabels(plot.get_xticklabels(), \n",
    "                         rotation = 45, # Rotate x-axis labels\n",
    "                         horizontalalignment = \"right\") # Shift x-axis labels to the left"
   ]
  },
  {
   "cell_type": "code",
   "execution_count": 51,
   "metadata": {},
   "outputs": [
    {
     "data": {
      "image/png": "[encoded data removed]",
      "text/plain": [
       "<Figure size 640x480 with 1 Axes>"
      ]
     },
     "metadata": {},
     "output_type": "display_data"
    }
   ],
   "source": [
    "# Tests\n",
    "import warnings\n",
    "warnings.filterwarnings('ignore') # Suppress seaborn's warnings\n",
    "\n",
    "states = [\"Texas\", \"California\", \"Connecticut\", \"Massachusetts\"]\n",
    "cases_vs_date(covid, states)"
   ]
  },
  {
   "cell_type": "markdown",
   "metadata": {},
   "source": [
    "**Limitations:** This method appears to handle Florida poorly, causing a dip of about -40,000 cases around 06/2021."
   ]
  },
  {
   "cell_type": "code",
   "execution_count": 46,
   "metadata": {},
   "outputs": [],
   "source": [
    "# Code\n",
    "def date_highest_new_cases(data, state):\n",
    "    data = data[data['state'].str.contains(state)] # Select only rows matching indicated states\n",
    "    return str(data.loc[data['new_cases'].idxmax(), ]['date'].date()) # Find date with highest number of daily cases"
   ]
  },
  {
   "cell_type": "code",
   "execution_count": 47,
   "metadata": {},
   "outputs": [
    {
     "name": "stdout",
     "output_type": "stream",
     "text": [
      "California had the highest number of COVID-19 cases on 2022-01-10.\n",
      "Texas had the highest number of COVID-19 cases on 2022-01-03.\n",
      "Connecticut had the highest number of COVID-19 cases on 2022-01-10.\n",
      "Massachusetts had the highest number of COVID-19 cases on 2022-01-10.\n"
     ]
    }
   ],
   "source": [
    "# Tests\n",
    "states = [\"California\", \"Texas\", \"Connecticut\", \"Massachusetts\"]\n",
    "for state in states:\n",
    "    print(f\"{state} had the highest number of COVID-19 cases on {date_highest_new_cases(covid, state)}.\")"
   ]
  },
  {
   "cell_type": "code",
   "execution_count": 27,
   "metadata": {},
   "outputs": [],
   "source": [
    "# Code\n",
    "from dateutil.parser import parse\n",
    "\n",
    "def case_peaks(state_1, state_2):\n",
    "     date_1 = parse(date_highest_new_cases(covid, state_1))\n",
    "     date_2 = parse(date_highest_new_cases(covid, state_2))\n",
    "     if date_1 < date_2:\n",
    "          print(state_1, \"peaked\", (date_2 - date_1).days, \"days ahead of\", state_2) \n",
    "     elif date_1 > date_2:\n",
    "          print(state_2, \"peaked\", (date_1 - date_2).days, \"days ahead of\", state_1) \n",
    "     else:\n",
    "          print(state_1, \"and\", state_2, \"peaked on the same day\")          "
   ]
  },
  {
   "cell_type": "code",
   "execution_count": 29,
   "metadata": {},
   "outputs": [
    {
     "name": "stdout",
     "output_type": "stream",
     "text": [
      "New York peaked 2 days ahead of California\n",
      "Texas and Texas peaked on the same day\n",
      "Montana peaked 247 days ahead of Hawaii\n",
      "Florida peaked 14 days ahead of South Carolina\n",
      "Maryland peaked 1 days ahead of District of Columbia\n"
     ]
    }
   ],
   "source": [
    "# Tests\n",
    "case_peaks(\"California\", \"New York\")\n",
    "case_peaks(\"Texas\", \"Texas\")\n",
    "case_peaks(\"Hawaii\", \"Montana\")\n",
    "case_peaks(\"Florida\", \"South Carolina\")\n",
    "case_peaks(\"District of Columbia\", \"Maryland\")"
   ]
  },
  {
   "cell_type": "markdown",
   "metadata": {},
   "source": [
    "# Exercise 5: Analysis of MeSH data\n",
    "Data from [The National Library of Medicine](https://nlmpubs.nlm.nih.gov/projects/mesh/MESH_FILES/xmlmesh/)."
   ]
  },
  {
   "cell_type": "code",
   "execution_count": null,
   "metadata": {},
   "outputs": [],
   "source": [
    "# Download and parse XML\n",
    "import requests\n",
    "import xml.etree.ElementTree as ET\n",
    "response = requests.get(\"https://nlmpubs.nlm.nih.gov/projects/mesh/MESH_FILES/xmlmesh/desc2023.xml\")\n",
    "mesh = ET.parse(response.text)"
   ]
  },
  {
   "cell_type": "code",
   "execution_count": 6,
   "metadata": {},
   "outputs": [],
   "source": [
    "# Iterative parsing\n",
    "context = ET.iterparse(response.text, events = (\"start\", \"end\"))\n",
    "for index, (event, elem) in enumerate(context):\n",
    "    if index == 0:\n",
    "        root = elem\n",
    "    if event == \"end\" and elem.tag == \"record\":\n",
    "        # Do something\n",
    "        root.clear()"
   ]
  },
  {
   "cell_type": "code",
   "execution_count": null,
   "metadata": {},
   "outputs": [],
   "source": [
    "# Extract values of interest\n"
   ]
  },
  {
   "cell_type": "markdown",
   "metadata": {},
   "source": [
    "**Biomedical explanation:**"
   ]
  },
  {
   "cell_type": "code",
   "execution_count": null,
   "metadata": {},
   "outputs": [],
   "source": [
    "# Generic function versions\n",
    "def get_name(ui):\n",
    "    pass\n",
    "\n",
    "def get_ui(name):\n",
    "    pass\n",
    "\n",
    "def get_descendent_names(ui, name):\n",
    "    pass\n"
   ]
  }
 ],
 "metadata": {
  "kernelspec": {
   "display_name": "Python 3",
   "language": "python",
   "name": "python3"
  },
  "language_info": {
   "codemirror_mode": {
    "name": "ipython",
    "version": 3
   },
   "file_extension": ".py",
   "mimetype": "text/x-python",
   "name": "python",
   "nbconvert_exporter": "python",
   "pygments_lexer": "ipython3",
   "version": "3.8.8"
  },
  "orig_nbformat": 4
 },
 "nbformat": 4,
 "nbformat_minor": 2
}
