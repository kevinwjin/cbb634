{
 "cells": [
  {
   "cell_type": "markdown",
   "metadata": {},
   "source": [
    "# Dependencies\n",
    "Execute the following line in the terminal before running this notebook:\n",
    "`pip install -r requirements.txt`"
   ]
  },
  {
   "cell_type": "markdown",
   "metadata": {},
   "source": [
    "# Exercise 1: Body temperature"
   ]
  },
  {
   "cell_type": "code",
   "execution_count": 17,
   "metadata": {},
   "outputs": [],
   "source": [
    "# Code\n",
    "def temp_tester(normalTemp): # Defines normal body temperature\n",
    "    def tester(givenTemp): # Tests given temperature against normal body temperature\n",
    "        if (givenTemp - 1 <= normalTemp <= givenTemp + 1): # if givenTemp is within 1 degree of normalTemp\n",
    "            return True\n",
    "        else:\n",
    "            return False\n",
    "    return tester"
   ]
  },
  {
   "cell_type": "code",
   "execution_count": 18,
   "metadata": {},
   "outputs": [
    {
     "data": {
      "text/plain": [
       "False"
      ]
     },
     "execution_count": 18,
     "metadata": {},
     "output_type": "execute_result"
    }
   ],
   "source": [
    "# Tests\n",
    "human_tester = temp_tester(37) # Define 37 as normal temperature for humans\n",
    "chicken_tester = temp_tester(41.1)\n",
    "\n",
    "chicken_tester(42) # True\n",
    "human_tester(42) # False\n",
    "chicken_tester(43) # False\n",
    "human_tester(35) # False\n",
    "human_tester(98.6) # False"
   ]
  },
  {
   "cell_type": "markdown",
   "metadata": {},
   "source": [
    "# Exercise 2: FASTQ"
   ]
  },
  {
   "cell_type": "code",
   "execution_count": null,
   "metadata": {},
   "outputs": [],
   "source": [
    "# Code\n",
    "def better_quality(char_a, char_b):\n",
    "    char_a = chr(char_a) # Convert arguments to Unicode characters\n",
    "    char_b = chr(char_b)\n",
    "    pass \n",
    "\n",
    "def quality_measurement()"
   ]
  },
  {
   "cell_type": "code",
   "execution_count": 1,
   "metadata": {},
   "outputs": [
    {
     "name": "stdout",
     "output_type": "stream",
     "text": [
      "33\t!\n",
      "34\t\"\n",
      "35\t#\n",
      "36\t$\n",
      "37\t%\n",
      "38\t&\n",
      "39\t'\n",
      "40\t(\n",
      "41\t)\n",
      "42\t*\n",
      "43\t+\n",
      "44\t,\n",
      "45\t-\n",
      "46\t.\n",
      "47\t/\n",
      "48\t0\n",
      "49\t1\n",
      "50\t2\n",
      "51\t3\n",
      "52\t4\n",
      "53\t5\n",
      "54\t6\n",
      "55\t7\n",
      "56\t8\n",
      "57\t9\n",
      "58\t:\n",
      "59\t;\n",
      "60\t<\n",
      "61\t=\n",
      "62\t>\n",
      "63\t?\n",
      "64\t@\n",
      "65\tA\n",
      "66\tB\n",
      "67\tC\n",
      "68\tD\n",
      "69\tE\n",
      "70\tF\n",
      "71\tG\n",
      "72\tH\n",
      "73\tI\n",
      "74\tJ\n",
      "75\tK\n",
      "76\tL\n",
      "77\tM\n",
      "78\tN\n",
      "79\tO\n",
      "80\tP\n",
      "81\tQ\n",
      "82\tR\n",
      "83\tS\n",
      "84\tT\n",
      "85\tU\n",
      "86\tV\n",
      "87\tW\n",
      "88\tX\n",
      "89\tY\n",
      "90\tZ\n",
      "91\t[\n",
      "92\t\\\n",
      "93\t]\n",
      "94\t^\n",
      "95\t_\n",
      "96\t`\n",
      "97\ta\n",
      "98\tb\n",
      "99\tc\n",
      "100\td\n",
      "101\te\n",
      "102\tf\n",
      "103\tg\n",
      "104\th\n",
      "105\ti\n",
      "106\tj\n",
      "107\tk\n",
      "108\tl\n",
      "109\tm\n",
      "110\tn\n",
      "111\to\n",
      "112\tp\n",
      "113\tq\n",
      "114\tr\n",
      "115\ts\n",
      "116\tt\n",
      "117\tu\n",
      "118\tv\n",
      "119\tw\n",
      "120\tx\n",
      "121\ty\n",
      "122\tz\n",
      "123\t{\n",
      "124\t|\n",
      "125\t}\n"
     ]
    }
   ],
   "source": [
    "# Print Unicode strings for code points 33 to 126 (FASTQ quality scores)\n",
    "# 33 (\"!\") = low quality\n",
    "# 126 (\"~\") = high quality\n",
    "for i in range(33, 126):\n",
    "    print(f\"{i}\\t{chr(i)}\")\n",
    "\n",
    "# Convert Unicode strings to code points (numbers)\n",
    "ord(\"@\")"
   ]
  },
  {
   "cell_type": "code",
   "execution_count": null,
   "metadata": {},
   "outputs": [],
   "source": [
    "# Tests"
   ]
  },
  {
   "cell_type": "markdown",
   "metadata": {},
   "source": [
    "# Exercise 3: Intravenous fluids"
   ]
  },
  {
   "cell_type": "code",
   "execution_count": null,
   "metadata": {},
   "outputs": [],
   "source": []
  },
  {
   "cell_type": "markdown",
   "metadata": {},
   "source": [
    "# Exercise 4: Historical COVID-19 data\n",
    "Data from [The New York Times](https://github.com/nytimes/covid-19-data), based on reports from state and local health agencies."
   ]
  },
  {
   "cell_type": "code",
   "execution_count": 1,
   "metadata": {},
   "outputs": [],
   "source": [
    "# Load historical data for COVID-19 cases by state\n",
    "import pandas as pd\n",
    "data = pd.read_csv(\"https://raw.githubusercontent.com/nytimes/covid-19-data/master/us-states.csv\")"
   ]
  },
  {
   "cell_type": "code",
   "execution_count": null,
   "metadata": {},
   "outputs": [],
   "source": [
    "# Plot new cases by state\n",
    "import seaborn as sb\n",
    "data_wide = data.pivot(index = \"date\", columns = \"state\", values = \"cases\").fillna(0)\n",
    "sb.lineplot(data = data_wide)"
   ]
  },
  {
   "cell_type": "code",
   "execution_count": null,
   "metadata": {},
   "outputs": [],
   "source": [
    "# Tests"
   ]
  },
  {
   "cell_type": "code",
   "execution_count": null,
   "metadata": {},
   "outputs": [],
   "source": []
  },
  {
   "cell_type": "markdown",
   "metadata": {},
   "source": [
    "# Exercise 5: MeSH data"
   ]
  },
  {
   "cell_type": "code",
   "execution_count": null,
   "metadata": {},
   "outputs": [],
   "source": []
  }
 ],
 "metadata": {
  "kernelspec": {
   "display_name": "Python 3",
   "language": "python",
   "name": "python3"
  },
  "language_info": {
   "codemirror_mode": {
    "name": "ipython",
    "version": 3
   },
   "file_extension": ".py",
   "mimetype": "text/x-python",
   "name": "python",
   "nbconvert_exporter": "python",
   "pygments_lexer": "ipython3",
   "version": "3.11.4"
  },
  "orig_nbformat": 4
 },
 "nbformat": 4,
 "nbformat_minor": 2
}
