{
 "cells": [
  {
   "cell_type": "markdown",
   "metadata": {},
   "source": [
    "# Dependencies\n",
    "Execute the following in the terminal before running this notebook:\n",
    "`pip install -r requirements.txt`"
   ]
  },
  {
   "cell_type": "markdown",
   "metadata": {},
   "source": [
    "# Exercise 1: Body temperature clinical decision support"
   ]
  },
  {
   "cell_type": "code",
   "execution_count": null,
   "metadata": {},
   "outputs": [],
   "source": [
    "# Code\n",
    "#import numpy as np\n",
    "\n",
    "def temp_tester(normalTemp): # Defines normal body temperature\n",
    "    def tester(givenTemp): # Tests given temperature against normal body temperature\n",
    "        if givenTemp in range(normalTemp - 1, normalTemp + 1): # Check if givenTemp is within 1 degree of normalTemp\n",
    "        #if givenTemp in np.arange(normalTemp - 1, normalTemp + 1, 0.1):\n",
    "            return True\n",
    "        return False\n",
    "    return tester"
   ]
  },
  {
   "cell_type": "code",
   "execution_count": null,
   "metadata": {},
   "outputs": [],
   "source": [
    "# Tests\n",
    "human_tester = temp_tester(37)\n",
    "chicken_tester = temp_tester(41.1) # Code currently does not work for float temps\n",
    "\n",
    "print(chicken_tester(42)) # True\n",
    "print(human_tester(42)) # False\n",
    "print(chicken_tester(43)) # False\n",
    "print(human_tester(35)) # False\n",
    "print(human_tester(98.6)) # False"
   ]
  },
  {
   "cell_type": "markdown",
   "metadata": {},
   "source": [
    "# Exercise 2: FASTQ and Unicode"
   ]
  },
  {
   "cell_type": "code",
   "execution_count": 1,
   "metadata": {},
   "outputs": [],
   "source": [
    "# Code\n",
    "def better_quality(char_a, char_b):\n",
    "    codepoint_a = ord(char_a) # Convert characters to Unicode code points (numbers)\n",
    "    codepoint_b = ord(char_b)\n",
    "    if codepoint_a > codepoint_b:\n",
    "        return char_a\n",
    "    return char_b"
   ]
  },
  {
   "cell_type": "code",
   "execution_count": 6,
   "metadata": {},
   "outputs": [
    {
     "name": "stdout",
     "output_type": "stream",
     "text": [
      "The quality of ! is 33\n",
      "The quality of ( is 40\n",
      "The character with better quality is (\n"
     ]
    }
   ],
   "source": [
    "# Tests\n",
    "test_a = \"!\"\n",
    "test_b = \"(\"\n",
    "print(\"The quality of\", test_a, \"is\", ord(test_a))\n",
    "print(\"The quality of\", test_b, \"is\", ord(test_b))\n",
    "print(\"The character with better quality is\", better_quality(\"!\", \"(\"))"
   ]
  },
  {
   "cell_type": "markdown",
   "metadata": {},
   "source": [
    "**Explanation:** As demonstrated above, I first select two characters, `test_a` and `test_b`, and provide their Unicode code points. It is clear that `test_a` has a lower code point (or quality score) than `test_b`. I then test my function, which accurately determines that `test_b` is of higher quality. "
   ]
  },
  {
   "cell_type": "code",
   "execution_count": 7,
   "metadata": {},
   "outputs": [],
   "source": [
    "# Code\n",
    "def best_quality(seq):\n",
    "    # Calculate quality scores\n",
    "    quality_scores = []\n",
    "    for i in range(len(seq)):\n",
    "        quality_scores.append(ord(seq[i]))\n",
    "\n",
    "    # Calculate average quality score\n",
    "    avg = sum(quality_scores) / len(quality_scores)     \n",
    "\n",
    "    # Create dictionary of answers\n",
    "    answers = {\n",
    "        \"best\": seq[quality_scores.index(max(quality_scores))], # Best quality measurement in the sequence\n",
    "        \"average_num\": avg, # Average quality score of the sequence\n",
    "        \"average_char\": chr(int(avg)) # Average quality score as a Unicode character (truncate float)\n",
    "    }\n",
    "    return answers"
   ]
  },
  {
   "cell_type": "code",
   "execution_count": 8,
   "metadata": {},
   "outputs": [
    {
     "data": {
      "text/plain": [
       "{'best': 'F', 'average_num': 48.06666666666667, 'average_char': '0'}"
      ]
     },
     "execution_count": 8,
     "metadata": {},
     "output_type": "execute_result"
    }
   ],
   "source": [
    "# Tests\n",
    "seq = \"!''*((((***+))%%%++)(%%%%).1***-+*''))**55CCF>>>>>>CCCCCCC65\"\n",
    "best_quality(seq)"
   ]
  },
  {
   "cell_type": "markdown",
   "metadata": {},
   "source": [
    "**Explanation:**: To determine the best quality score in the given string, I first create a list to hold the quality scores and calculate the quality scores for each character in the string, appending each to the list. Then, when reporting the answer, I find the maximum score in the list, extract the index of that score, and report the character corresponding to that index in the original string. To calculate the average quality score, I sum all the quality scores in the list and divide by the length of the list; this returned a float. To report this as a character, I chose to truncate the float by casting it as an integer, and then converting it to a character. Consequently, the average character may be inflated or deflated compared to the actual average depending on the decimal. To simultaneously report the best quality measurement, the average quality measurement, and the single-character quality score, I chose to return a dictionary. I am convinced that the function works because it correctly reports the best quality character, `F`, which has the highest code point in Unicode; it provides a reasonable average quality score; and the average character is the correct conversion from the average number."
   ]
  },
  {
   "cell_type": "markdown",
   "metadata": {},
   "source": [
    "# Exercise 3: Intravenous fluid administration"
   ]
  },
  {
   "cell_type": "code",
   "execution_count": null,
   "metadata": {},
   "outputs": [],
   "source": [
    "# Medical device company's first draft of code\n",
    "def administer_meds(delta_t, tstop): # Time increment; time limit to stop administration\n",
    "    t = 0 # Start time\n",
    "    while t < tstop: # Stop administration once time limit is elapsed\n",
    "        print(f\"Administering meds at t={t}\") # Release fluids\n",
    "        t += delta_t # Advance time"
   ]
  },
  {
   "cell_type": "markdown",
   "metadata": {},
   "source": [
    "**Explanation:** The function administers medication until a defined time limit (`tstop`), incrementing by a defined time interval (`delta_t`). The function administers one dose per loop, for a total of `t / delta_t` doses."
   ]
  },
  {
   "cell_type": "code",
   "execution_count": null,
   "metadata": {},
   "outputs": [],
   "source": [
    "# What happens when you call administer_meds(0.25, 1)? (2 points)\n",
    "print(\"Dose Test 1\")\n",
    "administer_meds(0.25, 1)\n",
    "\n",
    "# What happens when you call administer_meds(0.1, 1)? (2 points)\n",
    "print(\"Dose Test 2\")\n",
    "administer_meds(0.1, 1)"
   ]
  },
  {
   "cell_type": "markdown",
   "metadata": {},
   "source": [
    "**Discussion of findings:**"
   ]
  },
  {
   "cell_type": "markdown",
   "metadata": {},
   "source": [
    "**Comment on clinical significance:**"
   ]
  },
  {
   "cell_type": "code",
   "execution_count": null,
   "metadata": {},
   "outputs": [],
   "source": [
    "# Version without surprises:\n"
   ]
  },
  {
   "cell_type": "markdown",
   "metadata": {},
   "source": [
    "# Exercise 4: Plotting historical COVID-19 data\n",
    "Data from [The New York Times](https://github.com/nytimes/covid-19-data), based on reports from state and local health agencies."
   ]
  },
  {
   "cell_type": "code",
   "execution_count": null,
   "metadata": {},
   "outputs": [],
   "source": [
    "# Load historical data for COVID-19 cases by state\n",
    "import pandas as pd\n",
    "data = pd.read_csv(\"https://raw.githubusercontent.com/nytimes/covid-19-data/master/us-states.csv\")"
   ]
  },
  {
   "cell_type": "code",
   "execution_count": null,
   "metadata": {},
   "outputs": [],
   "source": [
    "# Plot new cases by state\n",
    "import seaborn as sb\n",
    "data_wide = data.pivot(index = \"date\", columns = \"state\", values = \"cases\").fillna(0)\n",
    "sb.lineplot(data = data_wide)"
   ]
  },
  {
   "cell_type": "code",
   "execution_count": null,
   "metadata": {},
   "outputs": [],
   "source": [
    "# Tests"
   ]
  },
  {
   "cell_type": "code",
   "execution_count": null,
   "metadata": {},
   "outputs": [],
   "source": []
  },
  {
   "cell_type": "markdown",
   "metadata": {},
   "source": [
    "# Exercise 5: Parsing MeSH data\n",
    "Data from [The National Library of Medicine](https://nlmpubs.nlm.nih.gov/projects/mesh/MESH_FILES/xmlmesh/)."
   ]
  },
  {
   "cell_type": "code",
   "execution_count": null,
   "metadata": {},
   "outputs": [],
   "source": [
    "# Read XML and extract values\n",
    "mesh = pd.read_xml(\"https://nlmpubs.nlm.nih.gov/projects/mesh/MESH_FILES/xmlmesh/desc2023.xml\")"
   ]
  }
 ],
 "metadata": {
  "kernelspec": {
   "display_name": "Python 3",
   "language": "python",
   "name": "python3"
  },
  "language_info": {
   "codemirror_mode": {
    "name": "ipython",
    "version": 3
   },
   "file_extension": ".py",
   "mimetype": "text/x-python",
   "name": "python",
   "nbconvert_exporter": "python",
   "pygments_lexer": "ipython3",
   "version": "3.11.5"
  },
  "orig_nbformat": 4
 },
 "nbformat": 4,
 "nbformat_minor": 2
}
