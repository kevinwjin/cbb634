{
 "cells": [
  {
   "cell_type": "markdown",
   "metadata": {},
   "source": [
    "# Dependencies\n",
    "Execute the following in the terminal before running this notebook:\n",
    "`pip install -r requirements.txt`"
   ]
  },
  {
   "cell_type": "markdown",
   "metadata": {},
   "source": [
    "# Exercise 1: Body temperature"
   ]
  },
  {
   "cell_type": "code",
   "execution_count": null,
   "metadata": {},
   "outputs": [],
   "source": [
    "# Code\n",
    "#import numpy as np\n",
    "\n",
    "def temp_tester(normalTemp): # Defines normal body temperature\n",
    "    def tester(givenTemp): # Tests given temperature against normal body temperature\n",
    "        if givenTemp in range(normalTemp - 1, normalTemp + 1): # Check if givenTemp is within 1 degree of normalTemp\n",
    "        #if givenTemp in np.arange(normalTemp - 1, normalTemp + 1, 0.1):\n",
    "            return True\n",
    "        return False\n",
    "    return tester"
   ]
  },
  {
   "cell_type": "code",
   "execution_count": null,
   "metadata": {},
   "outputs": [],
   "source": [
    "# Tests\n",
    "human_tester = temp_tester(37)\n",
    "chicken_tester = temp_tester(41.1)\n",
    "\n",
    "print(chicken_tester(42)) # True\n",
    "print(human_tester(42)) # False\n",
    "print(chicken_tester(43)) # False\n",
    "print(human_tester(35)) # False\n",
    "print(human_tester(98.6)) # False"
   ]
  },
  {
   "cell_type": "markdown",
   "metadata": {},
   "source": [
    "# Exercise 2: FASTQ\n",
    "As discussed in slides2, FASTQ files use Unicode code points to represent quality for each sequence element. Write a function that takes a string corresponding to a sequence of such quality measurements (e.g. !''*((((***+))%%%++)(%%%%).1***-+*''))**55CCF>>>>>>CCCCCCC65 ) and reports the best quality measurement in the string as a numeric value (2 points) and the average quality measurment as a numeric value (2 points) and as a single-character quality score (2 points). Discuss any choices you had to make, test the function, and provide a convincing explanation that the function works (3 points)."
   ]
  },
  {
   "cell_type": "code",
   "execution_count": null,
   "metadata": {},
   "outputs": [],
   "source": [
    "# Code\n",
    "def better_quality(char_a, char_b):\n",
    "    codepoint_a = ord(char_a) # Convert characters to Unicode code points (numbers)\n",
    "    codepoint_b = ord(char_b)\n",
    "    if codepoint_a > codepoint_b:\n",
    "        return char_a\n",
    "    return char_b"
   ]
  },
  {
   "cell_type": "code",
   "execution_count": null,
   "metadata": {},
   "outputs": [],
   "source": [
    "# Tests\n",
    "better_quality(\"!\", \"(\")"
   ]
  },
  {
   "cell_type": "code",
   "execution_count": null,
   "metadata": {},
   "outputs": [],
   "source": [
    "# Print Unicode strings for code points 33 to 126 (FASTQ quality scores)\n",
    "# 33 (\"!\") = low quality\n",
    "# 126 (\"~\") = high quality\n",
    "for i in range(33, 126):\n",
    "    print(f\"{i}\\t{chr(i)}\")"
   ]
  },
  {
   "cell_type": "code",
   "execution_count": null,
   "metadata": {},
   "outputs": [],
   "source": [
    "# Code\n",
    "def best_quality(seq):\n",
    "    # Calculate quality scores\n",
    "    quality_scores = []\n",
    "    for i in range(len(seq)):\n",
    "        quality_scores.append(ord(seq[i]))\n",
    "\n",
    "    # Calculate average quality score\n",
    "    avg = sum(quality_scores) / len(quality_scores)     \n",
    "\n",
    "    # Create dictionary of answers\n",
    "    answers = {\n",
    "        \"best\": seq[quality_scores.index(max(quality_scores))], # Best quality measurement in the sequence\n",
    "        \"average_num\": avg, # Average quality score of the sequence\n",
    "        \"average_char\": chr(int(avg)) # Average quality score as a Unicode character (truncate float)\n",
    "    }\n",
    "    return answers"
   ]
  },
  {
   "cell_type": "code",
   "execution_count": null,
   "metadata": {},
   "outputs": [],
   "source": [
    "# Tests\n",
    "seq = \"!''*((((***+))%%%++)(%%%%).1***-+*''))**55CCF>>>>>>CCCCCCC65 \"\n",
    "best_quality(seq)"
   ]
  },
  {
   "cell_type": "markdown",
   "metadata": {},
   "source": [
    "# Exercise 3: Intravenous fluids"
   ]
  },
  {
   "cell_type": "code",
   "execution_count": null,
   "metadata": {},
   "outputs": [],
   "source": [
    "# Medical device company's first draft of code\n",
    "def administer_meds(delta_t, tstop): # Time increment; time limit to stop administration\n",
    "    t = 0 # Start time\n",
    "    while t < tstop: # Stop administration once time limit is elapsed\n",
    "        print(f\"Administering meds at t={t}\") # Release fluids\n",
    "        t += delta_t # Advance time"
   ]
  },
  {
   "cell_type": "markdown",
   "metadata": {},
   "source": [
    "*Explain the logic behind this function; i.e. what does it appear that they are trying to do? What's the relationship between tstop, delta_t, and the number of doses administered? (2 points)*\n",
    "\n",
    "The function administers medication until a defined time limit (`tstop`), incrementing by a defined time interval (`delta_t`). The function administers one dose per loop, for a total of `t / delta_t` doses."
   ]
  },
  {
   "cell_type": "code",
   "execution_count": null,
   "metadata": {},
   "outputs": [],
   "source": [
    "# What happens when you call administer_meds(0.25, 1)? (2 points)\n",
    "print(\"Dose Test 1\")\n",
    "administer_meds(0.25, 1)\n",
    "\n",
    "# What happens when you call administer_meds(0.1, 1)? (2 points)\n",
    "print(\"Dose Test 2\")\n",
    "administer_meds(0.1, 1)"
   ]
  },
  {
   "cell_type": "markdown",
   "metadata": {},
   "source": [
    "*Discuss your findings; were there any surprises? Be sure to mention: if you always get the exact times you expected? Did you always get the number of doses you expected? (2 points)*\n"
   ]
  },
  {
   "cell_type": "markdown",
   "metadata": {},
   "source": [
    "*Comment on the clinical significance or not of each \"surprise\". (2 points)*\n"
   ]
  },
  {
   "cell_type": "code",
   "execution_count": null,
   "metadata": {},
   "outputs": [],
   "source": [
    "# Make a version that runs without surprises. (2 points)"
   ]
  },
  {
   "cell_type": "markdown",
   "metadata": {},
   "source": [
    "# Exercise 4: Historical COVID-19 data\n",
    "Data from [The New York Times](https://github.com/nytimes/covid-19-data), based on reports from state and local health agencies."
   ]
  },
  {
   "cell_type": "code",
   "execution_count": null,
   "metadata": {},
   "outputs": [],
   "source": [
    "# Load historical data for COVID-19 cases by state\n",
    "import pandas as pd\n",
    "data = pd.read_csv(\"https://raw.githubusercontent.com/nytimes/covid-19-data/master/us-states.csv\")"
   ]
  },
  {
   "cell_type": "code",
   "execution_count": null,
   "metadata": {},
   "outputs": [],
   "source": [
    "# Plot new cases by state\n",
    "import seaborn as sb\n",
    "data_wide = data.pivot(index = \"date\", columns = \"state\", values = \"cases\").fillna(0)\n",
    "sb.lineplot(data = data_wide)"
   ]
  },
  {
   "cell_type": "code",
   "execution_count": null,
   "metadata": {},
   "outputs": [],
   "source": [
    "# Tests"
   ]
  },
  {
   "cell_type": "code",
   "execution_count": null,
   "metadata": {},
   "outputs": [],
   "source": []
  },
  {
   "cell_type": "markdown",
   "metadata": {},
   "source": [
    "# Exercise 5: MeSH data\n",
    "Data from [The National Library of Medicine](https://nlmpubs.nlm.nih.gov/projects/mesh/MESH_FILES/xmlmesh/)."
   ]
  },
  {
   "cell_type": "code",
   "execution_count": null,
   "metadata": {},
   "outputs": [],
   "source": [
    "# Read XML and extract values\n",
    "mesh = pd.read_xml(\"https://nlmpubs.nlm.nih.gov/projects/mesh/MESH_FILES/xmlmesh/desc2023.xml\")"
   ]
  }
 ],
 "metadata": {
  "kernelspec": {
   "display_name": "Python 3",
   "language": "python",
   "name": "python3"
  },
  "language_info": {
   "codemirror_mode": {
    "name": "ipython",
    "version": 3
   },
   "file_extension": ".py",
   "mimetype": "text/x-python",
   "name": "python",
   "nbconvert_exporter": "python",
   "pygments_lexer": "ipython3",
   "version": "3.11.4"
  },
  "orig_nbformat": 4
 },
 "nbformat": 4,
 "nbformat_minor": 2
}
