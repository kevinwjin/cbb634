{
 "cells": [
  {
   "cell_type": "code",
   "execution_count": null,
   "metadata": {
    "vscode": {
     "languageId": "shellscript"
    }
   },
   "outputs": [],
   "source": [
    "# Execute the following in the terminal to install dependencies:\n",
    "pip install -r requirements.txt"
   ]
  },
  {
   "cell_type": "markdown",
   "metadata": {},
   "source": [
    "# Exercise 1: Implementing the Smith-Waterman algorithm"
   ]
  },
  {
   "cell_type": "code",
   "execution_count": 31,
   "metadata": {},
   "outputs": [
    {
     "data": {
      "image/png": "[encoded data removed]",
      "text/plain": [
       "<Figure size 640x480 with 1 Axes>"
      ]
     },
     "metadata": {},
     "output_type": "display_data"
    }
   ],
   "source": [
    "import numpy as np\n",
    "import matplotlib.pyplot as plt\n",
    "\n",
    "def make_diagram(seq1, seq2):\n",
    "    data = np.zeros((len(seq1), len(seq2)))\n",
    "    for i, base1 in enumerate(seq1):\n",
    "        for j, base2 in enumerate(seq2):\n",
    "            if base1 == base2:\n",
    "                data[i, j] = 1\n",
    "    plt.xticks(range(len(seq2)), labels=seq2)\n",
    "    plt.yticks(range(len(seq1)), labels=seq1)\n",
    "    plt.imshow(data, interpolation='nearest', cmap='binary')\n",
    "    plt.gca().xaxis.tick_top()\n",
    "\n",
    "make_diagram('GACT', 'GTCA')\n",
    "plt.show()"
   ]
  },
  {
   "cell_type": "code",
   "execution_count": 29,
   "metadata": {},
   "outputs": [],
   "source": [
    "# Return optimal local alignment and score between two strings using Smith-Waterman algorithm\n",
    "import numpy as np\n",
    "\n",
    "def align(seq1, seq2, match=1, gap_penalty=1, mismatch_penalty=1):\n",
    "    # Create scoring matrix and initialize with zeroes\n",
    "    m, n = len(seq1), len(seq2)\n",
    "    scoring_matrix = np.zeros((m + 1, n + 1))\n",
    "\n",
    "    # Fill the scoring matrix using the Smith-Waterman equation\n",
    "    max_score = 0    # Keeps track of maximum score in matrix\n",
    "    max_pos = (0, 0)    # Position of the highest score in matrix using a tuple\n",
    "\n",
    "    for i in range(1, m + 1):\n",
    "        for j in range(1, n + 1):\n",
    "            # Calculate scores for matches, mismatches, and gaps\n",
    "            matching = scoring_matrix[i - 1, j - 1] + (match if seq1[i - 1] == seq2[j - 1] else -mismatch_penalty) # Conditional operator\n",
    "            deletion = scoring_matrix[i - 1, j] - gap_penalty\n",
    "            insertion = scoring_matrix[i, j - 1] - gap_penalty\n",
    "\n",
    "            # Get the highest score in the scoring matrix from four possible scenarios\n",
    "            scoring_matrix[i, j] = max(0, matching, deletion, insertion)\n",
    "\n",
    "            # Update maximum score and matrix position\n",
    "            if scoring_matrix[i, j] >= max_score:\n",
    "                max_score = scoring_matrix[i, j]\n",
    "                max_pos = (i, j)\n",
    "\n",
    "    # Traceback from highest score using recursion to find the optimal local alignment\n",
    "    def traceback(max_pos):\n",
    "        i, j = max_pos   # Unpack tuple\n",
    "        align1, align2 = '', '' # Initialize final aligned sequences\n",
    "        \n",
    "        while scoring_matrix[i, j] > 0:\n",
    "            current_score = scoring_matrix[i, j] # Current score\n",
    "            diagonal_score = scoring_matrix[i - 1, j - 1] # Go diagonally up?\n",
    "            up_score = scoring_matrix[i, j - 1] # Go up?\n",
    "            left_score = scoring_matrix[i - 1, j] # Go left?\n",
    "\n",
    "            # Check if the trace is at a match, mismatch, or gap in the matrix\n",
    "            if current_score == diagonal_score + (match if seq1[i - 1] == seq2[j - 1] else -mismatch_penalty):\n",
    "                align1 += seq1[i - 1]\n",
    "                align2 += seq2[j - 1]\n",
    "                i -= 1\n",
    "                j -= 1\n",
    "            elif current_score == up_score - gap_penalty:\n",
    "                align1 += '-'\n",
    "                align2 += seq2[j - 1]\n",
    "                j -= 1\n",
    "            elif current_score == left_score - gap_penalty:\n",
    "                align1 += seq1[i - 1]\n",
    "                align2 += '-'\n",
    "                i -= 1\n",
    "\n",
    "        return align1[::-1], align2[::-1] # Reverse slice to return alignments in correct order\n",
    "\n",
    "    return traceback(max_pos), max_score, scoring_matrix"
   ]
  },
  {
   "cell_type": "code",
   "execution_count": 41,
   "metadata": {},
   "outputs": [
    {
     "name": "stdout",
     "output_type": "stream",
     "text": [
      "Optimal local alignment: ('agacccta-cgt-gac', 'aga-cctagcatcgac')\n",
      "Alignment score: 8.0\n",
      "Scoring matrix: \n",
      "[[0. 0. 0. 0. 0. 0. 0. 0. 0. 0. 0. 0. 0. 0. 0. 0. 0. 0. 0.]\n",
      " [0. 0. 0. 1. 0. 0. 0. 0. 0. 1. 0. 0. 0. 0. 1. 0. 0. 0. 0.]\n",
      " [0. 0. 0. 0. 0. 1. 0. 0. 0. 0. 0. 1. 0. 0. 0. 0. 1. 0. 0.]\n",
      " [0. 0. 1. 0. 0. 0. 0. 1. 1. 0. 0. 0. 2. 1. 0. 1. 0. 0. 1.]\n",
      " [0. 1. 0. 0. 1. 0. 1. 0. 0. 0. 1. 0. 1. 3. 2. 1. 0. 1. 0.]\n",
      " [0. 0. 0. 1. 0. 0. 0. 0. 0. 1. 0. 0. 0. 2. 4. 3. 2. 1. 0.]\n",
      " [0. 0. 1. 0. 0. 0. 0. 1. 1. 0. 0. 0. 1. 1. 3. 5. 4. 3. 2.]\n",
      " [0. 0. 0. 0. 0. 1. 0. 0. 0. 0. 0. 1. 0. 0. 2. 4. 6. 5. 4.]\n",
      " [0. 1. 0. 0. 1. 0. 2. 1. 0. 0. 1. 0. 0. 1. 1. 3. 5. 7. 6.]\n",
      " [0. 0. 0. 0. 0. 2. 1. 1. 0. 0. 0. 2. 1. 0. 0. 2. 4. 6. 6.]\n",
      " [0. 1. 0. 0. 1. 1. 3. 2. 1. 0. 1. 1. 1. 2. 1. 1. 3. 5. 5.]\n",
      " [0. 0. 2. 1. 0. 0. 2. 4. 3. 2. 1. 0. 2. 1. 1. 2. 2. 4. 6.]\n",
      " [0. 0. 1. 1. 0. 0. 1. 3. 5. 4. 3. 2. 1. 1. 0. 2. 1. 3. 5.]\n",
      " [0. 0. 1. 0. 0. 0. 0. 2. 4. 4. 3. 2. 3. 2. 1. 1. 1. 2. 4.]\n",
      " [0. 0. 0. 2. 1. 0. 0. 1. 3. 5. 4. 3. 2. 2. 3. 2. 1. 1. 3.]\n",
      " [0. 1. 0. 1. 3. 2. 1. 0. 2. 4. 6. 5. 4. 3. 2. 2. 1. 2. 2.]\n",
      " [0. 0. 2. 1. 2. 2. 1. 2. 1. 3. 5. 5. 6. 5. 4. 3. 2. 1. 3.]\n",
      " [0. 0. 1. 1. 1. 3. 2. 1. 1. 2. 4. 6. 5. 5. 4. 3. 4. 3. 2.]\n",
      " [0. 0. 0. 2. 1. 2. 2. 1. 0. 2. 3. 5. 5. 4. 6. 5. 4. 3. 2.]\n",
      " [0. 0. 0. 1. 1. 2. 1. 1. 0. 1. 2. 4. 4. 4. 5. 5. 6. 5. 4.]\n",
      " [0. 1. 0. 0. 2. 1. 3. 2. 1. 0. 2. 3. 3. 5. 4. 4. 5. 7. 6.]\n",
      " [0. 0. 2. 1. 1. 1. 2. 4. 3. 2. 1. 2. 4. 4. 4. 5. 4. 6. 8.]]\n"
     ]
    }
   ],
   "source": [
    "# Test the algorithm\n",
    "alignment, score, matrix = align('tgcatcgagaccctacgtgac', 'actagacctagcatcgac')\n",
    "print(f\"Optimal local alignment: {alignment}\")\n",
    "print(f\"Alignment score: {score}\")\n",
    "print(f\"Scoring matrix: \\n{matrix}\")"
   ]
  },
  {
   "cell_type": "code",
   "execution_count": 42,
   "metadata": {},
   "outputs": [
    {
     "name": "stdout",
     "output_type": "stream",
     "text": [
      "Optimal local alignment: ('gcatcga', 'gcatcga')\n",
      "Alignment score: 7.0\n",
      "Scoring matrix: \n",
      "[[0. 0. 0. 0. 0. 0. 0. 0. 0. 0. 0. 0. 0. 0. 0. 0. 0. 0. 0.]\n",
      " [0. 0. 0. 1. 0. 0. 0. 0. 0. 1. 0. 0. 0. 0. 1. 0. 0. 0. 0.]\n",
      " [0. 0. 0. 0. 0. 1. 0. 0. 0. 0. 0. 1. 0. 0. 0. 0. 1. 0. 0.]\n",
      " [0. 0. 1. 0. 0. 0. 0. 1. 1. 0. 0. 0. 2. 0. 0. 1. 0. 0. 1.]\n",
      " [0. 1. 0. 0. 1. 0. 1. 0. 0. 0. 1. 0. 0. 3. 1. 0. 0. 1. 0.]\n",
      " [0. 0. 0. 1. 0. 0. 0. 0. 0. 1. 0. 0. 0. 1. 4. 2. 0. 0. 0.]\n",
      " [0. 0. 1. 0. 0. 0. 0. 1. 1. 0. 0. 0. 1. 0. 2. 5. 3. 1. 1.]\n",
      " [0. 0. 0. 0. 0. 1. 0. 0. 0. 0. 0. 1. 0. 0. 0. 3. 6. 4. 2.]\n",
      " [0. 1. 0. 0. 1. 0. 2. 0. 0. 0. 1. 0. 0. 1. 0. 1. 4. 7. 5.]\n",
      " [0. 0. 0. 0. 0. 2. 0. 1. 0. 0. 0. 2. 0. 0. 0. 0. 2. 5. 6.]\n",
      " [0. 1. 0. 0. 1. 0. 3. 1. 0. 0. 1. 0. 1. 1. 0. 0. 0. 3. 4.]\n",
      " [0. 0. 2. 0. 0. 0. 1. 4. 2. 0. 0. 0. 1. 0. 0. 1. 0. 1. 4.]\n",
      " [0. 0. 1. 1. 0. 0. 0. 2. 5. 3. 1. 0. 1. 0. 0. 1. 0. 0. 2.]\n",
      " [0. 0. 1. 0. 0. 0. 0. 1. 3. 4. 2. 0. 1. 0. 0. 1. 0. 0. 1.]\n",
      " [0. 0. 0. 2. 0. 0. 0. 0. 1. 4. 3. 1. 0. 0. 1. 0. 0. 0. 0.]\n",
      " [0. 1. 0. 0. 3. 1. 1. 0. 0. 2. 5. 3. 1. 1. 0. 0. 0. 1. 0.]\n",
      " [0. 0. 2. 0. 1. 2. 0. 2. 1. 0. 3. 4. 4. 2. 0. 1. 0. 0. 2.]\n",
      " [0. 0. 0. 1. 0. 2. 1. 0. 1. 0. 1. 4. 3. 3. 1. 0. 2. 0. 0.]\n",
      " [0. 0. 0. 1. 0. 0. 1. 0. 0. 2. 0. 2. 3. 2. 4. 2. 0. 1. 0.]\n",
      " [0. 0. 0. 0. 0. 1. 0. 0. 0. 0. 1. 1. 1. 2. 2. 3. 3. 1. 0.]\n",
      " [0. 1. 0. 0. 1. 0. 2. 0. 0. 0. 1. 0. 0. 2. 1. 1. 2. 4. 2.]\n",
      " [0. 0. 2. 0. 0. 0. 0. 3. 1. 0. 0. 0. 1. 0. 1. 2. 0. 2. 5.]]\n"
     ]
    }
   ],
   "source": [
    "alignment, score, matrix = align('tgcatcgagaccctacgtgac', 'actagacctagcatcgac', gap_penalty=2)\n",
    "print(f\"Optimal local alignment: {alignment}\")\n",
    "print(f\"Alignment score: {score}\")\n",
    "print(f\"Scoring matrix: \\n{matrix}\")"
   ]
  },
  {
   "cell_type": "code",
   "execution_count": null,
   "metadata": {},
   "outputs": [],
   "source": []
  }
 ],
 "metadata": {
  "kernelspec": {
   "display_name": "cbb634-pytorch",
   "language": "python",
   "name": "python3"
  },
  "language_info": {
   "codemirror_mode": {
    "name": "ipython",
    "version": 3
   },
   "file_extension": ".py",
   "mimetype": "text/x-python",
   "name": "python",
   "nbconvert_exporter": "python",
   "pygments_lexer": "ipython3",
   "version": "3.11.5"
  }
 },
 "nbformat": 4,
 "nbformat_minor": 2
}
