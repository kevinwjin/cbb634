{
 "cells": [
  {
   "cell_type": "code",
   "execution_count": null,
   "metadata": {
    "vscode": {
     "languageId": "shellscript"
    }
   },
   "outputs": [],
   "source": [
    "# Execute the following in the terminal to install dependencies:\n",
    "pip install -r requirements.txt"
   ]
  },
  {
   "cell_type": "markdown",
   "metadata": {},
   "source": [
    "# Exercise 1: Implementing the Smith-Waterman algorithm"
   ]
  },
  {
   "cell_type": "code",
   "execution_count": 1,
   "metadata": {},
   "outputs": [
    {
     "data": {
      "image/png": "[encoded data removed]",
      "text/plain": [
       "<Figure size 640x480 with 1 Axes>"
      ]
     },
     "metadata": {},
     "output_type": "display_data"
    }
   ],
   "source": [
    "# Plot comparison matrix for visualization purposes\n",
    "import numpy as np\n",
    "import matplotlib.pyplot as plt\n",
    "\n",
    "def make_diagram(seq1, seq2):\n",
    "    data = np.zeros((len(seq1), len(seq2)))\n",
    "    for i, base1 in enumerate(seq1):\n",
    "        for j, base2 in enumerate(seq2):\n",
    "            if base1 == base2:\n",
    "                data[i, j] = 1\n",
    "    plt.xticks(range(len(seq2)), labels=seq2)\n",
    "    plt.yticks(range(len(seq1)), labels=seq1)\n",
    "    plt.imshow(data, interpolation='nearest', cmap='binary')\n",
    "    plt.gca().xaxis.tick_top()\n",
    "\n",
    "make_diagram('tgcatcgagaccctacgtgac', 'actagacctagcatcgac')\n",
    "plt.show()"
   ]
  },
  {
   "cell_type": "code",
   "execution_count": 29,
   "metadata": {},
   "outputs": [],
   "source": [
    "# Smith-Waterman algorithm: Calculate optimal local alignment and score between two sequences\n",
    "import numpy as np\n",
    "\n",
    "def align(seq1, seq2, match=1, gap_penalty=1, mismatch_penalty=1):\n",
    "    # Create scoring matrix and initialize with zeroes\n",
    "    m, n = len(seq1), len(seq2)\n",
    "    scoring_matrix = np.zeros((m + 1, n + 1))\n",
    "\n",
    "    # Fill the scoring matrix using the Smith-Waterman equation\n",
    "    max_score = 0    # Keeps track of maximum score in matrix\n",
    "    max_pos = (0, 0)    # Position of the highest score in matrix using a tuple\n",
    "\n",
    "    for i in range(1, m + 1):\n",
    "        for j in range(1, n + 1):\n",
    "            # Calculate possible scores for a match, mismatch, and gap for this cell\n",
    "            matching = scoring_matrix[i - 1, j - 1] + (match if seq1[i - 1] == seq2[j - 1] else -mismatch_penalty) # Add match score if bases match, else subtract mismatch penalty\n",
    "            deletion = scoring_matrix[i - 1, j] - gap_penalty # Subtract gap penalty if we want a gap in sequence 1\n",
    "            insertion = scoring_matrix[i, j - 1] - gap_penalty # Subtract gap penalty if we want a gap in sequence 2\n",
    "\n",
    "            # Choose the highest score for this cell from four scenarios\n",
    "            scoring_matrix[i, j] = max(0, matching, deletion, insertion) # 0 = No similarity at all between seq1 and seq2\n",
    "\n",
    "            # Update maximum score in matrix and position of maximum score in matrix\n",
    "            if scoring_matrix[i, j] >= max_score:\n",
    "                max_score = scoring_matrix[i, j] # Update maximum score\n",
    "                max_pos = (i, j) # Update maximum matrix position\n",
    "\n",
    "    # Traceback from highest score using recursion to find the optimal local alignment\n",
    "    def traceback(max_pos):\n",
    "        i, j = max_pos   # Unpack tuple\n",
    "        align1, align2 = '', '' # Initialize final aligned sequences\n",
    "        \n",
    "        while scoring_matrix[i, j] > 0:\n",
    "            current_score = scoring_matrix[i, j] # Score of current cell\n",
    "            diagonal_score = scoring_matrix[i - 1, j - 1] # Go diagonally up?\n",
    "            up_score = scoring_matrix[i, j - 1] # Go up?\n",
    "            left_score = scoring_matrix[i - 1, j] # Go left?\n",
    "\n",
    "            # Check if the trace is at a match, mismatch, or gap in the matrix\n",
    "            if current_score == diagonal_score + (match if seq1[i - 1] == seq2[j - 1] else -mismatch_penalty):\n",
    "                align1 += seq1[i - 1] # Add base to aligned sequence 1\n",
    "                align2 += seq2[j - 1] # Add base to aligned sequence 2\n",
    "                i -= 1 # Move diagonally up\n",
    "                j -= 1 \n",
    "            elif current_score == up_score - gap_penalty:\n",
    "                align1 += '-' # Add gap to aligned sequence 1\n",
    "                align2 += seq2[j - 1] # Add base to aligned sequence 2\n",
    "                j -= 1 # Move up\n",
    "            elif current_score == left_score - gap_penalty:\n",
    "                align1 += seq1[i - 1] # Add base to aligned sequence 1\n",
    "                align2 += '-' # Add gap to aligned sequence 2\n",
    "                i -= 1 # Move left\n",
    "\n",
    "        return align1[::-1], align2[::-1] # Reverse slice to return alignments in correct order\n",
    "\n",
    "    return traceback(max_pos), max_score, scoring_matrix # Return optimal local alignment, score, and scoring matrix"
   ]
  },
  {
   "cell_type": "code",
   "execution_count": 41,
   "metadata": {},
   "outputs": [
    {
     "name": "stdout",
     "output_type": "stream",
     "text": [
      "Optimal local alignment: ('agacccta-cgt-gac', 'aga-cctagcatcgac')\n",
      "Alignment score: 8.0\n",
      "Scoring matrix: \n",
      "[[0. 0. 0. 0. 0. 0. 0. 0. 0. 0. 0. 0. 0. 0. 0. 0. 0. 0. 0.]\n",
      " [0. 0. 0. 1. 0. 0. 0. 0. 0. 1. 0. 0. 0. 0. 1. 0. 0. 0. 0.]\n",
      " [0. 0. 0. 0. 0. 1. 0. 0. 0. 0. 0. 1. 0. 0. 0. 0. 1. 0. 0.]\n",
      " [0. 0. 1. 0. 0. 0. 0. 1. 1. 0. 0. 0. 2. 1. 0. 1. 0. 0. 1.]\n",
      " [0. 1. 0. 0. 1. 0. 1. 0. 0. 0. 1. 0. 1. 3. 2. 1. 0. 1. 0.]\n",
      " [0. 0. 0. 1. 0. 0. 0. 0. 0. 1. 0. 0. 0. 2. 4. 3. 2. 1. 0.]\n",
      " [0. 0. 1. 0. 0. 0. 0. 1. 1. 0. 0. 0. 1. 1. 3. 5. 4. 3. 2.]\n",
      " [0. 0. 0. 0. 0. 1. 0. 0. 0. 0. 0. 1. 0. 0. 2. 4. 6. 5. 4.]\n",
      " [0. 1. 0. 0. 1. 0. 2. 1. 0. 0. 1. 0. 0. 1. 1. 3. 5. 7. 6.]\n",
      " [0. 0. 0. 0. 0. 2. 1. 1. 0. 0. 0. 2. 1. 0. 0. 2. 4. 6. 6.]\n",
      " [0. 1. 0. 0. 1. 1. 3. 2. 1. 0. 1. 1. 1. 2. 1. 1. 3. 5. 5.]\n",
      " [0. 0. 2. 1. 0. 0. 2. 4. 3. 2. 1. 0. 2. 1. 1. 2. 2. 4. 6.]\n",
      " [0. 0. 1. 1. 0. 0. 1. 3. 5. 4. 3. 2. 1. 1. 0. 2. 1. 3. 5.]\n",
      " [0. 0. 1. 0. 0. 0. 0. 2. 4. 4. 3. 2. 3. 2. 1. 1. 1. 2. 4.]\n",
      " [0. 0. 0. 2. 1. 0. 0. 1. 3. 5. 4. 3. 2. 2. 3. 2. 1. 1. 3.]\n",
      " [0. 1. 0. 1. 3. 2. 1. 0. 2. 4. 6. 5. 4. 3. 2. 2. 1. 2. 2.]\n",
      " [0. 0. 2. 1. 2. 2. 1. 2. 1. 3. 5. 5. 6. 5. 4. 3. 2. 1. 3.]\n",
      " [0. 0. 1. 1. 1. 3. 2. 1. 1. 2. 4. 6. 5. 5. 4. 3. 4. 3. 2.]\n",
      " [0. 0. 0. 2. 1. 2. 2. 1. 0. 2. 3. 5. 5. 4. 6. 5. 4. 3. 2.]\n",
      " [0. 0. 0. 1. 1. 2. 1. 1. 0. 1. 2. 4. 4. 4. 5. 5. 6. 5. 4.]\n",
      " [0. 1. 0. 0. 2. 1. 3. 2. 1. 0. 2. 3. 3. 5. 4. 4. 5. 7. 6.]\n",
      " [0. 0. 2. 1. 1. 1. 2. 4. 3. 2. 1. 2. 4. 4. 4. 5. 4. 6. 8.]]\n"
     ]
    }
   ],
   "source": [
    "# Test the algorithm\n",
    "alignment, score, matrix = align('tgcatcgagaccctacgtgac', 'actagacctagcatcgac')\n",
    "print(f\"Optimal local alignment: {alignment}\")\n",
    "print(f\"Alignment score: {score}\")\n",
    "print(f\"Scoring matrix: \\n{matrix}\")"
   ]
  },
  {
   "cell_type": "code",
   "execution_count": 42,
   "metadata": {},
   "outputs": [
    {
     "name": "stdout",
     "output_type": "stream",
     "text": [
      "Optimal local alignment: ('gcatcga', 'gcatcga')\n",
      "Alignment score: 7.0\n",
      "Scoring matrix: \n",
      "[[0. 0. 0. 0. 0. 0. 0. 0. 0. 0. 0. 0. 0. 0. 0. 0. 0. 0. 0.]\n",
      " [0. 0. 0. 1. 0. 0. 0. 0. 0. 1. 0. 0. 0. 0. 1. 0. 0. 0. 0.]\n",
      " [0. 0. 0. 0. 0. 1. 0. 0. 0. 0. 0. 1. 0. 0. 0. 0. 1. 0. 0.]\n",
      " [0. 0. 1. 0. 0. 0. 0. 1. 1. 0. 0. 0. 2. 0. 0. 1. 0. 0. 1.]\n",
      " [0. 1. 0. 0. 1. 0. 1. 0. 0. 0. 1. 0. 0. 3. 1. 0. 0. 1. 0.]\n",
      " [0. 0. 0. 1. 0. 0. 0. 0. 0. 1. 0. 0. 0. 1. 4. 2. 0. 0. 0.]\n",
      " [0. 0. 1. 0. 0. 0. 0. 1. 1. 0. 0. 0. 1. 0. 2. 5. 3. 1. 1.]\n",
      " [0. 0. 0. 0. 0. 1. 0. 0. 0. 0. 0. 1. 0. 0. 0. 3. 6. 4. 2.]\n",
      " [0. 1. 0. 0. 1. 0. 2. 0. 0. 0. 1. 0. 0. 1. 0. 1. 4. 7. 5.]\n",
      " [0. 0. 0. 0. 0. 2. 0. 1. 0. 0. 0. 2. 0. 0. 0. 0. 2. 5. 6.]\n",
      " [0. 1. 0. 0. 1. 0. 3. 1. 0. 0. 1. 0. 1. 1. 0. 0. 0. 3. 4.]\n",
      " [0. 0. 2. 0. 0. 0. 1. 4. 2. 0. 0. 0. 1. 0. 0. 1. 0. 1. 4.]\n",
      " [0. 0. 1. 1. 0. 0. 0. 2. 5. 3. 1. 0. 1. 0. 0. 1. 0. 0. 2.]\n",
      " [0. 0. 1. 0. 0. 0. 0. 1. 3. 4. 2. 0. 1. 0. 0. 1. 0. 0. 1.]\n",
      " [0. 0. 0. 2. 0. 0. 0. 0. 1. 4. 3. 1. 0. 0. 1. 0. 0. 0. 0.]\n",
      " [0. 1. 0. 0. 3. 1. 1. 0. 0. 2. 5. 3. 1. 1. 0. 0. 0. 1. 0.]\n",
      " [0. 0. 2. 0. 1. 2. 0. 2. 1. 0. 3. 4. 4. 2. 0. 1. 0. 0. 2.]\n",
      " [0. 0. 0. 1. 0. 2. 1. 0. 1. 0. 1. 4. 3. 3. 1. 0. 2. 0. 0.]\n",
      " [0. 0. 0. 1. 0. 0. 1. 0. 0. 2. 0. 2. 3. 2. 4. 2. 0. 1. 0.]\n",
      " [0. 0. 0. 0. 0. 1. 0. 0. 0. 0. 1. 1. 1. 2. 2. 3. 3. 1. 0.]\n",
      " [0. 1. 0. 0. 1. 0. 2. 0. 0. 0. 1. 0. 0. 2. 1. 1. 2. 4. 2.]\n",
      " [0. 0. 2. 0. 0. 0. 0. 3. 1. 0. 0. 0. 1. 0. 1. 2. 0. 2. 5.]]\n"
     ]
    }
   ],
   "source": [
    "alignment, score, matrix = align('tgcatcgagaccctacgtgac', 'actagacctagcatcgac', gap_penalty=2)\n",
    "print(f\"Optimal local alignment: {alignment}\")\n",
    "print(f\"Alignment score: {score}\")\n",
    "print(f\"Scoring matrix: \\n{matrix}\")"
   ]
  },
  {
   "cell_type": "code",
   "execution_count": 45,
   "metadata": {},
   "outputs": [
    {
     "name": "stdout",
     "output_type": "stream",
     "text": [
      "Optimal local alignment: ('atcgagacccta-cgt-gac', 'a-ctaga-cctagcatcgac')\n",
      "Alignment score: 34.0\n",
      "Scoring matrix: \n",
      "[[ 0.  0.  0.  0.  0.  0.  0.  0.  0.  0.  0.  0.  0.  0.  0.  0.  0.  0.\n",
      "   0.]\n",
      " [ 0.  0.  0.  3.  2.  1.  0.  0.  0.  3.  2.  1.  0.  0.  3.  2.  1.  0.\n",
      "   0.]\n",
      " [ 0.  0.  0.  2.  1.  5.  4.  3.  2.  2.  1.  5.  4.  3.  2.  1.  5.  4.\n",
      "   3.]\n",
      " [ 0.  0.  3.  2.  1.  4.  3.  7.  6.  5.  4.  4.  8.  7.  6.  5.  4.  3.\n",
      "   7.]\n",
      " [ 0.  3.  2.  1.  5.  4.  7.  6.  5.  4.  8.  7.  7. 11. 10.  9.  8.  7.\n",
      "   6.]\n",
      " [ 0.  2.  1.  5.  4.  3.  6.  5.  4.  8.  7.  6.  6. 10. 14. 13. 12. 11.\n",
      "  10.]\n",
      " [ 0.  1.  5.  4.  3.  2.  5.  9.  8.  7.  6.  5.  9.  9. 13. 17. 16. 15.\n",
      "  14.]\n",
      " [ 0.  0.  4.  3.  2.  6.  5.  8.  7.  6.  5.  9.  8.  8. 12. 16. 20. 19.\n",
      "  18.]\n",
      " [ 0.  3.  3.  2.  6.  5.  9.  8.  7.  6.  9.  8.  7. 11. 11. 15. 19. 23.\n",
      "  22.]\n",
      " [ 0.  2.  2.  1.  5.  9.  8.  7.  6.  5.  8. 12. 11. 10. 10. 14. 18. 22.\n",
      "  21.]\n",
      " [ 0.  3.  2.  1.  4.  8. 12. 11. 10.  9.  8. 11. 10. 14. 13. 13. 17. 21.\n",
      "  20.]\n",
      " [ 0.  2.  6.  5.  4.  7. 11. 15. 14. 13. 12. 11. 14. 13. 12. 16. 16. 20.\n",
      "  24.]\n",
      " [ 0.  1.  5.  4.  3.  6. 10. 14. 18. 17. 16. 15. 14. 13. 12. 15. 15. 19.\n",
      "  23.]\n",
      " [ 0.  0.  4.  3.  2.  5.  9. 13. 17. 16. 15. 14. 18. 17. 16. 15. 14. 18.\n",
      "  22.]\n",
      " [ 0.  0.  3.  7.  6.  5.  8. 12. 16. 20. 19. 18. 17. 16. 20. 19. 18. 17.\n",
      "  21.]\n",
      " [ 0.  3.  2.  6. 10.  9.  8. 11. 15. 19. 23. 22. 21. 20. 19. 18. 17. 21.\n",
      "  20.]\n",
      " [ 0.  2.  6.  5.  9.  8.  7. 11. 14. 18. 22. 21. 25. 24. 23. 22. 21. 20.\n",
      "  24.]\n",
      " [ 0.  1.  5.  4.  8. 12. 11. 10. 13. 17. 21. 25. 24. 23. 22. 21. 25. 24.\n",
      "  23.]\n",
      " [ 0.  0.  4.  8.  7. 11. 10.  9. 12. 16. 20. 24. 23. 22. 26. 25. 24. 23.\n",
      "  22.]\n",
      " [ 0.  0.  3.  7.  6. 10.  9.  8. 11. 15. 19. 23. 22. 21. 25. 24. 28. 27.\n",
      "  26.]\n",
      " [ 0.  3.  2.  6. 10.  9. 13. 12. 11. 14. 18. 22. 21. 25. 24. 23. 27. 31.\n",
      "  30.]\n",
      " [ 0.  2.  6.  5.  9.  8. 12. 16. 15. 14. 17. 21. 25. 24. 23. 27. 26. 30.\n",
      "  34.]]\n"
     ]
    }
   ],
   "source": [
    "alignment, score, matrix = align('tgcatcgagaccctacgtgac', 'actagacctagcatcgac', match=3, gap_penalty=1, mismatch_penalty=2)\n",
    "print(f\"Optimal local alignment: {alignment}\")\n",
    "print(f\"Alignment score: {score}\")\n",
    "print(f\"Scoring matrix: \\n{matrix}\")"
   ]
  },
  {
   "cell_type": "code",
   "execution_count": 46,
   "metadata": {},
   "outputs": [
    {
     "name": "stdout",
     "output_type": "stream",
     "text": [
      "Optimal local alignment: ('agacccta-cgt-gac', 'aga-cctagcatcgac')\n",
      "Alignment score: 16.0\n",
      "Scoring matrix: \n",
      "[[ 0.  0.  0.  0.  0.  0.  0.  0.  0.  0.  0.  0.  0.  0.  0.  0.  0.  0.\n",
      "   0.]\n",
      " [ 0.  0.  0.  2.  0.  0.  0.  0.  0.  2.  0.  0.  0.  0.  2.  0.  0.  0.\n",
      "   0.]\n",
      " [ 0.  0.  0.  0.  0.  2.  0.  0.  0.  0.  0.  2.  0.  0.  0.  0.  2.  0.\n",
      "   0.]\n",
      " [ 0.  0.  2.  0.  0.  0.  0.  2.  2.  0.  0.  0.  4.  2.  0.  2.  0.  0.\n",
      "   2.]\n",
      " [ 0.  2.  0.  0.  2.  0.  2.  0.  0.  0.  2.  0.  2.  6.  4.  2.  0.  2.\n",
      "   0.]\n",
      " [ 0.  0.  0.  2.  0.  0.  0.  0.  0.  2.  0.  0.  0.  4.  8.  6.  4.  2.\n",
      "   0.]\n",
      " [ 0.  0.  2.  0.  0.  0.  0.  2.  2.  0.  0.  0.  2.  2.  6. 10.  8.  6.\n",
      "   4.]\n",
      " [ 0.  0.  0.  0.  0.  2.  0.  0.  0.  0.  0.  2.  0.  0.  4.  8. 12. 10.\n",
      "   8.]\n",
      " [ 0.  2.  0.  0.  2.  0.  4.  2.  0.  0.  2.  0.  0.  2.  2.  6. 10. 14.\n",
      "  12.]\n",
      " [ 0.  0.  0.  0.  0.  4.  2.  2.  0.  0.  0.  4.  2.  0.  0.  4.  8. 12.\n",
      "  12.]\n",
      " [ 0.  2.  0.  0.  2.  2.  6.  4.  2.  0.  2.  2.  2.  4.  2.  2.  6. 10.\n",
      "  10.]\n",
      " [ 0.  0.  4.  2.  0.  0.  4.  8.  6.  4.  2.  0.  4.  2.  2.  4.  4.  8.\n",
      "  12.]\n",
      " [ 0.  0.  2.  2.  0.  0.  2.  6. 10.  8.  6.  4.  2.  2.  0.  4.  2.  6.\n",
      "  10.]\n",
      " [ 0.  0.  2.  0.  0.  0.  0.  4.  8.  8.  6.  4.  6.  4.  2.  2.  2.  4.\n",
      "   8.]\n",
      " [ 0.  0.  0.  4.  2.  0.  0.  2.  6. 10.  8.  6.  4.  4.  6.  4.  2.  2.\n",
      "   6.]\n",
      " [ 0.  2.  0.  2.  6.  4.  2.  0.  4.  8. 12. 10.  8.  6.  4.  4.  2.  4.\n",
      "   4.]\n",
      " [ 0.  0.  4.  2.  4.  4.  2.  4.  2.  6. 10. 10. 12. 10.  8.  6.  4.  2.\n",
      "   6.]\n",
      " [ 0.  0.  2.  2.  2.  6.  4.  2.  2.  4.  8. 12. 10. 10.  8.  6.  8.  6.\n",
      "   4.]\n",
      " [ 0.  0.  0.  4.  2.  4.  4.  2.  0.  4.  6. 10. 10.  8. 12. 10.  8.  6.\n",
      "   4.]\n",
      " [ 0.  0.  0.  2.  2.  4.  2.  2.  0.  2.  4.  8.  8.  8. 10. 10. 12. 10.\n",
      "   8.]\n",
      " [ 0.  2.  0.  0.  4.  2.  6.  4.  2.  0.  4.  6.  6. 10.  8.  8. 10. 14.\n",
      "  12.]\n",
      " [ 0.  0.  4.  2.  2.  2.  4.  8.  6.  4.  2.  4.  8.  8.  8. 10.  8. 12.\n",
      "  16.]]\n"
     ]
    }
   ],
   "source": [
    "alignment, score, matrix = align('tgcatcgagaccctacgtgac', 'actagacctagcatcgac', match=2, gap_penalty=2, mismatch_penalty=2)\n",
    "print(f\"Optimal local alignment: {alignment}\")\n",
    "print(f\"Alignment score: {score}\")\n",
    "print(f\"Scoring matrix: \\n{matrix}\")"
   ]
  },
  {
   "cell_type": "code",
   "execution_count": 47,
   "metadata": {},
   "outputs": [
    {
     "name": "stdout",
     "output_type": "stream",
     "text": [
      "Optimal local alignment: ('cgagacccta-cgt-gac', 'ctaga-cctagcatcgac')\n",
      "Alignment score: 9.0\n",
      "Scoring matrix: \n",
      "[[0.  0.  0.  0.  0.  0.  0.  0.  0.  0.  0.  0.  0.  0.  0.  0.  0.  0.\n",
      "  0. ]\n",
      " [0.  0.  0.  1.  0.  0.  0.  0.  0.  1.  0.  0.  0.  0.  1.  0.  0.  0.\n",
      "  0. ]\n",
      " [0.  0.  0.  0.  0.5 1.  0.  0.  0.  0.  0.5 1.  0.  0.  0.  0.5 1.  0.\n",
      "  0. ]\n",
      " [0.  0.  1.  0.  0.  0.  0.5 1.  1.  0.  0.  0.  2.  1.  0.  1.  0.  0.5\n",
      "  1. ]\n",
      " [0.  1.  0.  0.5 1.  0.  1.  0.  0.5 0.5 1.  0.  1.  3.  2.  1.  0.5 1.\n",
      "  0. ]\n",
      " [0.  0.  0.5 1.  0.  0.5 0.  0.5 0.  1.5 0.5 0.5 0.  2.  4.  3.  2.  1.\n",
      "  0.5]\n",
      " [0.  0.  1.  0.  0.5 0.  0.  1.  1.5 0.5 1.  0.  1.5 1.  3.  5.  4.  3.\n",
      "  2. ]\n",
      " [0.  0.  0.  0.5 0.  1.5 0.5 0.  0.5 1.  0.  2.  1.  1.  2.  4.  6.  5.\n",
      "  4. ]\n",
      " [0.  1.  0.  0.  1.5 0.5 2.5 1.5 0.5 0.  2.  1.  1.5 2.  1.  3.  5.  7.\n",
      "  6. ]\n",
      " [0.  0.  0.5 0.  0.5 2.5 1.5 2.  1.  0.  1.  3.  2.  1.  1.5 2.  4.  6.\n",
      "  6.5]\n",
      " [0.  1.  0.  0.  1.  1.5 3.5 2.5 1.5 0.5 1.  2.  2.5 3.  2.  1.  3.  5.\n",
      "  5.5]\n",
      " [0.  0.  2.  1.  0.  0.5 2.5 4.5 3.5 2.5 1.5 1.  3.  2.  2.5 3.  2.  4.\n",
      "  6. ]\n",
      " [0.  0.  1.  1.5 0.5 0.  1.5 3.5 5.5 4.5 3.5 2.5 2.  2.5 1.5 3.5 2.5 3.\n",
      "  5. ]\n",
      " [0.  0.  1.  0.5 1.  0.  0.5 2.5 4.5 5.  4.  3.  3.5 2.5 2.  2.5 3.  2.\n",
      "  4. ]\n",
      " [0.  0.  0.  2.  1.  0.5 0.  1.5 3.5 5.5 4.5 3.5 2.5 3.  3.5 2.5 2.  2.5\n",
      "  3. ]\n",
      " [0.  1.  0.  1.  3.  2.  1.5 0.5 2.5 4.5 6.5 5.5 4.5 3.5 2.5 3.  2.  3.\n",
      "  2. ]\n",
      " [0.  0.  2.  1.  2.  2.5 1.5 2.5 1.5 3.5 5.5 6.  6.5 5.5 4.5 3.5 2.5 2.\n",
      "  4. ]\n",
      " [0.  0.  1.  1.5 1.  3.  2.  1.5 2.  2.5 4.5 6.5 5.5 6.  5.  4.  4.5 3.5\n",
      "  3. ]\n",
      " [0.  0.  0.  2.  1.  2.  2.5 1.5 1.  3.  3.5 5.5 6.  5.  7.  6.  5.  4.\n",
      "  3. ]\n",
      " [0.  0.  0.  1.  1.5 2.  1.5 2.  1.  2.  2.5 4.5 5.  5.5 6.  6.5 7.  6.\n",
      "  5. ]\n",
      " [0.  1.  0.  0.  2.  1.  3.  2.  1.5 1.  3.  3.5 4.  6.  5.  5.5 6.  8.\n",
      "  7. ]\n",
      " [0.  0.  2.  1.  1.  1.5 2.  4.  3.  2.  2.  2.5 4.5 5.  5.5 6.  5.  7.\n",
      "  9. ]]\n"
     ]
    }
   ],
   "source": [
    "alignment, score, matrix = align('tgcatcgagaccctacgtgac', 'actagacctagcatcgac', match=1, gap_penalty=1, mismatch_penalty=0.5)\n",
    "print(f\"Optimal local alignment: {alignment}\")\n",
    "print(f\"Alignment score: {score}\")\n",
    "print(f\"Scoring matrix: \\n{matrix}\")"
   ]
  }
 ],
 "metadata": {
  "kernelspec": {
   "display_name": "cbb634-pytorch",
   "language": "python",
   "name": "python3"
  },
  "language_info": {
   "codemirror_mode": {
    "name": "ipython",
    "version": 3
   },
   "file_extension": ".py",
   "mimetype": "text/x-python",
   "name": "python",
   "nbconvert_exporter": "python",
   "pygments_lexer": "ipython3",
   "version": "3.8.8"
  }
 },
 "nbformat": 4,
 "nbformat_minor": 2
}
