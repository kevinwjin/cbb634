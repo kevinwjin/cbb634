{
 "cells": [
  {
   "cell_type": "markdown",
   "metadata": {},
   "source": [
    "# Dependencies\n",
    "Execute the following in the terminal before running any notebooks:\n",
    "`pip install -r requirements.txt`"
   ]
  },
  {
   "cell_type": "markdown",
   "metadata": {},
   "source": [
    "# Exercise 1: Implementing the Smith-Waterman algorithm"
   ]
  },
  {
   "cell_type": "code",
   "execution_count": 2,
   "metadata": {},
   "outputs": [
    {
     "data": {
      "image/png": "[encoded data removed]",
      "text/plain": [
       "<Figure size 640x480 with 1 Axes>"
      ]
     },
     "metadata": {},
     "output_type": "display_data"
    }
   ],
   "source": [
    "import numpy as np\n",
    "import matplotlib.pyplot as plt\n",
    "\n",
    "def make_diagram(seq1, seq2):\n",
    "    data = np.zeros((len(seq1), len(seq2)))\n",
    "    for i, base1 in enumerate(seq1):\n",
    "        for j, base2 in enumerate(seq2):\n",
    "            if base1 == base2:\n",
    "                data[i, j] = 1\n",
    "    plt.xticks(range(len(seq2)), labels=seq2)\n",
    "    plt.yticks(range(len(seq1)), labels=seq1)\n",
    "    plt.imshow(data, interpolation='nearest', cmap='binary')\n",
    "    plt.gca().xaxis.tick_top()\n",
    "\n",
    "make_diagram('ACTAGACCTAGCATCGAC', 'TGCATCGAGACCCTACGTGAC')\n",
    "plt.show()"
   ]
  },
  {
   "cell_type": "code",
   "execution_count": null,
   "metadata": {},
   "outputs": [],
   "source": [
    "# Return optical local alignment and score between two strings using Smith-Waterman algorithm\n",
    "def align(seq1, seq2, match=1, gap_penalty=1, mismatch_penalty=1):\n",
    "    pass"
   ]
  },
  {
   "cell_type": "code",
   "execution_count": null,
   "metadata": {},
   "outputs": [],
   "source": [
    "# Test the alignment function\n",
    "seq1, seq2, score = align('tgcatcgagaccctacgtgac', 'actagacctagcatcgac')\n",
    "print(seq1)\n",
    "print(seq2)\n",
    "print(score)\n",
    "\n",
    "seq1, seq2, score = align('tgcatcgagaccctacgtgac', 'actagacctagcatcgac', gap_penalty=2)\n",
    "print(seq1)\n",
    "print(seq2)\n",
    "print(score)"
   ]
  }
 ],
 "metadata": {
  "kernelspec": {
   "display_name": "cbb634-pytorch",
   "language": "python",
   "name": "python3"
  },
  "language_info": {
   "codemirror_mode": {
    "name": "ipython",
    "version": 3
   },
   "file_extension": ".py",
   "mimetype": "text/x-python",
   "name": "python",
   "nbconvert_exporter": "python",
   "pygments_lexer": "ipython3",
   "version": "3.11.6"
  }
 },
 "nbformat": 4,
 "nbformat_minor": 2
}
