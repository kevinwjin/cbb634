{
 "cells": [
  {
   "cell_type": "markdown",
   "metadata": {},
   "source": [
    "# Exercise 2: Bloom filter"
   ]
  },
  {
   "cell_type": "code",
   "execution_count": 146,
   "metadata": {},
   "outputs": [],
   "source": [
    "# Implement a Bloom filter using bitarray\n",
    "import bitarray as bit\n",
    "from hashlib import sha3_256, sha256, blake2b\n",
    "\n",
    "class BloomFilter:\n",
    "    def __init__(self, size, hashes):\n",
    "        self.size = size # Specify filter size\n",
    "        self.hashes = hashes # Specify desired hash functions\n",
    "        self.bitarray = bit.bitarray(size) # Initialize bitarray with defined size\n",
    "\n",
    "    # Define hash functions, which return the bitarray index\n",
    "    def my_hash(self, value):\n",
    "        return int(sha256(value.lower().encode()).hexdigest(), 16) % self.size\n",
    "\n",
    "    def my_hash2(self, value):\n",
    "        return int(blake2b(value.lower().encode()).hexdigest(), 16) % self.size\n",
    "\n",
    "    def my_hash3(self, value):\n",
    "        return int(sha3_256(value.lower().encode()).hexdigest(), 16) % self.size \n",
    "    \n",
    "    # Add a value to the Bloom filter\n",
    "    # Note: Access hash functions as instance methods for flexibility to choose combinations\n",
    "    def add(self, value):\n",
    "        for hash in self.hashes: # Apply value through selected hash functions\n",
    "            index = hash(self, value) # Get hashed value to bitarray index\n",
    "            self.bitarray[index] = 1 # Set corresponding position in bitarray to 1 (occupied)\n",
    "\n",
    "    # Check if a value is in the Bloom filter (may return false positives)\n",
    "    def lookup(self, value):\n",
    "        for hash in self.hashes:\n",
    "            hashed = hash(self, value) # Access hash functions as instance methods\n",
    "            index = hashed % self.size # Convert hashed value to index\n",
    "            if self.bitarray[index] == 0: # Check if index position in bitarray is occupied\n",
    "                return False\n",
    "        return True"
   ]
  },
  {
   "cell_type": "code",
   "execution_count": 132,
   "metadata": {},
   "outputs": [
    {
     "name": "stdout",
     "output_type": "stream",
     "text": [
      "True\n",
      "False\n"
     ]
    }
   ],
   "source": [
    "# Test the Bloom filter\n",
    "add_test = BloomFilter(size = 100, hashes = [BloomFilter.my_hash, BloomFilter.my_hash2, BloomFilter.my_hash3])\n",
    "add_test.add(\"Hello!\")\n",
    "print(add_test.lookup(\"Hello!\"))   # True (potentially a false positive)\n",
    "print(add_test.lookup(\"Goodbye!\")) # False"
   ]
  },
  {
   "cell_type": "code",
   "execution_count": 138,
   "metadata": {},
   "outputs": [
    {
     "name": "stdout",
     "output_type": "stream",
     "text": [
      "False\n",
      "True\n",
      "True\n",
      "True\n",
      "True\n"
     ]
    }
   ],
   "source": [
    "# Store words.txt into Bloom filter (assuming all words are correctly spelled)\n",
    "# Note: To avoid hash collisions, the absolute minimum for a corpus of 500,000 words with 3 hash functions is 150,000 bits.\n",
    "# For a starting point, at least 1,000,000 (1e6) bits is recommended; 10,000,000 (1e7) bits to be safe.\n",
    "words = BloomFilter(size = 10_000_000, hashes = [BloomFilter.my_hash, BloomFilter.my_hash2, BloomFilter.my_hash3])\n",
    "\n",
    "with open(\"words.txt\") as file:\n",
    "    # Read word list one at a time\n",
    "    for line in file:\n",
    "        word = line.strip()\n",
    "        words.add(word)\n",
    "\n",
    "# Test the primed filter\n",
    "print(words.lookup(\"cb&b634\"))       # False\n",
    "print(words.lookup(\"computational\")) # True\n",
    "print(words.lookup(\"methods\"))       # True\n",
    "print(words.lookup(\"for\"))           # True\n",
    "print(words.lookup(\"informatics\"))   # True"
   ]
  },
  {
   "cell_type": "code",
   "execution_count": 134,
   "metadata": {},
   "outputs": [
    {
     "name": "stdout",
     "output_type": "stream",
     "text": [
      "['pruh', 'bluh', 'brum', 'brut']\n",
      "'moment' may be spelled correctly.\n"
     ]
    }
   ],
   "source": [
    "# Use Bloom filter to create a spell checker\n",
    "# Note: May return more false positives (suggesting a word not in the list) with smaller filters and fewer hash functions.\n",
    "def spell_checker(word, BloomFilter):\n",
    "    # If the word is in the specified Bloom filter, it may be correctly spelled\n",
    "    if BloomFilter.lookup(word):\n",
    "        return(f\"'{word}' may be spelled correctly.\")\n",
    "    \n",
    "    # If not, generate all possible single-letter substitutions and test them against Bloom filter\n",
    "    word_suggestions = []\n",
    "    for i in range(len(word)):\n",
    "        for letter in \"abcdefghijklmnopqrstuvwxyz\":\n",
    "            candidate = word[:i] + letter + word[i+1:] # Slice word to test every letter at every character position\n",
    "            if BloomFilter.lookup(candidate):\n",
    "                word_suggestions.append(candidate)\n",
    "\n",
    "    # Return candidate words\n",
    "    return word_suggestions\n",
    "\n",
    "print(spell_checker(\"bruh\", words))   # ['pruh', 'bluh', 'brum', 'brut']\n",
    "print(spell_checker(\"moment\", words)) # 'moment' may be spelled correctly."
   ]
  },
  {
   "cell_type": "code",
   "execution_count": 64,
   "metadata": {},
   "outputs": [
    {
     "name": "stdout",
     "output_type": "stream",
     "text": [
      "Suggestion accuracy: 45.8 %\n"
     ]
    }
   ],
   "source": [
    "# Test spell checker on typos.json\n",
    "import json\n",
    "\n",
    "def accuracy_checker(BloomFilter):\n",
    "    # Load list of typos\n",
    "    with open(\"typos.json\") as file:\n",
    "        typos = json.load(file) # Creates list of [typed_word, correct_word] pairs\n",
    "    correct_count = 0\n",
    "    \n",
    "    # Check if correct word is produced by the specified Bloom filter and that it gives no more than 3 suggestions\n",
    "    for typo in typos:\n",
    "        if (typo[1] in spell_checker(typo[0], BloomFilter)) and (len(spell_checker(typo[0], BloomFilter)) <= 3):\n",
    "            correct_count = correct_count + 1\n",
    "\n",
    "    # Return spell checker accuracy\n",
    "    return(correct_count / len(typos))\n",
    "\n",
    "print(\"Suggestion accuracy:\", round(accuracy_checker(words) * 100, 3), \"%\")\n"
   ]
  },
  {
   "cell_type": "code",
   "execution_count": 144,
   "metadata": {},
   "outputs": [],
   "source": [
    "test = BloomFilter(size = 10_000_000, hashes = [BloomFilter.my_hash, BloomFilter.my_hash2, BloomFilter.my_hash3])\n",
    "with open(\"words.txt\") as file:\n",
    "    for line in file:\n",
    "        word = line.strip()\n",
    "        test.add(word)"
   ]
  },
  {
   "cell_type": "code",
   "execution_count": 145,
   "metadata": {},
   "outputs": [
    {
     "name": "stdout",
     "output_type": "stream",
     "text": [
      "['pruh', 'bluh', 'brum', 'brut']\n",
      "'moment' may be spelled correctly.\n",
      "['iruh', 'pruh', 'qruh', 'zruh', 'bcuh', 'bfuh', 'bluh', 'bouh', 'brgh', 'brnh', 'brwh', 'brxh', 'brul', 'brum', 'brut']\n",
      "'moment' may be spelled correctly.\n"
     ]
    }
   ],
   "source": [
    "print(spell_checker(\"bruh\", test))   # ['pruh', 'bluh', 'brum', 'brut']\n",
    "print(spell_checker(\"moment\", test)) # 'moment' may be spelled correctly.\n",
    "\n",
    "print(spell_checker(\"bruh\", words))   # ['pruh', 'bluh', 'brum', 'brut']\n",
    "print(spell_checker(\"moment\", words)) # 'moment' may be spelled correctly."
   ]
  },
  {
   "cell_type": "code",
   "execution_count": 65,
   "metadata": {},
   "outputs": [
    {
     "ename": "KeyboardInterrupt",
     "evalue": "",
     "output_type": "error",
     "traceback": [
      "\u001b[0;31m---------------------------------------------------------------------------\u001b[0m",
      "\u001b[0;31mKeyboardInterrupt\u001b[0m                         Traceback (most recent call last)",
      "\u001b[1;32m/Users/kevin/Documents/Computational Methods for Informatics/cbb634/pset_2/exercise_2.ipynb Cell 7\u001b[0m line \u001b[0;36m1\n\u001b[1;32m      <a href='vscode-notebook-cell:/Users/kevin/Documents/Computational%20Methods%20for%20Informatics/cbb634/pset_2/exercise_2.ipynb#X12sZmlsZQ%3D%3D?line=7'>8</a>\u001b[0m \u001b[39mfor\u001b[39;00m size \u001b[39min\u001b[39;00m sizes:\n\u001b[1;32m      <a href='vscode-notebook-cell:/Users/kevin/Documents/Computational%20Methods%20for%20Informatics/cbb634/pset_2/exercise_2.ipynb#X12sZmlsZQ%3D%3D?line=8'>9</a>\u001b[0m     one_hash_filter \u001b[39m=\u001b[39m BloomFilter(size \u001b[39m=\u001b[39m size, hashes \u001b[39m=\u001b[39m [BloomFilter\u001b[39m.\u001b[39mmy_hash])\n\u001b[0;32m---> <a href='vscode-notebook-cell:/Users/kevin/Documents/Computational%20Methods%20for%20Informatics/cbb634/pset_2/exercise_2.ipynb#X12sZmlsZQ%3D%3D?line=9'>10</a>\u001b[0m     accuracy \u001b[39m=\u001b[39m accuracy_checker(one_hash_filter)\n\u001b[1;32m     <a href='vscode-notebook-cell:/Users/kevin/Documents/Computational%20Methods%20for%20Informatics/cbb634/pset_2/exercise_2.ipynb#X12sZmlsZQ%3D%3D?line=10'>11</a>\u001b[0m     accuracies\u001b[39m.\u001b[39mappend(accuracy)\n\u001b[1;32m     <a href='vscode-notebook-cell:/Users/kevin/Documents/Computational%20Methods%20for%20Informatics/cbb634/pset_2/exercise_2.ipynb#X12sZmlsZQ%3D%3D?line=12'>13</a>\u001b[0m one_hash_results \u001b[39m=\u001b[39m pd\u001b[39m.\u001b[39mDataFrame({\u001b[39m\"\u001b[39m\u001b[39mfilter_size\u001b[39m\u001b[39m\"\u001b[39m: sizes, \u001b[39m\"\u001b[39m\u001b[39maccuracy\u001b[39m\u001b[39m\"\u001b[39m: accuracies})\n",
      "\u001b[1;32m/Users/kevin/Documents/Computational Methods for Informatics/cbb634/pset_2/exercise_2.ipynb Cell 7\u001b[0m line \u001b[0;36m1\n\u001b[1;32m      <a href='vscode-notebook-cell:/Users/kevin/Documents/Computational%20Methods%20for%20Informatics/cbb634/pset_2/exercise_2.ipynb#X12sZmlsZQ%3D%3D?line=7'>8</a>\u001b[0m correct_count \u001b[39m=\u001b[39m \u001b[39m0\u001b[39m\n\u001b[1;32m      <a href='vscode-notebook-cell:/Users/kevin/Documents/Computational%20Methods%20for%20Informatics/cbb634/pset_2/exercise_2.ipynb#X12sZmlsZQ%3D%3D?line=8'>9</a>\u001b[0m \u001b[39mfor\u001b[39;00m typo \u001b[39min\u001b[39;00m typos:\n\u001b[1;32m     <a href='vscode-notebook-cell:/Users/kevin/Documents/Computational%20Methods%20for%20Informatics/cbb634/pset_2/exercise_2.ipynb#X12sZmlsZQ%3D%3D?line=9'>10</a>\u001b[0m     \u001b[39m# Check if correct word is produced by the specified Bloom filter and that it gives no more than 3 suggestions\u001b[39;00m\n\u001b[0;32m---> <a href='vscode-notebook-cell:/Users/kevin/Documents/Computational%20Methods%20for%20Informatics/cbb634/pset_2/exercise_2.ipynb#X12sZmlsZQ%3D%3D?line=10'>11</a>\u001b[0m     \u001b[39mif\u001b[39;00m (typo[\u001b[39m1\u001b[39m] \u001b[39min\u001b[39;00m spell_checker(typo[\u001b[39m0\u001b[39m], BloomFilter)) \u001b[39mand\u001b[39;00m (\u001b[39mlen\u001b[39m(spell_checker(typo[\u001b[39m0\u001b[39;49m], BloomFilter)) \u001b[39m<\u001b[39m\u001b[39m=\u001b[39m \u001b[39m3\u001b[39m):\n\u001b[1;32m     <a href='vscode-notebook-cell:/Users/kevin/Documents/Computational%20Methods%20for%20Informatics/cbb634/pset_2/exercise_2.ipynb#X12sZmlsZQ%3D%3D?line=11'>12</a>\u001b[0m         correct_count \u001b[39m=\u001b[39m correct_count \u001b[39m+\u001b[39m \u001b[39m1\u001b[39m\n\u001b[1;32m     <a href='vscode-notebook-cell:/Users/kevin/Documents/Computational%20Methods%20for%20Informatics/cbb634/pset_2/exercise_2.ipynb#X12sZmlsZQ%3D%3D?line=13'>14</a>\u001b[0m \u001b[39m# Return spell checker accuracy\u001b[39;00m\n",
      "\u001b[1;32m/Users/kevin/Documents/Computational Methods for Informatics/cbb634/pset_2/exercise_2.ipynb Cell 7\u001b[0m line \u001b[0;36m1\n\u001b[1;32m     <a href='vscode-notebook-cell:/Users/kevin/Documents/Computational%20Methods%20for%20Informatics/cbb634/pset_2/exercise_2.ipynb#X12sZmlsZQ%3D%3D?line=10'>11</a>\u001b[0m     \u001b[39mfor\u001b[39;00m letter \u001b[39min\u001b[39;00m \u001b[39m\"\u001b[39m\u001b[39mabcdefghijklmnopqrstuvwxyz\u001b[39m\u001b[39m\"\u001b[39m:\n\u001b[1;32m     <a href='vscode-notebook-cell:/Users/kevin/Documents/Computational%20Methods%20for%20Informatics/cbb634/pset_2/exercise_2.ipynb#X12sZmlsZQ%3D%3D?line=11'>12</a>\u001b[0m         candidate \u001b[39m=\u001b[39m word[:i] \u001b[39m+\u001b[39m letter \u001b[39m+\u001b[39m word[i\u001b[39m+\u001b[39m\u001b[39m1\u001b[39m:] \u001b[39m# Slice word to test every letter at every character position\u001b[39;00m\n\u001b[0;32m---> <a href='vscode-notebook-cell:/Users/kevin/Documents/Computational%20Methods%20for%20Informatics/cbb634/pset_2/exercise_2.ipynb#X12sZmlsZQ%3D%3D?line=12'>13</a>\u001b[0m         \u001b[39mif\u001b[39;00m BloomFilter\u001b[39m.\u001b[39;49mlookup(candidate):\n\u001b[1;32m     <a href='vscode-notebook-cell:/Users/kevin/Documents/Computational%20Methods%20for%20Informatics/cbb634/pset_2/exercise_2.ipynb#X12sZmlsZQ%3D%3D?line=13'>14</a>\u001b[0m             word_suggestions\u001b[39m.\u001b[39mappend(candidate)\n\u001b[1;32m     <a href='vscode-notebook-cell:/Users/kevin/Documents/Computational%20Methods%20for%20Informatics/cbb634/pset_2/exercise_2.ipynb#X12sZmlsZQ%3D%3D?line=15'>16</a>\u001b[0m \u001b[39m# Return candidate words\u001b[39;00m\n",
      "\u001b[1;32m/Users/kevin/Documents/Computational Methods for Informatics/cbb634/pset_2/exercise_2.ipynb Cell 7\u001b[0m line \u001b[0;36m3\n\u001b[1;32m     <a href='vscode-notebook-cell:/Users/kevin/Documents/Computational%20Methods%20for%20Informatics/cbb634/pset_2/exercise_2.ipynb#X12sZmlsZQ%3D%3D?line=27'>28</a>\u001b[0m \u001b[39mdef\u001b[39;00m \u001b[39mlookup\u001b[39m(\u001b[39mself\u001b[39m, value):\n\u001b[1;32m     <a href='vscode-notebook-cell:/Users/kevin/Documents/Computational%20Methods%20for%20Informatics/cbb634/pset_2/exercise_2.ipynb#X12sZmlsZQ%3D%3D?line=28'>29</a>\u001b[0m     \u001b[39mfor\u001b[39;00m \u001b[39mhash\u001b[39m \u001b[39min\u001b[39;00m \u001b[39mself\u001b[39m\u001b[39m.\u001b[39mhashes:\n\u001b[0;32m---> <a href='vscode-notebook-cell:/Users/kevin/Documents/Computational%20Methods%20for%20Informatics/cbb634/pset_2/exercise_2.ipynb#X12sZmlsZQ%3D%3D?line=29'>30</a>\u001b[0m         hashed \u001b[39m=\u001b[39m \u001b[39mhash\u001b[39;49m(\u001b[39mself\u001b[39;49m, value) \u001b[39m# Access hash functions as instance methods\u001b[39;00m\n\u001b[1;32m     <a href='vscode-notebook-cell:/Users/kevin/Documents/Computational%20Methods%20for%20Informatics/cbb634/pset_2/exercise_2.ipynb#X12sZmlsZQ%3D%3D?line=30'>31</a>\u001b[0m         index \u001b[39m=\u001b[39m hashed \u001b[39m%\u001b[39m \u001b[39mself\u001b[39m\u001b[39m.\u001b[39msize \u001b[39m# Convert hashed value to index\u001b[39;00m\n\u001b[1;32m     <a href='vscode-notebook-cell:/Users/kevin/Documents/Computational%20Methods%20for%20Informatics/cbb634/pset_2/exercise_2.ipynb#X12sZmlsZQ%3D%3D?line=31'>32</a>\u001b[0m         \u001b[39mif\u001b[39;00m \u001b[39mself\u001b[39m\u001b[39m.\u001b[39mbitarray[index] \u001b[39m==\u001b[39m \u001b[39m0\u001b[39m: \u001b[39m# Check if index position in bitarray is occupied\u001b[39;00m\n",
      "\u001b[1;32m/Users/kevin/Documents/Computational Methods for Informatics/cbb634/pset_2/exercise_2.ipynb Cell 7\u001b[0m line \u001b[0;36m1\n\u001b[1;32m     <a href='vscode-notebook-cell:/Users/kevin/Documents/Computational%20Methods%20for%20Informatics/cbb634/pset_2/exercise_2.ipynb#X12sZmlsZQ%3D%3D?line=11'>12</a>\u001b[0m \u001b[39mdef\u001b[39;00m \u001b[39mmy_hash\u001b[39m(\u001b[39mself\u001b[39m, value):\n\u001b[0;32m---> <a href='vscode-notebook-cell:/Users/kevin/Documents/Computational%20Methods%20for%20Informatics/cbb634/pset_2/exercise_2.ipynb#X12sZmlsZQ%3D%3D?line=12'>13</a>\u001b[0m     \u001b[39mreturn\u001b[39;00m \u001b[39mint\u001b[39m(sha256(value\u001b[39m.\u001b[39mlower()\u001b[39m.\u001b[39mencode())\u001b[39m.\u001b[39mhexdigest(), \u001b[39m16\u001b[39m) \u001b[39m%\u001b[39m \u001b[39mself\u001b[39m\u001b[39m.\u001b[39msize\n",
      "\u001b[0;31mKeyboardInterrupt\u001b[0m: "
     ]
    }
   ],
   "source": [
    "# Plot filter size against hash function choice (first, first two, all three)\n",
    "import numpy as np\n",
    "import pandas as pd\n",
    "\n",
    "sizes = list(np.linspace(start = 1e5, stop = 1e7, num = 10, dtype = int)) # Generate evenly spaced Bloom filter sizes\n",
    "filters = [BloomFilter(size = size, hashes = [BloomFilter.my_hash]),\n",
    "           BloomFilter(size = size, hashes = [BloomFilter.my_hash, BloomFilter.my_hash2]),\n",
    "           BloomFilter(size = size, hashes = [BloomFilter.my_hash, BloomFilter.my_hash2, BloomFilter.my_hash3])]\n",
    "\n",
    "for size in sizes:\n",
    "    accuracies = []\n",
    "    for filter in filters:\n",
    "\n",
    "accuracies = []\n",
    "for size in sizes:\n",
    "    one_hash_filter = BloomFilter(size = size, hashes = [BloomFilter.my_hash])\n",
    "    accuracy = accuracy_checker(one_hash_filter)\n",
    "    accuracies.append(accuracy)\n",
    "\n",
    "one_hash_results = pd.DataFrame({\"filter_size\": sizes, \"accuracy\": accuracies})\n",
    "\n",
    "accuracies = []\n",
    "for size in sizes:\n",
    "    two_hash_filter = BloomFilter(size = size, hashes = [BloomFilter.my_hash, BloomFilter.my_hash2])\n",
    "    accuracy = accuracy_checker(two_hash_filter)\n",
    "    accuracies.append(accuracy)\n",
    "\n",
    "two_hash_results = pd.DataFrame({\"filter_size\": sizes, \"accuracy\": accuracies})\n",
    "\n",
    "accuracies = []\n",
    "for size in sizes:\n",
    "    three_hash_filter = BloomFilter(size = size, hashes = [BloomFilter.my_hash, BloomFilter.my_hash2, BloomFilter.my_hash3])\n",
    "    accuracy = accuracy_checker(three_hash_filter)\n",
    "    accuracies.append(accuracy)\n",
    "\n",
    "three_hash_results = pd.DataFrame({\"filter_size\": sizes, \"accuracy\": accuracies})\n",
    "\n",
    "one_hash_results\n",
    "two_hash_results\n",
    "three_hash_results\n"
   ]
  }
 ],
 "metadata": {
  "kernelspec": {
   "display_name": "Python 3",
   "language": "python",
   "name": "python3"
  },
  "language_info": {
   "codemirror_mode": {
    "name": "ipython",
    "version": 3
   },
   "file_extension": ".py",
   "mimetype": "text/x-python",
   "name": "python",
   "nbconvert_exporter": "python",
   "pygments_lexer": "ipython3",
   "version": "3.11.5"
  },
  "orig_nbformat": 4
 },
 "nbformat": 4,
 "nbformat_minor": 2
}
