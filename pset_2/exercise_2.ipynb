{
 "cells": [
  {
   "cell_type": "markdown",
   "metadata": {},
   "source": [
    "# Exercise 2: Bloom filter"
   ]
  },
  {
   "cell_type": "code",
   "execution_count": 36,
   "metadata": {},
   "outputs": [],
   "source": [
    "# Implement a Bloom filter using bitarray\n",
    "import bitarray as bit\n",
    "from hashlib import sha3_256, sha256, blake2b\n",
    "\n",
    "class BloomFilter:\n",
    "    def __init__(self, size, hashes):\n",
    "        self.size = size # Specify filter size\n",
    "        self.hashes = hashes # Specify desired hash functions\n",
    "        self.bitarray = bit.bitarray(size) # Initialize bitarray with defined size\n",
    "        self.bitarray.setall(0) # Set all values in the bitarray to zero\n",
    "\n",
    "    # Define generic hash function, which returns the bitarray index\n",
    "    def get_hash(self, value, hash):\n",
    "        return int(hash(value.lower().encode()).hexdigest(), 16) % self.size\n",
    "    \n",
    "    # Add a value to the Bloom filter\n",
    "    def add(self, value):\n",
    "        for hash in self.hashes: # Apply value through selected hash functions\n",
    "            index = self.get_hash(value, hash) # Get hashed value to bitarray index\n",
    "            self.bitarray[index] = 1 # Set corresponding position in bitarray to 1 (occupied)\n",
    "\n",
    "    # Check if a value is in the Bloom filter (may return false positives)\n",
    "    def lookup(self, value):\n",
    "        for hash in self.hashes:\n",
    "            index = self.get_hash(value, hash)\n",
    "            if self.bitarray[index] == 0: # If index position in bitarray is empty, the word is not there\n",
    "                return False\n",
    "        return True"
   ]
  },
  {
   "cell_type": "code",
   "execution_count": 37,
   "metadata": {},
   "outputs": [
    {
     "name": "stdout",
     "output_type": "stream",
     "text": [
      "True\n",
      "False\n",
      "False\n",
      "True\n"
     ]
    }
   ],
   "source": [
    "# Test the Bloom filter\n",
    "hi = BloomFilter(size = 100, hashes = [sha256])\n",
    "hi.add(\"Hello!\")\n",
    "print(hi.lookup(\"Hello!\"))   # True\n",
    "print(hi.lookup(\"Goodbye!\")) # False\n",
    "\n",
    "bruh = BloomFilter(size = 10_000, hashes = [sha256, blake2b, sha3_256])\n",
    "print(bruh.lookup(\"bruh\")) # False\n",
    "bruh.add(\"bruh\")\n",
    "print(bruh.lookup(\"bruh\")) # True"
   ]
  },
  {
   "cell_type": "code",
   "execution_count": 38,
   "metadata": {},
   "outputs": [
    {
     "name": "stdout",
     "output_type": "stream",
     "text": [
      "False\n",
      "True\n",
      "True\n",
      "True\n",
      "True\n",
      "True\n",
      "True\n"
     ]
    }
   ],
   "source": [
    "# Store words.txt (~500,000 words, assuming correct spelling) into a Bloom filter\n",
    "# Note: To avoid hash collisions, the absolute minimum for a corpus of 500,000 words with 3 hash functions is 150,000 bits.\n",
    "# For a starting point, at least 1,000,000 bits is recommended; 10,000,000 bits to be safe.\n",
    "corpus = BloomFilter(size = 100_000_000, hashes = [sha256, blake2b, sha3_256])\n",
    "\n",
    "with open(\"words.txt\") as file:\n",
    "    for line in file:\n",
    "        word = line.strip()\n",
    "        corpus.add(word)\n",
    "\n",
    "# Test the primed Bloom filter\n",
    "print(corpus.lookup(\"cb&b634\"))       # False\n",
    "print(corpus.lookup(\"computational\")) # True\n",
    "print(corpus.lookup(\"methods\"))       # True\n",
    "print(corpus.lookup(\"for\"))           # True\n",
    "print(corpus.lookup(\"informatics\"))   # True\n",
    "print(corpus.lookup(\"robert\"))        # True\n",
    "print(corpus.lookup(\"mcdougal\"))      # True (huh?)"
   ]
  },
  {
   "cell_type": "code",
   "execution_count": 43,
   "metadata": {},
   "outputs": [
    {
     "name": "stdout",
     "output_type": "stream",
     "text": [
      "['pruh', 'bluh', 'brum', 'brut']\n",
      "'moment' may be spelled correctly.\n"
     ]
    }
   ],
   "source": [
    "# Create a spell checker using the Bloom filter class\n",
    "# Note: May return more false positives (e.g. suggesting a word not in the list) with smaller filters and fewer hash functions.\n",
    "def spell_checker(word, BloomFilter):\n",
    "    # If the word is in the specified Bloom filter, it may be correctly spelled\n",
    "    if BloomFilter.lookup(word):\n",
    "        return(f\"'{word}' may be spelled correctly.\")\n",
    "    \n",
    "    # If not, generate all possible single-letter substitutions and test them against Bloom filter\n",
    "    word_suggestions = []\n",
    "    for char in range(len(word)):\n",
    "        for letter in \"abcdefghijklmnopqrstuvwxyz\":\n",
    "            candidate = word[:char] + letter + word[char+1:] # Slice word to test every letter at every character position\n",
    "            if BloomFilter.lookup(candidate): # Suggest candidate if it is in the Bloom filter\n",
    "                word_suggestions.append(candidate)\n",
    "\n",
    "    # Return candidate words\n",
    "    return word_suggestions\n",
    "\n",
    "print(spell_checker(\"bruh\", corpus))   # ['pruh', 'bluh', 'brum', 'brut'] (non-deterministic for some reason? shouldn't a hash be deterministic?)\n",
    "print(spell_checker(\"moment\", corpus)) # 'moment' may be spelled correctly."
   ]
  },
  {
   "cell_type": "code",
   "execution_count": 47,
   "metadata": {},
   "outputs": [],
   "source": [
    "# Test spell checker on typos.json\n",
    "import json\n",
    "\n",
    "def accuracy_checker(BloomFilter):\n",
    "    # Load list of typos\n",
    "    with open(\"typos.json\") as file:\n",
    "        typos = json.load(file) # Creates list of [typed_word, correct_word] pairs\n",
    "\n",
    "    # Check if correct word is produced by the specified Bloom filter and that it gives no more than 3 suggestions\n",
    "    correct_count = 0\n",
    "    for typo in typos:\n",
    "        suggestions = spell_checker(typo[0], BloomFilter)\n",
    "        if (typo[1] in suggestions) and (len(suggestions) <= 3):\n",
    "            correct_count += 1\n",
    "\n",
    "    # Return spell checker accuracy\n",
    "    return(correct_count / len(typos))"
   ]
  },
  {
   "cell_type": "code",
   "execution_count": null,
   "metadata": {},
   "outputs": [
    {
     "name": "stdout",
     "output_type": "stream",
     "text": [
      "Suggestion accuracy: 47.404 %\n"
     ]
    }
   ],
   "source": [
    "# Test spell checker accuracy\n",
    "corpus = BloomFilter(size = 1_000_000_000, hashes = [sha256, blake2b, sha3_256])\n",
    "with open(\"words.txt\") as file:\n",
    "    for line in file:\n",
    "        word = line.strip()\n",
    "        corpus.add(word)\n",
    "\n",
    "print(\"Suggestion accuracy:\", round(accuracy_checker(corpus) * 100, 3), \"%\")"
   ]
  },
  {
   "cell_type": "code",
   "execution_count": 14,
   "metadata": {},
   "outputs": [
    {
     "name": "stdout",
     "output_type": "stream",
     "text": [
      "Unexpected exception formatting exception. Falling back to standard exception\n"
     ]
    },
    {
     "name": "stderr",
     "output_type": "stream",
     "text": [
      "Traceback (most recent call last):\n",
      "  File \"/Users/kevin/Library/Python/3.11/lib/python/site-packages/IPython/core/interactiveshell.py\", line 3508, in run_code\n",
      "    exec(code_obj, self.user_global_ns, self.user_ns)\n",
      "  File \"/var/folders/rn/tstwsd3n5fs4ynm3vrms9khw0000gn/T/ipykernel_29398/262557583.py\", line 10, in <module>\n",
      "    accuracy = accuracy_checker(one_hash_filter)\n",
      "               ^^^^^^^^^^^^^^^^^^^^^^^^^^^^^^^^^\n",
      "  File \"/var/folders/rn/tstwsd3n5fs4ynm3vrms9khw0000gn/T/ipykernel_29398/3353725917.py\", line 12, in accuracy_checker\n",
      "    if (typo[1] in spell_checker(typo[0], BloomFilter)) and (len(spell_checker(typo[0], BloomFilter)) <= 3):\n",
      "                   ^^^^^^^^^^^^^^^^^^^^^^^^^^^^^^^^^^^\n",
      "  File \"/var/folders/rn/tstwsd3n5fs4ynm3vrms9khw0000gn/T/ipykernel_29398/2038068952.py\", line -1, in spell_checker\n",
      "KeyboardInterrupt\n",
      "\n",
      "During handling of the above exception, another exception occurred:\n",
      "\n",
      "Traceback (most recent call last):\n",
      "  File \"/Users/kevin/Library/Python/3.11/lib/python/site-packages/IPython/core/interactiveshell.py\", line 2105, in showtraceback\n",
      "    stb = self.InteractiveTB.structured_traceback(\n",
      "          ^^^^^^^^^^^^^^^^^^^^^^^^^^^^^^^^^^^^^^^^\n",
      "  File \"/Users/kevin/Library/Python/3.11/lib/python/site-packages/IPython/core/ultratb.py\", line 1428, in structured_traceback\n",
      "    return FormattedTB.structured_traceback(\n",
      "           ^^^^^^^^^^^^^^^^^^^^^^^^^^^^^^^^^\n",
      "  File \"/Users/kevin/Library/Python/3.11/lib/python/site-packages/IPython/core/ultratb.py\", line 1319, in structured_traceback\n",
      "    return VerboseTB.structured_traceback(\n",
      "           ^^^^^^^^^^^^^^^^^^^^^^^^^^^^^^^\n",
      "  File \"/Users/kevin/Library/Python/3.11/lib/python/site-packages/IPython/core/ultratb.py\", line 1172, in structured_traceback\n",
      "    formatted_exception = self.format_exception_as_a_whole(etype, evalue, etb, number_of_lines_of_context,\n",
      "                          ^^^^^^^^^^^^^^^^^^^^^^^^^^^^^^^^^^^^^^^^^^^^^^^^^^^^^^^^^^^^^^^^^^^^^^^^^^^^^^^^\n",
      "  File \"/Users/kevin/Library/Python/3.11/lib/python/site-packages/IPython/core/ultratb.py\", line 1087, in format_exception_as_a_whole\n",
      "    frames.append(self.format_record(record))\n",
      "                  ^^^^^^^^^^^^^^^^^^^^^^^^^^\n",
      "  File \"/Users/kevin/Library/Python/3.11/lib/python/site-packages/IPython/core/ultratb.py\", line 969, in format_record\n",
      "    frame_info.lines, Colors, self.has_colors, lvals\n",
      "    ^^^^^^^^^^^^^^^^\n",
      "  File \"/Users/kevin/Library/Python/3.11/lib/python/site-packages/IPython/core/ultratb.py\", line 792, in lines\n",
      "    return self._sd.lines\n",
      "           ^^^^^^^^^^^^^^\n",
      "  File \"/Users/kevin/Library/Python/3.11/lib/python/site-packages/stack_data/utils.py\", line 144, in cached_property_wrapper\n",
      "    value = obj.__dict__[self.func.__name__] = self.func(obj)\n",
      "                                               ^^^^^^^^^^^^^^\n",
      "  File \"/Users/kevin/Library/Python/3.11/lib/python/site-packages/stack_data/core.py\", line 734, in lines\n",
      "    pieces = self.included_pieces\n",
      "             ^^^^^^^^^^^^^^^^^^^^\n",
      "  File \"/Users/kevin/Library/Python/3.11/lib/python/site-packages/stack_data/utils.py\", line 144, in cached_property_wrapper\n",
      "    value = obj.__dict__[self.func.__name__] = self.func(obj)\n",
      "                                               ^^^^^^^^^^^^^^\n",
      "  File \"/Users/kevin/Library/Python/3.11/lib/python/site-packages/stack_data/core.py\", line 681, in included_pieces\n",
      "    pos = scope_pieces.index(self.executing_piece)\n",
      "                             ^^^^^^^^^^^^^^^^^^^^\n",
      "  File \"/Users/kevin/Library/Python/3.11/lib/python/site-packages/stack_data/utils.py\", line 144, in cached_property_wrapper\n",
      "    value = obj.__dict__[self.func.__name__] = self.func(obj)\n",
      "                                               ^^^^^^^^^^^^^^\n",
      "  File \"/Users/kevin/Library/Python/3.11/lib/python/site-packages/stack_data/core.py\", line 660, in executing_piece\n",
      "    return only(\n",
      "           ^^^^^\n",
      "  File \"/Users/kevin/Library/Python/3.11/lib/python/site-packages/executing/executing.py\", line 190, in only\n",
      "    raise NotOneValueFound('Expected one value, found 0')\n",
      "executing.executing.NotOneValueFound: Expected one value, found 0\n"
     ]
    }
   ],
   "source": [
    "# Plot filter size against hash function choice (first, first two, all three)\n",
    "import numpy as np\n",
    "import pandas as pd\n",
    "\n",
    "sizes = list(np.linspace(start = 10_000, stop = 100_000_000, num = 10, dtype = int)) # Generate evenly spaced Bloom filter sizes\n",
    "\n",
    "accuracies = []\n",
    "for size in sizes:\n",
    "    one_hash_filter = BloomFilter(size = size, hashes = [sha256])\n",
    "    accuracy = accuracy_checker(one_hash_filter)\n",
    "    accuracies.append(accuracy)\n",
    "\n",
    "one_hash_results = pd.DataFrame({\"filter_size\": sizes, \"accuracy\": accuracies})\n",
    "\n",
    "accuracies = []\n",
    "for size in sizes:\n",
    "    two_hash_filter = BloomFilter(size = size, hashes = [sha256, blake2b])\n",
    "    accuracy = accuracy_checker(two_hash_filter)\n",
    "    accuracies.append(accuracy)\n",
    "\n",
    "two_hash_results = pd.DataFrame({\"filter_size\": sizes, \"accuracy\": accuracies})\n",
    "\n",
    "accuracies = []\n",
    "for size in sizes:\n",
    "    three_hash_filter = BloomFilter(size = size, hashes = [sha256, blake2b, sha3_256])\n",
    "    accuracy = accuracy_checker(three_hash_filter)\n",
    "    accuracies.append(accuracy)\n",
    "\n",
    "three_hash_results = pd.DataFrame({\"filter_size\": sizes, \"accuracy\": accuracies})\n",
    "\n",
    "one_hash_results\n",
    "two_hash_results\n",
    "three_hash_results\n",
    "\n",
    "# accuracy percentage on y-axis\n",
    "# size on x-axis\n",
    "# three lines for each hash choice\n"
   ]
  },
  {
   "cell_type": "code",
   "execution_count": null,
   "metadata": {},
   "outputs": [],
   "source": [
    "# plot = sns.lineplot(x = tree_sizes, y = setup_times, label = \"Tree setup time\")\n",
    "# plot.set(xscale = \"log\", yscale = \"log\")\n",
    "# sns.lineplot(x = tree_sizes, y = o_n, label = \"O(n)\", ax = plot)\n",
    "# sns.lineplot(x = tree_sizes, y = o_n_squared, label = \"O(n^2)\", ax = plot)\n",
    "# plot.set_xlabel(\"n (tree size)\")\n",
    "# plot.set_ylabel(\"log(time)\")\n",
    "# plot.set_title(\"Time Complexity Plot of Tree Instantiation Performance\")"
   ]
  }
 ],
 "metadata": {
  "kernelspec": {
   "display_name": "Python 3",
   "language": "python",
   "name": "python3"
  },
  "language_info": {
   "codemirror_mode": {
    "name": "ipython",
    "version": 3
   },
   "file_extension": ".py",
   "mimetype": "text/x-python",
   "name": "python",
   "nbconvert_exporter": "python",
   "pygments_lexer": "ipython3",
   "version": "3.11.5"
  },
  "orig_nbformat": 4
 },
 "nbformat": 4,
 "nbformat_minor": 2
}
