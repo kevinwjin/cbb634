{
 "cells": [
  {
   "cell_type": "markdown",
   "metadata": {},
   "source": [
    "# Exercise 2: Bloom filter"
   ]
  },
  {
   "cell_type": "code",
   "execution_count": 3,
   "metadata": {},
   "outputs": [],
   "source": [
    "# Read word list one at a time\n",
    "with open('words.txt') as f:\n",
    "    for line in f:\n",
    "        word = line.strip() # Strip leading and trailing whitespace\n",
    "        # do something with the word here"
   ]
  },
  {
   "cell_type": "code",
   "execution_count": 1,
   "metadata": {},
   "outputs": [],
   "source": [
    "# Implement Bloom filter using bitarray\n",
    "import bitarray as bit\n",
    "from hashlib import sha3_256, sha256, blake2b\n",
    "\n",
    "# Specify Bloom filter size; vary size by log scale, perhaps 100 points\n",
    "size = 100 \n",
    "\n",
    "# Define hash functions for Bloom filter (one array for all three hashes)\n",
    "def my_hash(s):\n",
    "    return int(sha256(s.lower().encode()).hexdigest(), 16) % size\n",
    "\n",
    "def my_hash2(s):\n",
    "    return int(blake2b(s.lower().encode()).hexdigest(), 16) % size\n",
    "\n",
    "def my_hash3(s):\n",
    "    return int(sha3_256(s.lower().encode()).hexdigest(), 16) % size\n",
    "\n",
    "# Instantiate Bloom filter\n",
    "data = bit.bitarray(size)"
   ]
  },
  {
   "cell_type": "code",
   "execution_count": null,
   "metadata": {},
   "outputs": [],
   "source": [
    "# Bloom filter spell checker\n",
    "def spell_checker(word):\n",
    "    pass"
   ]
  },
  {
   "cell_type": "code",
   "execution_count": null,
   "metadata": {},
   "outputs": [],
   "source": [
    "# Plot filter size against hash function choice (first, first two, all three)\n"
   ]
  }
 ],
 "metadata": {
  "kernelspec": {
   "display_name": "Python 3",
   "language": "python",
   "name": "python3"
  },
  "language_info": {
   "codemirror_mode": {
    "name": "ipython",
    "version": 3
   },
   "file_extension": ".py",
   "mimetype": "text/x-python",
   "name": "python",
   "nbconvert_exporter": "python",
   "pygments_lexer": "ipython3",
   "version": "3.11.5"
  },
  "orig_nbformat": 4
 },
 "nbformat": 4,
 "nbformat_minor": 2
}
