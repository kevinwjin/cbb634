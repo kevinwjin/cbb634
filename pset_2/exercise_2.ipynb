{
 "cells": [
  {
   "cell_type": "markdown",
   "metadata": {},
   "source": [
    "# Exercise 2: Bloom filter"
   ]
  },
  {
   "cell_type": "code",
   "execution_count": 4,
   "metadata": {},
   "outputs": [],
   "source": [
    "# Implement a Bloom filter using bitarray\n",
    "import bitarray as bit\n",
    "from hashlib import sha3_256, sha256, blake2b\n",
    "\n",
    "class BloomFilter:\n",
    "    def __init__(self, size, hashes):\n",
    "        self.size = size # Specify filter size\n",
    "        self.hashes = hashes # Specify desired hash functions\n",
    "        self.bitarray = bit.bitarray(size) # Initialize bitarray with defined size\n",
    "\n",
    "    # Define hash functions\n",
    "    def my_hash(self, value):\n",
    "        return int(sha256(value.lower().encode()).hexdigest(), 16) % self.size\n",
    "\n",
    "    def my_hash2(self, value):\n",
    "        return int(blake2b(value.lower().encode()).hexdigest(), 16) % self.size\n",
    "\n",
    "    def my_hash3(self, value):\n",
    "        return int(sha3_256(value.lower().encode()).hexdigest(), 16) % self.size \n",
    "    \n",
    "    # Add \n",
    "    def add(self, value):\n",
    "        for hash in self.hashes:\n",
    "            hashed = hash(self, value) # Access hash functions as instance methods for flexibility to choose combinations\n",
    "            index = hashed % self.size # Convert hashed value to index\n",
    "            self.bitarray[index] = 1 # Set index position in bitarray to 1\n",
    "\n",
    "    def lookup(self, value):\n",
    "        for hash in self.hashes:\n",
    "            hashed = hash(self, value) # Access hash functions as instance methods\n",
    "            index = hashed % self.size # Convert hashed value to index\n",
    "            if self.bitarray[index] == 0: # Check if index position in bitarray is occupied\n",
    "                return False\n",
    "        return True"
   ]
  },
  {
   "cell_type": "code",
   "execution_count": 8,
   "metadata": {},
   "outputs": [
    {
     "name": "stdout",
     "output_type": "stream",
     "text": [
      "True\n",
      "False\n"
     ]
    }
   ],
   "source": [
    "# Test the Bloom filter\n",
    "add_test = BloomFilter(size = 100, hashes = [BloomFilter.my_hash, BloomFilter.my_hash2, BloomFilter.my_hash3])\n",
    "add_test.add(\"Hello!\")\n",
    "print(add_test.lookup(\"Hello!\"))   # True (potentially a false positive)\n",
    "print(add_test.lookup(\"Goodbye!\")) # False"
   ]
  },
  {
   "cell_type": "code",
   "execution_count": 10,
   "metadata": {},
   "outputs": [
    {
     "name": "stdout",
     "output_type": "stream",
     "text": [
      "False\n",
      "True\n",
      "True\n",
      "True\n",
      "True\n"
     ]
    }
   ],
   "source": [
    "# Store words.txt into Bloom filter \n",
    "# Note: To avoid hash collisions, the absolute minimum for a corpus of 500,000 words with 3 hash functions is 150,000 bits.\n",
    "# For a starting point, at least 1,000,000 bits is recommended; 10,000,000 bits to be safe.\n",
    "words = BloomFilter(size = 10_000_000, hashes = [BloomFilter.my_hash, BloomFilter.my_hash2, BloomFilter.my_hash3])\n",
    "\n",
    "with open('words.txt') as file:\n",
    "    # Read word list one at a time\n",
    "    for count, line in enumerate(file):\n",
    "        word = line.strip()\n",
    "        words.add(word)\n",
    "\n",
    "print(words.lookup(\"cb&b634\"))       # False\n",
    "print(words.lookup(\"computational\")) # True\n",
    "print(words.lookup(\"methods\"))       # True\n",
    "print(words.lookup(\"for\"))           # True\n",
    "print(words.lookup(\"informatics\"))   # True"
   ]
  },
  {
   "cell_type": "code",
   "execution_count": null,
   "metadata": {},
   "outputs": [],
   "source": [
    "# Bloom filter spell checker\n",
    "def spell_checker(word):\n",
    "    pass"
   ]
  },
  {
   "cell_type": "code",
   "execution_count": null,
   "metadata": {},
   "outputs": [],
   "source": [
    "# Plot filter size against hash function choice (first, first two, all three)\n",
    "# Vary size by log scale, perhaps with 100 points"
   ]
  }
 ],
 "metadata": {
  "kernelspec": {
   "display_name": "Python 3",
   "language": "python",
   "name": "python3"
  },
  "language_info": {
   "codemirror_mode": {
    "name": "ipython",
    "version": 3
   },
   "file_extension": ".py",
   "mimetype": "text/x-python",
   "name": "python",
   "nbconvert_exporter": "python",
   "pygments_lexer": "ipython3",
   "version": "3.11.5"
  },
  "orig_nbformat": 4
 },
 "nbformat": 4,
 "nbformat_minor": 2
}
