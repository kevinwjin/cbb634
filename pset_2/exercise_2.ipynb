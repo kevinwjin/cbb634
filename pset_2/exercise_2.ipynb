{
 "cells": [
  {
   "cell_type": "markdown",
   "metadata": {},
   "source": [
    "# Exercise 2: Bloom filter"
   ]
  },
  {
   "cell_type": "code",
   "execution_count": 1,
   "metadata": {},
   "outputs": [],
   "source": [
    "# Implement a Bloom filter using bitarray\n",
    "import bitarray as bit\n",
    "from hashlib import sha3_256, sha256, blake2b\n",
    "\n",
    "class BloomFilter:\n",
    "    def __init__(self, size, hashes):\n",
    "        self.size = size # Specify filter size\n",
    "        self.hashes = hashes # Specify desired hash functions\n",
    "        self.bitarray = bit.bitarray(size) # Initialize bitarray with defined size\n",
    "        self.bitarray.setall(0) # Set all values in the bitarray to zero\n",
    "\n",
    "    # Define generic hash function, which returns the bitarray index\n",
    "    def get_hash(self, value, hash):\n",
    "        return int(hash(value.lower().encode()).hexdigest(), 16) % self.size\n",
    "    \n",
    "    # Add a value to the Bloom filter\n",
    "    def add(self, value):\n",
    "        for hash in self.hashes: # Apply value through selected hash functions\n",
    "            index = self.get_hash(value, hash) # Get hashed value to bitarray index\n",
    "            self.bitarray[index] = 1 # Set corresponding position in bitarray to 1 (occupied)\n",
    "\n",
    "    # Check if a value is in the Bloom filter (may return false positives)\n",
    "    def lookup(self, value):\n",
    "        for hash in self.hashes:\n",
    "            index = self.get_hash(value, hash)\n",
    "            if self.bitarray[index] == 0: # If index position in bitarray is empty, the word is not there\n",
    "                return False\n",
    "        return True"
   ]
  },
  {
   "cell_type": "code",
   "execution_count": 2,
   "metadata": {},
   "outputs": [
    {
     "name": "stdout",
     "output_type": "stream",
     "text": [
      "True\n",
      "False\n",
      "False\n",
      "True\n"
     ]
    }
   ],
   "source": [
    "# Test the Bloom filter\n",
    "hi = BloomFilter(size = 100, hashes = [sha256])\n",
    "hi.add(\"Hello!\")\n",
    "print(hi.lookup(\"Hello!\"))   # True\n",
    "print(hi.lookup(\"Goodbye!\")) # False\n",
    "\n",
    "bruh = BloomFilter(size = 10_000, hashes = [sha256, blake2b, sha3_256])\n",
    "print(bruh.lookup(\"bruh\")) # False\n",
    "bruh.add(\"bruh\")\n",
    "print(bruh.lookup(\"bruh\")) # True"
   ]
  },
  {
   "cell_type": "code",
   "execution_count": 3,
   "metadata": {},
   "outputs": [
    {
     "name": "stdout",
     "output_type": "stream",
     "text": [
      "False\n",
      "True\n",
      "True\n",
      "True\n",
      "True\n",
      "True\n",
      "True\n"
     ]
    }
   ],
   "source": [
    "# Store words.txt (~500,000 words, assuming correct spelling) into a Bloom filter\n",
    "# Note: To avoid hash collisions, the absolute minimum for a corpus of 500,000 words with 3 hash functions is 150,000 bits.\n",
    "# For a starting point, at least 1,000,000 bits is recommended; 10,000,000 bits to be safe.\n",
    "corpus = BloomFilter(size = 100_000_000, hashes = [sha256, blake2b, sha3_256])\n",
    "\n",
    "with open(\"words.txt\") as file:\n",
    "    for line in file:\n",
    "        word = line.strip()\n",
    "        corpus.add(word)\n",
    "\n",
    "# Test the primed Bloom filter\n",
    "print(corpus.lookup(\"cb&b634\"))       # False\n",
    "print(corpus.lookup(\"computational\")) # True\n",
    "print(corpus.lookup(\"methods\"))       # True\n",
    "print(corpus.lookup(\"for\"))           # True\n",
    "print(corpus.lookup(\"informatics\"))   # True\n",
    "print(corpus.lookup(\"robert\"))        # True\n",
    "print(corpus.lookup(\"mcdougal\"))      # True (huh?)"
   ]
  },
  {
   "cell_type": "code",
   "execution_count": 4,
   "metadata": {},
   "outputs": [
    {
     "name": "stdout",
     "output_type": "stream",
     "text": [
      "['pruh', 'bluh', 'brum', 'brut']\n",
      "'moment' may be spelled correctly.\n"
     ]
    }
   ],
   "source": [
    "# Create a spell checker using the Bloom filter class\n",
    "# Note: May return more false positives (e.g. suggesting a word not in the list) with smaller filters and fewer hash functions.\n",
    "def spell_checker(word, BloomFilter):\n",
    "    # If the word is in the specified Bloom filter, it may be correctly spelled\n",
    "    if BloomFilter.lookup(word):\n",
    "        return(f\"'{word}' may be spelled correctly.\")\n",
    "    \n",
    "    # If not, generate all possible single-letter substitutions and test them against Bloom filter\n",
    "    word_suggestions = []\n",
    "    for char in range(len(word)):\n",
    "        for letter in \"abcdefghijklmnopqrstuvwxyz\":\n",
    "            candidate = word[:char] + letter + word[char+1:] # Slice word to test every letter at every character position\n",
    "            if BloomFilter.lookup(candidate): # Suggest candidate if it is in the Bloom filter\n",
    "                word_suggestions.append(candidate)\n",
    "\n",
    "    # Return candidate words\n",
    "    return word_suggestions\n",
    "\n",
    "print(spell_checker(\"bruh\", corpus))   # ['pruh', 'bluh', 'brum', 'brut'] (non-deterministic for some reason? shouldn't a hash be deterministic?)\n",
    "print(spell_checker(\"moment\", corpus)) # 'moment' may be spelled correctly."
   ]
  },
  {
   "cell_type": "code",
   "execution_count": 13,
   "metadata": {},
   "outputs": [],
   "source": [
    "# Test spell checker on typos.json\n",
    "import json\n",
    "\n",
    "def accuracy_checker(BloomFilter):\n",
    "    # Load list of typos\n",
    "    with open(\"typos.json\") as file:\n",
    "        typos = json.load(file) # Creates list of [typed_word, correct_word] pairs\n",
    "\n",
    "    # Check if correct word is produced by the specified Bloom filter and that it gives no more than 3 suggestions\n",
    "    correct_count = 0\n",
    "    for typo in typos:\n",
    "        suggestions = spell_checker(typo[0], BloomFilter)\n",
    "        if (typo[1] in suggestions) and (len(suggestions) <= 3):\n",
    "            correct_count += 1\n",
    "\n",
    "    # Return spell checker accuracy\n",
    "    return correct_count"
   ]
  },
  {
   "cell_type": "code",
   "execution_count": 15,
   "metadata": {},
   "outputs": [
    {
     "name": "stdout",
     "output_type": "stream",
     "text": [
      "Number of good suggestions: 23702\n"
     ]
    }
   ],
   "source": [
    "# Test spell checker accuracy\n",
    "corpus = BloomFilter(size = 100_000_000, hashes = [sha256, blake2b, sha3_256])\n",
    "with open(\"words.txt\") as file:\n",
    "    for line in file:\n",
    "        word = line.strip()\n",
    "        corpus.add(word)\n",
    "\n",
    "print(\"Number of good suggestions:\", accuracy_checker(corpus))"
   ]
  },
  {
   "cell_type": "code",
   "execution_count": 30,
   "metadata": {},
   "outputs": [
    {
     "name": "stderr",
     "output_type": "stream",
     "text": [
      "  0%|          | 0/11 [00:00<?, ?it/s]"
     ]
    },
    {
     "name": "stderr",
     "output_type": "stream",
     "text": [
      "100%|██████████| 11/11 [11:35<00:00, 63.19s/it]\n"
     ]
    }
   ],
   "source": [
    "# Test accuracy against filter size\n",
    "from tqdm import tqdm\n",
    "\n",
    "#sizes = list(np.linspace(start = 10_000, stop = 100_000_000, num = 10, dtype = int)) # Generate evenly spaced Bloom filter sizes\n",
    "sizes = [10_000, 50_000, 100_000, 500_000, 1_000_000, 5_000_000, 10_000_000, 50_000_000, 100_000_000, 500_000_000, 1_000_000_000]\n",
    "hash_sets = [[sha256], [sha256, blake2b], [sha256, blake2b, sha3_256]]\n",
    "\n",
    "results = []\n",
    "for size in tqdm(sizes):\n",
    "    for hash_set in hash_sets:\n",
    "        filter = BloomFilter(size, hash_set)\n",
    "        with open(\"words.txt\") as file:\n",
    "            for line in file:\n",
    "                word = line.strip()\n",
    "                filter.add(word)\n",
    "        good_suggestions = accuracy_checker(filter)\n",
    "        results.append((size, len(hash_set), good_suggestions))"
   ]
  },
  {
   "cell_type": "code",
   "execution_count": 36,
   "metadata": {},
   "outputs": [
    {
     "data": {
      "text/plain": [
       "[None,\n",
       " Text(0.5, 1.0, 'Bloom Filter Size against Number of Good Word Suggestions'),\n",
       " Text(0.5, 0, 'Size'),\n",
       " Text(0, 0.5, 'Good Word Suggestions')]"
      ]
     },
     "execution_count": 36,
     "metadata": {},
     "output_type": "execute_result"
    },
    {
     "data": {
      "image/png": "[encoded data removed]",
      "text/plain": [
       "<Figure size 640x480 with 1 Axes>"
      ]
     },
     "metadata": {},
     "output_type": "display_data"
    }
   ],
   "source": [
    "# Plot filter size against hash function choice (first, first two, all three)\n",
    "import seaborn as sns\n",
    "import pandas as pd\n",
    "import warnings\n",
    "\n",
    "warnings.filterwarnings('ignore') # Suppress seaborn's warnings\n",
    "\n",
    "df = pd.DataFrame(results, columns=[\"Size\", \"Hashes\", \"Good_Suggestions\"])\n",
    "plot = sns.lineplot(data=df, x=\"Size\", y=\"Good_Suggestions\", hue=\"Hashes\")\n",
    "plot.set(xscale = \"log\", title = \"Bloom Filter Size against Number of Good Word Suggestions\",\n",
    "         xlabel = \"Size\", ylabel = \"Good Word Suggestions\")"
   ]
  },
  {
   "cell_type": "markdown",
   "metadata": {},
   "source": [
    "**Discussion:** On a semi-log plot, the number of good suggestions for all three filters starts out close to zero, then increases rapidly and then levels off. However, none of the hash choices manages to break ~50% accuracy, and past a filter size of $10^8$ bits, there appear to be diminishing returns. I suspect that there is an error in my Bloom filter implementation that I am unable to spot. Therefore, my educated guess as to the number of necessary bits to achieve 90% accuracy is at least $10^8$ bits for the given corpus and list of typos."
   ]
  }
 ],
 "metadata": {
  "kernelspec": {
   "display_name": "Python 3",
   "language": "python",
   "name": "python3"
  },
  "language_info": {
   "codemirror_mode": {
    "name": "ipython",
    "version": 3
   },
   "file_extension": ".py",
   "mimetype": "text/x-python",
   "name": "python",
   "nbconvert_exporter": "python",
   "pygments_lexer": "ipython3",
   "version": "3.11.5"
  },
  "orig_nbformat": 4
 },
 "nbformat": 4,
 "nbformat_minor": 2
}
