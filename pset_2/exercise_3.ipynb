{
 "cells": [
  {
   "cell_type": "markdown",
   "metadata": {},
   "source": [
    "# Exercise 3: Binary search tree"
   ]
  },
  {
   "cell_type": "code",
   "execution_count": null,
   "metadata": {},
   "outputs": [],
   "source": [
    "# Implement binary search tree class\n",
    "class Tree:\n",
    "    def __init__(self):\n",
    "        self._value = None # patient_id; sort by this\n",
    "        self._data = None # additional patient information\n",
    "        self.left = None\n",
    "        self.right = None\n",
    "\n",
    "    # Insert a value and associated data into the tree\n",
    "    def add(self, patient_id, data):\n",
    "        # Check if root is empty\n",
    "        if self._value is None:\n",
    "            self._value = patient_id\n",
    "        else:\n",
    "            # Check if value is smaller than root\n",
    "            if patient_id < self._value:\n",
    "                # Create new node to the left of root\n",
    "                if self.left is None:\n",
    "                    self.left = Tree(patient_id)\n",
    "                # Insert value to the left of root\n",
    "                else:\n",
    "                    self.left.add(patient_id)\n",
    "            # Check if value is larger than root\n",
    "            elif patient_id > self._value:\n",
    "                # Create new node to the right of root\n",
    "                if self.right is None:\n",
    "                    self.right = Tree(patient_id)\n",
    "                # Insert value to the right of root\n",
    "                else:\n",
    "                    self.right.add(patient_id)\n",
    "\n",
    "    # Recursive method asking if tree or sub-tree contains a value        \n",
    "    def __contains__(self, patient_id):\n",
    "        if self._value == patient_id:\n",
    "            return True\n",
    "        elif self.left and patient_id < self._value:\n",
    "            return patient_id in self.left\n",
    "        elif self.right and patient_id > self._value:\n",
    "            return patient_id in self.right\n",
    "        else:\n",
    "            return False"
   ]
  },
  {
   "cell_type": "code",
   "execution_count": null,
   "metadata": {},
   "outputs": [],
   "source": [
    "# Test the class\n",
    "my_tree = Tree()\n",
    "for patient_id, initials in [(24601, \"JV\"), (42, \"DA\"), (7, \"JB\"), (143, \"FR\"), (8675309, \"JNY\")]:\n",
    "    my_tree.add(patient_id, initials)"
   ]
  }
 ],
 "metadata": {
  "language_info": {
   "name": "python"
  },
  "orig_nbformat": 4
 },
 "nbformat": 4,
 "nbformat_minor": 2
}
