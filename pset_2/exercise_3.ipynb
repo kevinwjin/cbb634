{
 "cells": [
  {
   "cell_type": "markdown",
   "metadata": {},
   "source": [
    "# Exercise 3: Binary search tree"
   ]
  },
  {
   "cell_type": "code",
   "execution_count": null,
   "metadata": {},
   "outputs": [],
   "source": [
    "# Implement binary search tree class\n",
    "class Tree:\n",
    "    def __init__(self):\n",
    "        self._value = None # Sort by value, the patient_id\n",
    "        self._data = None # Additional information about the patient\n",
    "        self.left = None\n",
    "        self.right = None\n",
    "\n",
    "    # Insert a value and associated data into the tree\n",
    "    def add(self, data):\n",
    "        # Check if root is empty\n",
    "        if self._data is None:\n",
    "            self._data = data\n",
    "        else:\n",
    "            # Check if value is smaller than root\n",
    "            if data < self._data:\n",
    "                # Create new node to the left of root\n",
    "                if self.left is None:\n",
    "                    self.left = Tree(data)\n",
    "                # Insert value to the left of root\n",
    "                else:\n",
    "                    self.left.insert(data)\n",
    "            # Check if value is larger than root\n",
    "            elif data > self._data:\n",
    "                # Create new node to the right of root\n",
    "                if self.right is None:\n",
    "                    self.right = Tree(data)\n",
    "                # Insert value to the right of root\n",
    "                else:\n",
    "                    self.right.insert(data)\n",
    "\n",
    "    # # Recursive method asking if tree or sub-tree contains a value        \n",
    "    # def __contains__(self, patient_id):\n",
    "    #     if self._value == patient_id:\n",
    "    #         return True\n",
    "    #     elif self.left and patient_id < self._value:\n",
    "    #         return patient_id in self.left\n",
    "    #     elif self.right and patient_id > self._value:\n",
    "    #         return patient_id in self.right\n",
    "    #     else:\n",
    "    #         return False"
   ]
  },
  {
   "cell_type": "code",
   "execution_count": null,
   "metadata": {},
   "outputs": [],
   "source": [
    "# Test class\n",
    " my_tree = Tree()\n",
    " for patient_id, initials in [(24601, \"JV\"), (42, \"DA\"), (7, \"JB\"), (143, \"FR\"), (8675309, \"JNY\")]:\n",
    "     my_tree.add(patient_id, initials)"
   ]
  }
 ],
 "metadata": {
  "language_info": {
   "name": "python"
  },
  "orig_nbformat": 4
 },
 "nbformat": 4,
 "nbformat_minor": 2
}
