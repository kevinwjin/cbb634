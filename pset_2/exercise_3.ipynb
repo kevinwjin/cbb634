{
 "cells": [
  {
   "cell_type": "markdown",
   "metadata": {},
   "source": [
    "# Exercise 3: Binary search tree"
   ]
  },
  {
   "cell_type": "code",
   "execution_count": 5,
   "metadata": {},
   "outputs": [],
   "source": [
    "# Implement binary search tree class\n",
    "class Tree:\n",
    "    def __init__(self, value = None, data = None):\n",
    "        self._value = value # patient_id; sort by this\n",
    "        self._data = data # Additional patient information\n",
    "        self.left = None\n",
    "        self.right = None\n",
    "\n",
    "    # Insert a value and associated data into the tree\n",
    "    def add(self, value, data):\n",
    "        # Check if root is empty\n",
    "        if self._value is None:\n",
    "            self._value = value # Add patient_id to empty node\n",
    "            self._data = data # Add data to empty node\n",
    "        # Check if value is smaller than root\n",
    "        elif value < self._value:\n",
    "            if self.left is None:\n",
    "                self.left = Tree() # Create new left child node\n",
    "            self.left.add(value, data) # Insert value in left child node\n",
    "        # Check if value is larger than root\n",
    "        elif value > self._value:\n",
    "            if self.right is None:\n",
    "                self.right = Tree() # Create new right child node\n",
    "            self.right.add(value, data) # Insert value in right child node\n",
    "        else:\n",
    "            self._data = data # Update data in existing node\n",
    "\n",
    "    # Recursive method asking if tree or sub-tree contains a value        \n",
    "    def __contains__(self, patient_id):\n",
    "        if self._value == patient_id:\n",
    "            return True\n",
    "        elif self.left and patient_id < self._value:\n",
    "            return patient_id in self.left\n",
    "        elif self.right and patient_id > self._value:\n",
    "            return patient_id in self.right\n",
    "        else:\n",
    "            return False"
   ]
  },
  {
   "cell_type": "code",
   "execution_count": 10,
   "metadata": {},
   "outputs": [
    {
     "name": "stdout",
     "output_type": "stream",
     "text": [
      "True\n",
      "False\n"
     ]
    }
   ],
   "source": [
    "# Test the class\n",
    "my_tree = Tree()\n",
    "for patient_id, initials in [(24601, \"JV\"), (42, \"DA\"), (7, \"JB\"), (143, \"FR\"), (8675309, \"JNY\")]:\n",
    "    my_tree.add(patient_id, initials)\n",
    "\n",
    "print(24601 in my_tree)\n",
    "print(1492 in my_tree)"
   ]
  },
  {
   "cell_type": "code",
   "execution_count": 16,
   "metadata": {},
   "outputs": [
    {
     "name": "stdout",
     "output_type": "stream",
     "text": [
      "True\n",
      "False\n"
     ]
    }
   ],
   "source": [
    "# Check if a given tree has a given piece of patient data\n",
    "def has_data(tree, data):\n",
    "    # If the current node is empty, return false\n",
    "    if tree is None:\n",
    "        return False\n",
    "    \n",
    "    # If the current node has the data, then we're good \n",
    "    if tree._data == data:\n",
    "        return True\n",
    "    \n",
    "    # Recursively check if the left sub-tree or right sub-tree has the data\n",
    "    return has_data(tree.left, data) or has_data(tree.right, data)\n",
    "\n",
    "# Test the function\n",
    "print(has_data(my_tree, \"JV\"))\n",
    "print(has_data(my_tree, 24601))"
   ]
  },
  {
   "cell_type": "code",
   "execution_count": null,
   "metadata": {},
   "outputs": [],
   "source": []
  }
 ],
 "metadata": {
  "kernelspec": {
   "display_name": "Python 3",
   "language": "python",
   "name": "python3"
  },
  "language_info": {
   "codemirror_mode": {
    "name": "ipython",
    "version": 3
   },
   "file_extension": ".py",
   "mimetype": "text/x-python",
   "name": "python",
   "nbconvert_exporter": "python",
   "pygments_lexer": "ipython3",
   "version": "3.11.5"
  },
  "orig_nbformat": 4
 },
 "nbformat": 4,
 "nbformat_minor": 2
}
