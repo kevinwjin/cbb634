{
 "cells": [
  {
   "cell_type": "markdown",
   "metadata": {},
   "source": [
    "# Exercise 3: Binary search tree"
   ]
  },
  {
   "cell_type": "code",
   "execution_count": 1,
   "metadata": {},
   "outputs": [],
   "source": [
    "# Implement binary search tree class\n",
    "class Tree:\n",
    "    def __init__(self, value, data):\n",
    "        self._value = value # patient_id; sort by this\n",
    "        self._data = data # additional patient information\n",
    "        self.left = None\n",
    "        self.right = None\n",
    "\n",
    "    # Insert a value and associated data into the tree\n",
    "    def add(self, patient_id, data):\n",
    "        # Check if root is empty\n",
    "        if self._value is None:\n",
    "            self._value = patient_id\n",
    "            self._data = patient_id\n",
    "        # Check if value is smaller than root\n",
    "        elif patient_id < self._value:\n",
    "            if self.left is None:\n",
    "                self.left = Tree() # Create new node to the left of root\n",
    "            self.left.add(patient_id, data) # Insert value to the left of root\n",
    "        # Check if value is larger than root\n",
    "        elif patient_id > self._value:\n",
    "            if self.right is None:\n",
    "                self.right = Tree() # Create new node to the right of root\n",
    "            self.right.add(patient_id, data) # Insert value to the right of root\n",
    "        else:\n",
    "            self._data = data\n",
    "\n",
    "    # Recursive method asking if tree or sub-tree contains a value        \n",
    "    def __contains__(self, patient_id):\n",
    "        if self._value == patient_id:\n",
    "            return True\n",
    "        elif self.left and patient_id < self._value:\n",
    "            return patient_id in self.left\n",
    "        elif self.right and patient_id > self._value:\n",
    "            return patient_id in self.right\n",
    "        else:\n",
    "            return False"
   ]
  },
  {
   "cell_type": "code",
   "execution_count": 2,
   "metadata": {},
   "outputs": [
    {
     "ename": "TypeError",
     "evalue": "Tree.__init__() takes 1 positional argument but 3 were given",
     "output_type": "error",
     "traceback": [
      "\u001b[0;31m---------------------------------------------------------------------------\u001b[0m",
      "\u001b[0;31mTypeError\u001b[0m                                 Traceback (most recent call last)",
      "\u001b[1;32m/Users/kevin/Documents/Computational Methods for Informatics/cbb634/pset_2/exercise_3.ipynb Cell 3\u001b[0m line \u001b[0;36m4\n\u001b[1;32m      <a href='vscode-notebook-cell:/Users/kevin/Documents/Computational%20Methods%20for%20Informatics/cbb634/pset_2/exercise_3.ipynb#W2sZmlsZQ%3D%3D?line=1'>2</a>\u001b[0m my_tree \u001b[39m=\u001b[39m Tree()\n\u001b[1;32m      <a href='vscode-notebook-cell:/Users/kevin/Documents/Computational%20Methods%20for%20Informatics/cbb634/pset_2/exercise_3.ipynb#W2sZmlsZQ%3D%3D?line=2'>3</a>\u001b[0m \u001b[39mfor\u001b[39;00m patient_id, initials \u001b[39min\u001b[39;00m [(\u001b[39m24601\u001b[39m, \u001b[39m\"\u001b[39m\u001b[39mJV\u001b[39m\u001b[39m\"\u001b[39m), (\u001b[39m42\u001b[39m, \u001b[39m\"\u001b[39m\u001b[39mDA\u001b[39m\u001b[39m\"\u001b[39m), (\u001b[39m7\u001b[39m, \u001b[39m\"\u001b[39m\u001b[39mJB\u001b[39m\u001b[39m\"\u001b[39m), (\u001b[39m143\u001b[39m, \u001b[39m\"\u001b[39m\u001b[39mFR\u001b[39m\u001b[39m\"\u001b[39m), (\u001b[39m8675309\u001b[39m, \u001b[39m\"\u001b[39m\u001b[39mJNY\u001b[39m\u001b[39m\"\u001b[39m)]:\n\u001b[0;32m----> <a href='vscode-notebook-cell:/Users/kevin/Documents/Computational%20Methods%20for%20Informatics/cbb634/pset_2/exercise_3.ipynb#W2sZmlsZQ%3D%3D?line=3'>4</a>\u001b[0m     my_tree\u001b[39m.\u001b[39;49madd(patient_id, initials)\n",
      "\u001b[1;32m/Users/kevin/Documents/Computational Methods for Informatics/cbb634/pset_2/exercise_3.ipynb Cell 3\u001b[0m line \u001b[0;36m1\n\u001b[1;32m     <a href='vscode-notebook-cell:/Users/kevin/Documents/Computational%20Methods%20for%20Informatics/cbb634/pset_2/exercise_3.ipynb#W2sZmlsZQ%3D%3D?line=15'>16</a>\u001b[0m \u001b[39mif\u001b[39;00m patient_id \u001b[39m<\u001b[39m \u001b[39mself\u001b[39m\u001b[39m.\u001b[39m_value:\n\u001b[1;32m     <a href='vscode-notebook-cell:/Users/kevin/Documents/Computational%20Methods%20for%20Informatics/cbb634/pset_2/exercise_3.ipynb#W2sZmlsZQ%3D%3D?line=16'>17</a>\u001b[0m     \u001b[39m# Create new node to the left of root\u001b[39;00m\n\u001b[1;32m     <a href='vscode-notebook-cell:/Users/kevin/Documents/Computational%20Methods%20for%20Informatics/cbb634/pset_2/exercise_3.ipynb#W2sZmlsZQ%3D%3D?line=17'>18</a>\u001b[0m     \u001b[39mif\u001b[39;00m \u001b[39mself\u001b[39m\u001b[39m.\u001b[39mleft \u001b[39mis\u001b[39;00m \u001b[39mNone\u001b[39;00m:\n\u001b[0;32m---> <a href='vscode-notebook-cell:/Users/kevin/Documents/Computational%20Methods%20for%20Informatics/cbb634/pset_2/exercise_3.ipynb#W2sZmlsZQ%3D%3D?line=18'>19</a>\u001b[0m         \u001b[39mself\u001b[39m\u001b[39m.\u001b[39mleft \u001b[39m=\u001b[39m Tree(patient_id, data)\n\u001b[1;32m     <a href='vscode-notebook-cell:/Users/kevin/Documents/Computational%20Methods%20for%20Informatics/cbb634/pset_2/exercise_3.ipynb#W2sZmlsZQ%3D%3D?line=19'>20</a>\u001b[0m     \u001b[39m# Insert value to the left of root\u001b[39;00m\n\u001b[1;32m     <a href='vscode-notebook-cell:/Users/kevin/Documents/Computational%20Methods%20for%20Informatics/cbb634/pset_2/exercise_3.ipynb#W2sZmlsZQ%3D%3D?line=20'>21</a>\u001b[0m     \u001b[39melse\u001b[39;00m:\n\u001b[1;32m     <a href='vscode-notebook-cell:/Users/kevin/Documents/Computational%20Methods%20for%20Informatics/cbb634/pset_2/exercise_3.ipynb#W2sZmlsZQ%3D%3D?line=21'>22</a>\u001b[0m         \u001b[39mself\u001b[39m\u001b[39m.\u001b[39mleft\u001b[39m.\u001b[39madd(patient_id, data)\n",
      "\u001b[0;31mTypeError\u001b[0m: Tree.__init__() takes 1 positional argument but 3 were given"
     ]
    }
   ],
   "source": [
    "# Test the class\n",
    "my_tree = Tree()\n",
    "for patient_id, initials in [(24601, \"JV\"), (42, \"DA\"), (7, \"JB\"), (143, \"FR\"), (8675309, \"JNY\")]:\n",
    "    my_tree.add(patient_id, initials)"
   ]
  }
 ],
 "metadata": {
  "kernelspec": {
   "display_name": "Python 3",
   "language": "python",
   "name": "python3"
  },
  "language_info": {
   "codemirror_mode": {
    "name": "ipython",
    "version": 3
   },
   "file_extension": ".py",
   "mimetype": "text/x-python",
   "name": "python",
   "nbconvert_exporter": "python",
   "pygments_lexer": "ipython3",
   "version": "3.11.5"
  },
  "orig_nbformat": 4
 },
 "nbformat": 4,
 "nbformat_minor": 2
}
