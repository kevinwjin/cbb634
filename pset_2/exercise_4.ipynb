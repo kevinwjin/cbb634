{
 "cells": [
  {
   "cell_type": "markdown",
   "metadata": {},
   "source": [
    "# Exercise 4: Final project dataset identification"
   ]
  },
  {
   "cell_type": "markdown",
   "metadata": {},
   "source": [
    "**Dataset Introduction:**"
   ]
  },
  {
   "cell_type": "markdown",
   "metadata": {},
   "source": [
    "**Origin:** This dataset was acquired from [e-Stat](https://www.e-stat.go.jp/), an online portal managed by the National Statistics Center of Japan, which grants access to statistics released by the Ministry of Internal Affairs and Communications, a division of the government of Japan. API access is provided upon user registration."
   ]
  },
  {
   "cell_type": "markdown",
   "metadata": {},
   "source": [
    "**License:** No standardized license is specified. According to the [Terms of Use](https://www.e-stat.go.jp/en/terms-of-use) specified by e-Stat, users are free to use, copy, publicly transmit, translate, or otherwise modify the content provided on the website provided that they:\n",
    "\n",
    "1. Cite the source in a certain prescribed manner, and additionally indicate when the content has been edited (in a way that does not mislead people into thinking that the edits were produced by the government of Japan);\n",
    "2. Avoid infringing on third-party copyright;\n",
    "3. Acknowledge that the government of Japan disavows any and all responsibility for anything the user does with the content."
   ]
  },
  {
   "cell_type": "markdown",
   "metadata": {},
   "source": [
    "**Explanation of interest:**"
   ]
  },
  {
   "cell_type": "markdown",
   "metadata": {},
   "source": [
    "**Potential research questions:**\n",
    "1. \n",
    "2. "
   ]
  }
 ],
 "metadata": {
  "language_info": {
   "name": "python"
  },
  "orig_nbformat": 4
 },
 "nbformat": 4,
 "nbformat_minor": 2
}
