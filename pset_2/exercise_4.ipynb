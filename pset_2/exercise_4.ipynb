{
 "cells": [
  {
   "cell_type": "markdown",
   "metadata": {},
   "source": [
    "# Exercise 4: Final project dataset identification"
   ]
  },
  {
   "cell_type": "markdown",
   "metadata": {},
   "source": [
    "## Dataset Introduction\n",
    "[Japan life expectancy: What factors influence life expectancy in Japan?](https://www.kaggle.com/datasets/gianinamariapetrascu/japan-life-expectancy/data) is a multivariate dataset compiled by Gianina-Maria Petrașcu on Kaggle, containing information about life expectancy, as well as economic and social variables across the prefectures of Japan as of 2020."
   ]
  },
  {
   "cell_type": "markdown",
   "metadata": {},
   "source": [
    "## Origin\n",
    "The first dataset was acquired from Kaggle."
   ]
  },
  {
   "cell_type": "markdown",
   "metadata": {},
   "source": [
    "## License\n",
    "CC0: Public Domain by Creative Commons."
   ]
  },
  {
   "cell_type": "markdown",
   "metadata": {},
   "source": [
    "## Explanation of interest\n"
   ]
  },
  {
   "cell_type": "markdown",
   "metadata": {},
   "source": [
    "## Potential research questions\n",
    "1. \n",
    "2. "
   ]
  },
  {
   "cell_type": "markdown",
   "metadata": {},
   "source": [
    "## Additional considerations\n",
    "Consider adding more demographic data for prefectures, like age, gender, by adding a column for time; prefecture-per-year\n",
    "\n",
    "Can you compare the analysis to Japan?\n",
    "\n",
    "Why is birth rate so low?\n",
    "\n",
    "Income and wages data\n",
    "\n",
    "temporal data from more than 2020"
   ]
  }
 ],
 "metadata": {
  "language_info": {
   "name": "python"
  },
  "orig_nbformat": 4
 },
 "nbformat": 4,
 "nbformat_minor": 2
}
