{
 "cells": [
  {
   "cell_type": "markdown",
   "metadata": {},
   "source": [
    "# Exercise 4: Final project dataset identification"
   ]
  },
  {
   "cell_type": "markdown",
   "metadata": {},
   "source": [
    "## Dataset Introduction\n",
    "[Visa Application by Nationality in Japan](https://www.kaggle.com/datasets/yutodennou/visa-issuance-by-nationality-and-region-in-japan/data) is a multivariate dataset compiled by Waticson on Kaggle. It primarily contains information on numbers of visas issued as well as purpose of visit per country from 2006 to 2017."
   ]
  },
  {
   "cell_type": "markdown",
   "metadata": {},
   "source": [
    "## Origin\n",
    "This dataset was acquired from Kaggle. The data is sourced from eStat, the official online portal for national statistics released by the government of Japan."
   ]
  },
  {
   "cell_type": "markdown",
   "metadata": {},
   "source": [
    "## License\n",
    "[Database Contents License (DbCL) v1.0, from Open Data Commons.](https://opendatacommons.org/licenses/dbcl/1-0/)"
   ]
  },
  {
   "cell_type": "markdown",
   "metadata": {},
   "source": [
    "## Explanation of interest\n",
    "Japan is a nation of many contradictions; among them, it is notorious for reticence to immigration but continues to draw increasing interest from around the world. I am interested in finding out which country applies the most and least for Japanese visas, their reasons for doing so, and how the numbers of visas for different countries have trended over the years. It is also personally relevant to me, as I am strongly considering the possibility of obtaining a work visa there in the future."
   ]
  },
  {
   "cell_type": "markdown",
   "metadata": {},
   "source": [
    "## Potential research questions\n",
    "1. Which countries apply the most and least for work visas in Japan? Has this changed over the years?\n",
    "2. How did the COVID-19 pandemic affect visa applications and purposes of visits across different countries?"
   ]
  },
  {
   "cell_type": "markdown",
   "metadata": {},
   "source": [
    "## Additional considerations\n",
    "As the data cuts off by 2017, and considering that eStat has a publicly accessible API, I intend on extending the dataset before 2006 and after 2017 if possible, to gain a more complete picture of visa applications to Japan that provides a broader view of trends."
   ]
  }
 ],
 "metadata": {
  "language_info": {
   "name": "python"
  },
  "orig_nbformat": 4
 },
 "nbformat": 4,
 "nbformat_minor": 2
}
