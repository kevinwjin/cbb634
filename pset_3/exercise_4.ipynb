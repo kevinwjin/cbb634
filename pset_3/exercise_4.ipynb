{
 "cells": [
  {
   "cell_type": "markdown",
   "metadata": {},
   "source": [
    "# Exercise 4: Parallel merge sort"
   ]
  },
  {
   "cell_type": "code",
   "execution_count": null,
   "metadata": {},
   "outputs": [],
   "source": [
    "# Serial merge sort\n",
    "def merge_sort(data):\n",
    "  if len(data) <= 1:\n",
    "    return data\n",
    "  else:\n",
    "    split = len(data) // 2\n",
    "    left = iter(merge_sort(data[:split]))\n",
    "    right = iter(merge_sort(data[split:]))\n",
    "    result = []\n",
    "    # note: this takes the top items off the left and right piles\n",
    "    left_top = next(left)\n",
    "    right_top = next(right)\n",
    "    while True:\n",
    "      if left_top < right_top:\n",
    "        result.append(left_top)\n",
    "        try:\n",
    "          left_top = next(left)\n",
    "        except StopIteration:\n",
    "          # nothing remains on the left; add the right + return\n",
    "          return result + [right_top] + list(right)\n",
    "      else:\n",
    "        result.append(right_top)\n",
    "        try:\n",
    "          right_top = next(right)\n",
    "        except StopIteration:\n",
    "          # nothing remains on the right; add the left + return\n",
    "          return result + [left_top] + list(left)"
   ]
  },
  {
   "cell_type": "code",
   "execution_count": null,
   "metadata": {},
   "outputs": [],
   "source": [
    "# Plot time complexity of merge_sort()\n",
    "import time\n",
    "start = time.perf_counter()\n",
    "\n",
    "print(time.perf_counter - start)"
   ]
  },
  {
   "cell_type": "code",
   "execution_count": null,
   "metadata": {},
   "outputs": [],
   "source": [
    "# Two-process parallel merge sort\n",
    "import multiprocessing\n",
    "\n",
    "def parallel_merge_sort(data):\n",
    "    pass"
   ]
  },
  {
   "cell_type": "code",
   "execution_count": null,
   "metadata": {},
   "outputs": [],
   "source": [
    "# Comparison of performance"
   ]
  },
  {
   "cell_type": "markdown",
   "metadata": {},
   "source": [
    "**Discussion of findings:** "
   ]
  }
 ],
 "metadata": {
  "language_info": {
   "name": "python"
  }
 },
 "nbformat": 4,
 "nbformat_minor": 2
}
