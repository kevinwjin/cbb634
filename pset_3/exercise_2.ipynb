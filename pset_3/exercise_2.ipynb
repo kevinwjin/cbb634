{
 "cells": [
  {
   "cell_type": "markdown",
   "metadata": {},
   "source": [
    "# Exercise 2: Document-level embedding analysis of PubMed papers with SPECTER"
   ]
  },
  {
   "cell_type": "code",
   "execution_count": null,
   "metadata": {},
   "outputs": [],
   "source": [
    "from transformers import AutoTokenizer, AutoModel\n",
    "\n",
    "# Load SPECTER model and tokenizer\n",
    "tokenizer = AutoTokenizer.from_pretrained(\"allenai/specter\")\n",
    "model = AutoModel.from_pretrained(\"allenai/specter\")"
   ]
  },
  {
   "cell_type": "code",
   "execution_count": null,
   "metadata": {},
   "outputs": [],
   "source": [
    "# Load dictionary of papers\n"
   ]
  },
  {
   "cell_type": "code",
   "execution_count": null,
   "metadata": {},
   "outputs": [],
   "source": [
    "import tqdm\n",
    "\n",
    "# we can use a persistent dictionary (via shelve) so we can stop and restart if needed\n",
    "# alternatively, do the same but with embeddings starting as an empty dictionary\n",
    "embeddings = {}\n",
    "for pmid, paper in tqdm.tqdm(papers.items()):\n",
    "    data = [paper[\"ArticleTitle\"] + tokenizer.sep_token + get_abstract(paper)]\n",
    "    inputs = tokenizer(\n",
    "        data, padding=True, truncation=True, return_tensors=\"pt\", max_length=512\n",
    "    )\n",
    "    result = model(**inputs)\n",
    "    # take the first token in the batch as the embedding\n",
    "    embeddings[pmid] = result.last_hidden_state[:, 0, :].detach().numpy()[0]\n",
    "\n",
    "# turn our dictionary into a list\n",
    "embeddings = [embeddings[pmid] for pmid in papers.keys()]"
   ]
  },
  {
   "cell_type": "code",
   "execution_count": null,
   "metadata": {},
   "outputs": [],
   "source": [
    "# Identify the first three principal components of the paper embeddings\n",
    "from sklearn import decomposition\n",
    "pca = decomposition.PCA(n_components=3)\n",
    "embeddings_pca = pd.DataFrame(\n",
    "    pca.fit_transform(embeddings),\n",
    "    columns=['PC0', 'PC1', 'PC2']\n",
    ")\n",
    "embeddings_pca[\"query\"] = [paper[\"query\"] for paper in papers.values()]"
   ]
  },
  {
   "cell_type": "code",
   "execution_count": null,
   "metadata": {},
   "outputs": [],
   "source": [
    "# Plot 2-D scatter plots for PC0 vs PC1, PC0 vs PC2, PC1 vs PC2, color-coded by search query"
   ]
  },
  {
   "cell_type": "markdown",
   "metadata": {},
   "source": [
    "**Interpretation:**"
   ]
  }
 ],
 "metadata": {
  "kernelspec": {
   "display_name": "Python 3",
   "language": "python",
   "name": "python3"
  },
  "language_info": {
   "name": "python",
   "version": "3.11.6"
  }
 },
 "nbformat": 4,
 "nbformat_minor": 2
}
