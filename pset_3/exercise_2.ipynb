{
 "cells": [
  {
   "cell_type": "markdown",
   "metadata": {},
   "source": [
    "# Exercise 2: Document-level embedding analysis of PubMed papers with SPECTER"
   ]
  },
  {
   "cell_type": "code",
   "execution_count": 2,
   "metadata": {},
   "outputs": [
    {
     "name": "stderr",
     "output_type": "stream",
     "text": [
      "/Users/kevin/.pyenv/versions/3.11.6/envs/cbb634-pytorch/lib/python3.11/site-packages/tqdm/auto.py:21: TqdmWarning: IProgress not found. Please update jupyter and ipywidgets. See https://ipywidgets.readthedocs.io/en/stable/user_install.html\n",
      "  from .autonotebook import tqdm as notebook_tqdm\n",
      "Downloading (…)okenizer_config.json: 100%|██████████| 321/321 [00:00<00:00, 1.60MB/s]\n",
      "Downloading (…)lve/main/config.json: 100%|██████████| 612/612 [00:00<00:00, 4.29MB/s]\n",
      "Downloading (…)solve/main/vocab.txt: 100%|██████████| 222k/222k [00:00<00:00, 8.69MB/s]\n",
      "Downloading (…)cial_tokens_map.json: 100%|██████████| 112/112 [00:00<00:00, 334kB/s]\n",
      "Downloading pytorch_model.bin: 100%|██████████| 440M/440M [00:08<00:00, 54.1MB/s] \n"
     ]
    }
   ],
   "source": [
    "from transformers import AutoTokenizer, AutoModel\n",
    "\n",
    "# Load SPECTER model and tokenizer\n",
    "tokenizer = AutoTokenizer.from_pretrained(\"allenai/specter\")\n",
    "model = AutoModel.from_pretrained(\"allenai/specter\")"
   ]
  },
  {
   "cell_type": "code",
   "execution_count": null,
   "metadata": {},
   "outputs": [],
   "source": [
    "# Load dictionary of papers \n",
    "import json\n",
    "\n",
    "with open(\"papers_dict.json\") as f:\n",
    "    papers_dict = json.load(f)"
   ]
  },
  {
   "cell_type": "code",
   "execution_count": null,
   "metadata": {},
   "outputs": [],
   "source": [
    "# Process papers to find SPECTER embeddings\n",
    "import tqdm\n",
    "\n",
    "# we can use a persistent dictionary (via shelve) so we can stop and restart if needed\n",
    "# alternatively, do the same but with embeddings starting as an empty dictionary\n",
    "embeddings = {}\n",
    "for pmid, paper in tqdm.tqdm(papers.items()):\n",
    "    data = [paper[\"ArticleTitle\"] + tokenizer.sep_token + get_abstract(paper)]\n",
    "    inputs = tokenizer(\n",
    "        data, padding=True, truncation=True, return_tensors=\"pt\", max_length=512\n",
    "    )\n",
    "    result = model(**inputs)\n",
    "    # take the first token in the batch as the embedding\n",
    "    embeddings[pmid] = result.last_hidden_state[:, 0, :].detach().numpy()[0]\n",
    "\n",
    "# turn our dictionary into a list\n",
    "embeddings = [embeddings[pmid] for pmid in papers.keys()]"
   ]
  },
  {
   "cell_type": "code",
   "execution_count": null,
   "metadata": {},
   "outputs": [],
   "source": [
    "# Identify the first three principal components of the paper embeddings\n",
    "from sklearn import decomposition\n",
    "pca = decomposition.PCA(n_components=3)\n",
    "embeddings_pca = pd.DataFrame(\n",
    "    pca.fit_transform(embeddings),\n",
    "    columns=['PC0', 'PC1', 'PC2']\n",
    ")\n",
    "embeddings_pca[\"query\"] = [paper[\"query\"] for paper in papers.values()]"
   ]
  },
  {
   "cell_type": "code",
   "execution_count": null,
   "metadata": {},
   "outputs": [],
   "source": [
    "# Plot 2-D scatter plots for PC0 vs PC1, PC0 vs PC2, PC1 vs PC2, color-coded by search query"
   ]
  },
  {
   "cell_type": "markdown",
   "metadata": {},
   "source": [
    "**Interpretation:**"
   ]
  }
 ],
 "metadata": {
  "kernelspec": {
   "display_name": "Python 3",
   "language": "python",
   "name": "python3"
  },
  "language_info": {
   "codemirror_mode": {
    "name": "ipython",
    "version": 3
   },
   "file_extension": ".py",
   "mimetype": "text/x-python",
   "name": "python",
   "nbconvert_exporter": "python",
   "pygments_lexer": "ipython3",
   "version": "3.11.6"
  }
 },
 "nbformat": 4,
 "nbformat_minor": 2
}
