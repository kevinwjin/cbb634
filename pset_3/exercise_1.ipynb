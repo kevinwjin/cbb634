{
 "cells": [
  {
   "cell_type": "markdown",
   "metadata": {},
   "source": [
    "# Dependencies\n",
    "Execute the following in the terminal before running any notebooks:\n",
    "`pip install -r requirements.txt`"
   ]
  },
  {
   "cell_type": "markdown",
   "metadata": {},
   "source": [
    "# Exercise 1: 1000 Alzheimer's disease and 1000 cancer papers from PubMed "
   ]
  },
  {
   "cell_type": "code",
   "execution_count": 12,
   "metadata": {},
   "outputs": [],
   "source": [
    "# Query NIH Entrez API for PubMed IDs of search term and year and save response to JSON\n",
    "import requests\n",
    "\n",
    "def get_pmids(term, year, retmax):\n",
    "    r = requests.get(f\"https://eutils.ncbi.nlm.nih.gov/entrez/eutils/esearch.fcgi?db=pubmed&term={term}+AND+{year}[pdat]&retmode=json&retmax={retmax}\")\n",
    "    \n",
    "    with open(f'{term}_pmids.json', 'wb') as f:\n",
    "        f.write(r.content)\n",
    "\n",
    "get_pmids(\"Alzheimers\", \"2023\", 1000)\n",
    "get_pmids(\"cancer\", \"2023\", 1000)"
   ]
  },
  {
   "cell_type": "code",
   "execution_count": 17,
   "metadata": {},
   "outputs": [
    {
     "name": "stdout",
     "output_type": "stream",
     "text": [
      "Deep Learning for Alzheimer's Disease Classification using Texture Features.\n",
      "We propose a classification method for Alzheimer's disease (AD) based on the texture of the hippocampus, which is the organ that is most affected by the onset of AD.\n"
     ]
    }
   ],
   "source": [
    "# Query Entrez for metadata of a PubMed paper given its PMID\n",
    "import json\n",
    "import xml.dom.minidom as m\n",
    "\n",
    "def get_metadata(pmid):\n",
    "    r = requests.get(\"https://eutils.ncbi.nlm.nih.gov/entrez/eutils/\"\n",
    "                     f\"efetch.fcgi?db=pubmed&retmode=xml&id={pmid}\")\n",
    "    doc = m.parseString(r.text)\n",
    "    titles = doc.getElementsByTagName(\"ArticleTitle\")\n",
    "    abstracts = doc.getElementsByTagName(\"AbstractText\")\n",
    "    title = titles[0].childNodes[0].wholeText\n",
    "    abstract = abstracts[0].childNodes[0].wholeText\n",
    "    return title, abstract\n",
    "\n",
    "title, abstract = get_metadata(32008517)\n",
    "print(title)\n",
    "print(abstract)"
   ]
  },
  {
   "cell_type": "code",
   "execution_count": null,
   "metadata": {},
   "outputs": [],
   "source": [
    "# Process all papers and save metadata to JSON\n",
    "# Consider caching the API call when first querying it to avoid recalculating the same thing."
   ]
  }
 ],
 "metadata": {
  "kernelspec": {
   "display_name": "Python 3",
   "language": "python",
   "name": "python3"
  },
  "language_info": {
   "codemirror_mode": {
    "name": "ipython",
    "version": 3
   },
   "file_extension": ".py",
   "mimetype": "text/x-python",
   "name": "python",
   "nbconvert_exporter": "python",
   "pygments_lexer": "ipython3",
   "version": "3.11.5"
  }
 },
 "nbformat": 4,
 "nbformat_minor": 2
}
